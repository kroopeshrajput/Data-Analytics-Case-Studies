{
 "cells": [
  {
   "cell_type": "code",
   "execution_count": 129,
   "id": "12b034c9",
   "metadata": {},
   "outputs": [],
   "source": [
    "import pandas as pd\n",
    "import numpy as np\n",
    "import matplotlib.pyplot as plt\n",
    "import seaborn as sns\n",
    "%matplotlib inline"
   ]
  },
  {
   "cell_type": "code",
   "execution_count": 36,
   "id": "567b3eaf",
   "metadata": {},
   "outputs": [
    {
     "data": {
      "text/html": [
       "<div>\n",
       "<style scoped>\n",
       "    .dataframe tbody tr th:only-of-type {\n",
       "        vertical-align: middle;\n",
       "    }\n",
       "\n",
       "    .dataframe tbody tr th {\n",
       "        vertical-align: top;\n",
       "    }\n",
       "\n",
       "    .dataframe thead th {\n",
       "        text-align: right;\n",
       "    }\n",
       "</style>\n",
       "<table border=\"1\" class=\"dataframe\">\n",
       "  <thead>\n",
       "    <tr style=\"text-align: right;\">\n",
       "      <th></th>\n",
       "      <th>No</th>\n",
       "      <th>Customer</th>\n",
       "      <th>Age</th>\n",
       "      <th>City</th>\n",
       "      <th>Product</th>\n",
       "      <th>Limit</th>\n",
       "      <th>Company</th>\n",
       "      <th>Segment</th>\n",
       "    </tr>\n",
       "  </thead>\n",
       "  <tbody>\n",
       "    <tr>\n",
       "      <th>0</th>\n",
       "      <td>1</td>\n",
       "      <td>A1</td>\n",
       "      <td>76</td>\n",
       "      <td>BANGALORE</td>\n",
       "      <td>Gold</td>\n",
       "      <td>500000.0</td>\n",
       "      <td>C1</td>\n",
       "      <td>Self Employed</td>\n",
       "    </tr>\n",
       "    <tr>\n",
       "      <th>1</th>\n",
       "      <td>2</td>\n",
       "      <td>A2</td>\n",
       "      <td>71</td>\n",
       "      <td>CALCUTTA</td>\n",
       "      <td>Silver</td>\n",
       "      <td>100000.0</td>\n",
       "      <td>C2</td>\n",
       "      <td>Salaried_MNC</td>\n",
       "    </tr>\n",
       "  </tbody>\n",
       "</table>\n",
       "</div>"
      ],
      "text/plain": [
       "   No Customer  Age       City Product     Limit Company        Segment\n",
       "0   1       A1   76  BANGALORE    Gold  500000.0      C1  Self Employed\n",
       "1   2       A2   71   CALCUTTA  Silver  100000.0      C2   Salaried_MNC"
      ]
     },
     "execution_count": 36,
     "metadata": {},
     "output_type": "execute_result"
    }
   ],
   "source": [
    "customer= pd.read_csv(\"C:\\Analytixlabs\\Learning\\Python for Data Science\\Case Study\\Python Foundation Case Study 2 - Credit Card Case Study\\Customer Acqusition.csv\")\n",
    "customer.head(2)"
   ]
  },
  {
   "cell_type": "code",
   "execution_count": 5,
   "id": "67c3b0c2",
   "metadata": {},
   "outputs": [
    {
     "data": {
      "text/html": [
       "<div>\n",
       "<style scoped>\n",
       "    .dataframe tbody tr th:only-of-type {\n",
       "        vertical-align: middle;\n",
       "    }\n",
       "\n",
       "    .dataframe tbody tr th {\n",
       "        vertical-align: top;\n",
       "    }\n",
       "\n",
       "    .dataframe thead th {\n",
       "        text-align: right;\n",
       "    }\n",
       "</style>\n",
       "<table border=\"1\" class=\"dataframe\">\n",
       "  <thead>\n",
       "    <tr style=\"text-align: right;\">\n",
       "      <th></th>\n",
       "      <th>Sl No:</th>\n",
       "      <th>Customer</th>\n",
       "      <th>Month</th>\n",
       "      <th>Type</th>\n",
       "      <th>Amount</th>\n",
       "    </tr>\n",
       "  </thead>\n",
       "  <tbody>\n",
       "    <tr>\n",
       "      <th>0</th>\n",
       "      <td>1</td>\n",
       "      <td>A1</td>\n",
       "      <td>12-Jan-04</td>\n",
       "      <td>JEWELLERY</td>\n",
       "      <td>485470.80</td>\n",
       "    </tr>\n",
       "    <tr>\n",
       "      <th>1</th>\n",
       "      <td>2</td>\n",
       "      <td>A1</td>\n",
       "      <td>3-Jan-04</td>\n",
       "      <td>PETRO</td>\n",
       "      <td>410556.13</td>\n",
       "    </tr>\n",
       "  </tbody>\n",
       "</table>\n",
       "</div>"
      ],
      "text/plain": [
       "   Sl No: Customer      Month       Type     Amount\n",
       "0       1       A1  12-Jan-04  JEWELLERY  485470.80\n",
       "1       2       A1   3-Jan-04      PETRO  410556.13"
      ]
     },
     "execution_count": 5,
     "metadata": {},
     "output_type": "execute_result"
    }
   ],
   "source": [
    "spend= pd.read_csv(\"C:\\Analytixlabs\\Learning\\Python for Data Science\\Case Study\\Python Foundation Case Study 2 - Credit Card Case Study\\spend.csv\")\n",
    "spend.head(2)"
   ]
  },
  {
   "cell_type": "code",
   "execution_count": 7,
   "id": "7ec2d098",
   "metadata": {},
   "outputs": [
    {
     "data": {
      "text/html": [
       "<div>\n",
       "<style scoped>\n",
       "    .dataframe tbody tr th:only-of-type {\n",
       "        vertical-align: middle;\n",
       "    }\n",
       "\n",
       "    .dataframe tbody tr th {\n",
       "        vertical-align: top;\n",
       "    }\n",
       "\n",
       "    .dataframe thead th {\n",
       "        text-align: right;\n",
       "    }\n",
       "</style>\n",
       "<table border=\"1\" class=\"dataframe\">\n",
       "  <thead>\n",
       "    <tr style=\"text-align: right;\">\n",
       "      <th></th>\n",
       "      <th>SL No:</th>\n",
       "      <th>Customer</th>\n",
       "      <th>Month</th>\n",
       "      <th>Amount</th>\n",
       "      <th>Unnamed: 4</th>\n",
       "    </tr>\n",
       "  </thead>\n",
       "  <tbody>\n",
       "    <tr>\n",
       "      <th>0</th>\n",
       "      <td>NaN</td>\n",
       "      <td>A1</td>\n",
       "      <td>12-Jan-04</td>\n",
       "      <td>495414.75</td>\n",
       "      <td>NaN</td>\n",
       "    </tr>\n",
       "    <tr>\n",
       "      <th>1</th>\n",
       "      <td>2.0</td>\n",
       "      <td>A1</td>\n",
       "      <td>3-Jan-04</td>\n",
       "      <td>245899.02</td>\n",
       "      <td>NaN</td>\n",
       "    </tr>\n",
       "  </tbody>\n",
       "</table>\n",
       "</div>"
      ],
      "text/plain": [
       "   SL No: Customer      Month     Amount  Unnamed: 4\n",
       "0     NaN       A1  12-Jan-04  495414.75         NaN\n",
       "1     2.0       A1   3-Jan-04  245899.02         NaN"
      ]
     },
     "execution_count": 7,
     "metadata": {},
     "output_type": "execute_result"
    }
   ],
   "source": [
    "repay= pd.read_csv(\"C:\\Analytixlabs\\Learning\\Python for Data Science\\Case Study\\Python Foundation Case Study 2 - Credit Card Case Study\\Repayment.csv\")\n",
    "repay.head(2)"
   ]
  },
  {
   "cell_type": "code",
   "execution_count": 37,
   "id": "e07a1189",
   "metadata": {},
   "outputs": [
    {
     "data": {
      "text/plain": [
       "No            int64\n",
       "Customer     object\n",
       "Age           int64\n",
       "City         object\n",
       "Product      object\n",
       "Limit       float64\n",
       "Company      object\n",
       "Segment      object\n",
       "dtype: object"
      ]
     },
     "execution_count": 37,
     "metadata": {},
     "output_type": "execute_result"
    }
   ],
   "source": [
    "customer.dtypes"
   ]
  },
  {
   "cell_type": "code",
   "execution_count": 38,
   "id": "685d241e",
   "metadata": {},
   "outputs": [
    {
     "data": {
      "text/plain": [
       "Sl No:        int64\n",
       "Customer     object\n",
       "Month        object\n",
       "Type         object\n",
       "Amount      float64\n",
       "dtype: object"
      ]
     },
     "execution_count": 38,
     "metadata": {},
     "output_type": "execute_result"
    }
   ],
   "source": [
    "spend.dtypes"
   ]
  },
  {
   "cell_type": "code",
   "execution_count": 39,
   "id": "c6b8421a",
   "metadata": {},
   "outputs": [
    {
     "data": {
      "text/plain": [
       "SL No:        float64\n",
       "Customer       object\n",
       "Month          object\n",
       "Amount        float64\n",
       "Unnamed: 4    float64\n",
       "dtype: object"
      ]
     },
     "execution_count": 39,
     "metadata": {},
     "output_type": "execute_result"
    }
   ],
   "source": [
    "repay.dtypes"
   ]
  },
  {
   "cell_type": "markdown",
   "id": "b0ffcc9f",
   "metadata": {},
   "source": [
    "#### Following are some of Mr. Watson’s questions to a Consultant (like you) to understand the customers spend & repayment behavior.\n",
    "#####  1. In the above dataset,\n",
    "###### a. In case age is less than 18, replace it with mean of age values.\n"
   ]
  },
  {
   "cell_type": "code",
   "execution_count": 13,
   "id": "70cf1d3f",
   "metadata": {},
   "outputs": [
    {
     "data": {
      "text/plain": [
       "48.399399999999986"
      ]
     },
     "execution_count": 13,
     "metadata": {},
     "output_type": "execute_result"
    }
   ],
   "source": [
    "age = customer.loc[customer['Age'] < 18,'Age'] = customer.Age.mean()\n",
    "age"
   ]
  },
  {
   "cell_type": "markdown",
   "id": "47498c2f",
   "metadata": {},
   "source": [
    "###### b. In case spend amount is more than the limit, replace it with 50% of that customer’s limit. \n",
    "###### (customer’s limit provided in acquisition table is the per transaction limit on his card)"
   ]
  },
  {
   "cell_type": "code",
   "execution_count": 42,
   "id": "ad884395",
   "metadata": {},
   "outputs": [
    {
     "data": {
      "text/html": [
       "<div>\n",
       "<style scoped>\n",
       "    .dataframe tbody tr th:only-of-type {\n",
       "        vertical-align: middle;\n",
       "    }\n",
       "\n",
       "    .dataframe tbody tr th {\n",
       "        vertical-align: top;\n",
       "    }\n",
       "\n",
       "    .dataframe thead th {\n",
       "        text-align: right;\n",
       "    }\n",
       "</style>\n",
       "<table border=\"1\" class=\"dataframe\">\n",
       "  <thead>\n",
       "    <tr style=\"text-align: right;\">\n",
       "      <th></th>\n",
       "      <th>No</th>\n",
       "      <th>Customer</th>\n",
       "      <th>Age</th>\n",
       "      <th>City</th>\n",
       "      <th>Product</th>\n",
       "      <th>Limit</th>\n",
       "      <th>Company</th>\n",
       "      <th>Segment</th>\n",
       "      <th>Sl No:</th>\n",
       "      <th>Month</th>\n",
       "      <th>Type</th>\n",
       "      <th>Amount</th>\n",
       "      <th>_merge</th>\n",
       "    </tr>\n",
       "  </thead>\n",
       "  <tbody>\n",
       "    <tr>\n",
       "      <th>0</th>\n",
       "      <td>1</td>\n",
       "      <td>A1</td>\n",
       "      <td>76</td>\n",
       "      <td>BANGALORE</td>\n",
       "      <td>Gold</td>\n",
       "      <td>500000.0</td>\n",
       "      <td>C1</td>\n",
       "      <td>Self Employed</td>\n",
       "      <td>1</td>\n",
       "      <td>12-Jan-04</td>\n",
       "      <td>JEWELLERY</td>\n",
       "      <td>485470.80</td>\n",
       "      <td>both</td>\n",
       "    </tr>\n",
       "    <tr>\n",
       "      <th>1</th>\n",
       "      <td>1</td>\n",
       "      <td>A1</td>\n",
       "      <td>76</td>\n",
       "      <td>BANGALORE</td>\n",
       "      <td>Gold</td>\n",
       "      <td>500000.0</td>\n",
       "      <td>C1</td>\n",
       "      <td>Self Employed</td>\n",
       "      <td>2</td>\n",
       "      <td>3-Jan-04</td>\n",
       "      <td>PETRO</td>\n",
       "      <td>410556.13</td>\n",
       "      <td>both</td>\n",
       "    </tr>\n",
       "  </tbody>\n",
       "</table>\n",
       "</div>"
      ],
      "text/plain": [
       "   No Customer  Age       City Product     Limit Company        Segment  \\\n",
       "0   1       A1   76  BANGALORE    Gold  500000.0      C1  Self Employed   \n",
       "1   1       A1   76  BANGALORE    Gold  500000.0      C1  Self Employed   \n",
       "\n",
       "   Sl No:      Month       Type     Amount _merge  \n",
       "0       1  12-Jan-04  JEWELLERY  485470.80   both  \n",
       "1       2   3-Jan-04      PETRO  410556.13   both  "
      ]
     },
     "execution_count": 42,
     "metadata": {},
     "output_type": "execute_result"
    }
   ],
   "source": [
    "cus_spd= pd.merge(left= customer, right= spend,\n",
    "                  on= 'Customer', how= 'inner',\n",
    "                  indicator= True)\n",
    "cus_spd.head(2)"
   ]
  },
  {
   "cell_type": "code",
   "execution_count": 46,
   "id": "473dcc6d",
   "metadata": {},
   "outputs": [
    {
     "data": {
      "text/html": [
       "<div>\n",
       "<style scoped>\n",
       "    .dataframe tbody tr th:only-of-type {\n",
       "        vertical-align: middle;\n",
       "    }\n",
       "\n",
       "    .dataframe tbody tr th {\n",
       "        vertical-align: top;\n",
       "    }\n",
       "\n",
       "    .dataframe thead th {\n",
       "        text-align: right;\n",
       "    }\n",
       "</style>\n",
       "<table border=\"1\" class=\"dataframe\">\n",
       "  <thead>\n",
       "    <tr style=\"text-align: right;\">\n",
       "      <th></th>\n",
       "      <th>No</th>\n",
       "      <th>Customer</th>\n",
       "      <th>Age</th>\n",
       "      <th>City</th>\n",
       "      <th>Product</th>\n",
       "      <th>Limit</th>\n",
       "      <th>Company</th>\n",
       "      <th>Segment</th>\n",
       "      <th>Sl No:</th>\n",
       "      <th>Month</th>\n",
       "      <th>Type</th>\n",
       "      <th>Amount</th>\n",
       "      <th>_merge</th>\n",
       "    </tr>\n",
       "  </thead>\n",
       "  <tbody>\n",
       "    <tr>\n",
       "      <th>18</th>\n",
       "      <td>2</td>\n",
       "      <td>A2</td>\n",
       "      <td>71</td>\n",
       "      <td>CALCUTTA</td>\n",
       "      <td>Silver</td>\n",
       "      <td>100000.0</td>\n",
       "      <td>C2</td>\n",
       "      <td>Salaried_MNC</td>\n",
       "      <td>104</td>\n",
       "      <td>3-Jan-04</td>\n",
       "      <td>RENTAL</td>\n",
       "      <td>199554.72</td>\n",
       "      <td>both</td>\n",
       "    </tr>\n",
       "    <tr>\n",
       "      <th>19</th>\n",
       "      <td>2</td>\n",
       "      <td>A2</td>\n",
       "      <td>71</td>\n",
       "      <td>CALCUTTA</td>\n",
       "      <td>Silver</td>\n",
       "      <td>100000.0</td>\n",
       "      <td>C2</td>\n",
       "      <td>Salaried_MNC</td>\n",
       "      <td>118</td>\n",
       "      <td>28-Feb-05</td>\n",
       "      <td>TRAIN TICKET</td>\n",
       "      <td>376887.49</td>\n",
       "      <td>both</td>\n",
       "    </tr>\n",
       "    <tr>\n",
       "      <th>20</th>\n",
       "      <td>2</td>\n",
       "      <td>A2</td>\n",
       "      <td>71</td>\n",
       "      <td>CALCUTTA</td>\n",
       "      <td>Silver</td>\n",
       "      <td>100000.0</td>\n",
       "      <td>C2</td>\n",
       "      <td>Salaried_MNC</td>\n",
       "      <td>132</td>\n",
       "      <td>6-Apr-04</td>\n",
       "      <td>BUS TICKET</td>\n",
       "      <td>439648.53</td>\n",
       "      <td>both</td>\n",
       "    </tr>\n",
       "    <tr>\n",
       "      <th>21</th>\n",
       "      <td>2</td>\n",
       "      <td>A2</td>\n",
       "      <td>71</td>\n",
       "      <td>CALCUTTA</td>\n",
       "      <td>Silver</td>\n",
       "      <td>100000.0</td>\n",
       "      <td>C2</td>\n",
       "      <td>Salaried_MNC</td>\n",
       "      <td>146</td>\n",
       "      <td>23-Nov-04</td>\n",
       "      <td>PETRO</td>\n",
       "      <td>384078.73</td>\n",
       "      <td>both</td>\n",
       "    </tr>\n",
       "    <tr>\n",
       "      <th>22</th>\n",
       "      <td>2</td>\n",
       "      <td>A2</td>\n",
       "      <td>71</td>\n",
       "      <td>CALCUTTA</td>\n",
       "      <td>Silver</td>\n",
       "      <td>100000.0</td>\n",
       "      <td>C2</td>\n",
       "      <td>Salaried_MNC</td>\n",
       "      <td>160</td>\n",
       "      <td>3-Sep-05</td>\n",
       "      <td>JEWELLERY</td>\n",
       "      <td>117089.16</td>\n",
       "      <td>both</td>\n",
       "    </tr>\n",
       "    <tr>\n",
       "      <th>...</th>\n",
       "      <td>...</td>\n",
       "      <td>...</td>\n",
       "      <td>...</td>\n",
       "      <td>...</td>\n",
       "      <td>...</td>\n",
       "      <td>...</td>\n",
       "      <td>...</td>\n",
       "      <td>...</td>\n",
       "      <td>...</td>\n",
       "      <td>...</td>\n",
       "      <td>...</td>\n",
       "      <td>...</td>\n",
       "      <td>...</td>\n",
       "    </tr>\n",
       "    <tr>\n",
       "      <th>1486</th>\n",
       "      <td>87</td>\n",
       "      <td>A87</td>\n",
       "      <td>27</td>\n",
       "      <td>CALCUTTA</td>\n",
       "      <td>Silver</td>\n",
       "      <td>100003.0</td>\n",
       "      <td>C10</td>\n",
       "      <td>Govt</td>\n",
       "      <td>89</td>\n",
       "      <td>30-Mar-06</td>\n",
       "      <td>RENTAL</td>\n",
       "      <td>483886.62</td>\n",
       "      <td>both</td>\n",
       "    </tr>\n",
       "    <tr>\n",
       "      <th>1496</th>\n",
       "      <td>97</td>\n",
       "      <td>A97</td>\n",
       "      <td>58</td>\n",
       "      <td>TRIVANDRUM</td>\n",
       "      <td>Platimum</td>\n",
       "      <td>10000.0</td>\n",
       "      <td>C20</td>\n",
       "      <td>Govt</td>\n",
       "      <td>99</td>\n",
       "      <td>12-Jan-04</td>\n",
       "      <td>AUTO</td>\n",
       "      <td>139018.26</td>\n",
       "      <td>both</td>\n",
       "    </tr>\n",
       "    <tr>\n",
       "      <th>1497</th>\n",
       "      <td>98</td>\n",
       "      <td>A98</td>\n",
       "      <td>51</td>\n",
       "      <td>CALCUTTA</td>\n",
       "      <td>Platimum</td>\n",
       "      <td>10001.0</td>\n",
       "      <td>C21</td>\n",
       "      <td>Normal Salary</td>\n",
       "      <td>100</td>\n",
       "      <td>3-Jan-04</td>\n",
       "      <td>SHOPPING</td>\n",
       "      <td>284521.06</td>\n",
       "      <td>both</td>\n",
       "    </tr>\n",
       "    <tr>\n",
       "      <th>1498</th>\n",
       "      <td>99</td>\n",
       "      <td>A99</td>\n",
       "      <td>35</td>\n",
       "      <td>CALCUTTA</td>\n",
       "      <td>Platimum</td>\n",
       "      <td>10002.0</td>\n",
       "      <td>C22</td>\n",
       "      <td>Self Employed</td>\n",
       "      <td>101</td>\n",
       "      <td>15-Jan-04</td>\n",
       "      <td>AIR TICKET</td>\n",
       "      <td>90184.22</td>\n",
       "      <td>both</td>\n",
       "    </tr>\n",
       "    <tr>\n",
       "      <th>1499</th>\n",
       "      <td>100</td>\n",
       "      <td>A100</td>\n",
       "      <td>36</td>\n",
       "      <td>COCHIN</td>\n",
       "      <td>Silver</td>\n",
       "      <td>100000.0</td>\n",
       "      <td>C5</td>\n",
       "      <td>Salaried_MNC</td>\n",
       "      <td>102</td>\n",
       "      <td>25-Jan-04</td>\n",
       "      <td>BUS TICKET</td>\n",
       "      <td>224786.88</td>\n",
       "      <td>both</td>\n",
       "    </tr>\n",
       "  </tbody>\n",
       "</table>\n",
       "<p>607 rows × 13 columns</p>\n",
       "</div>"
      ],
      "text/plain": [
       "       No Customer  Age        City   Product     Limit Company  \\\n",
       "18      2       A2   71    CALCUTTA    Silver  100000.0      C2   \n",
       "19      2       A2   71    CALCUTTA    Silver  100000.0      C2   \n",
       "20      2       A2   71    CALCUTTA    Silver  100000.0      C2   \n",
       "21      2       A2   71    CALCUTTA    Silver  100000.0      C2   \n",
       "22      2       A2   71    CALCUTTA    Silver  100000.0      C2   \n",
       "...   ...      ...  ...         ...       ...       ...     ...   \n",
       "1486   87      A87   27    CALCUTTA    Silver  100003.0     C10   \n",
       "1496   97      A97   58  TRIVANDRUM  Platimum   10000.0     C20   \n",
       "1497   98      A98   51    CALCUTTA  Platimum   10001.0     C21   \n",
       "1498   99      A99   35    CALCUTTA  Platimum   10002.0     C22   \n",
       "1499  100     A100   36      COCHIN    Silver  100000.0      C5   \n",
       "\n",
       "            Segment  Sl No:      Month          Type     Amount _merge  \n",
       "18     Salaried_MNC     104   3-Jan-04        RENTAL  199554.72   both  \n",
       "19     Salaried_MNC     118  28-Feb-05  TRAIN TICKET  376887.49   both  \n",
       "20     Salaried_MNC     132   6-Apr-04    BUS TICKET  439648.53   both  \n",
       "21     Salaried_MNC     146  23-Nov-04         PETRO  384078.73   both  \n",
       "22     Salaried_MNC     160   3-Sep-05     JEWELLERY  117089.16   both  \n",
       "...             ...     ...        ...           ...        ...    ...  \n",
       "1486           Govt      89  30-Mar-06        RENTAL  483886.62   both  \n",
       "1496           Govt      99  12-Jan-04          AUTO  139018.26   both  \n",
       "1497  Normal Salary     100   3-Jan-04      SHOPPING  284521.06   both  \n",
       "1498  Self Employed     101  15-Jan-04    AIR TICKET   90184.22   both  \n",
       "1499   Salaried_MNC     102  25-Jan-04    BUS TICKET  224786.88   both  \n",
       "\n",
       "[607 rows x 13 columns]"
      ]
     },
     "execution_count": 46,
     "metadata": {},
     "output_type": "execute_result"
    }
   ],
   "source": [
    "cus_spd[cus_spd['Amount']>cus_spd['Limit']]"
   ]
  },
  {
   "cell_type": "code",
   "execution_count": 49,
   "id": "669a35a3",
   "metadata": {},
   "outputs": [],
   "source": [
    "cus_spd.loc[cus_spd['Amount']> cus_spd['Limit'], 'Amount'] = 0.5*cus_spd['Limit']"
   ]
  },
  {
   "cell_type": "code",
   "execution_count": 51,
   "id": "cf99f691",
   "metadata": {},
   "outputs": [
    {
     "data": {
      "text/html": [
       "<div>\n",
       "<style scoped>\n",
       "    .dataframe tbody tr th:only-of-type {\n",
       "        vertical-align: middle;\n",
       "    }\n",
       "\n",
       "    .dataframe tbody tr th {\n",
       "        vertical-align: top;\n",
       "    }\n",
       "\n",
       "    .dataframe thead th {\n",
       "        text-align: right;\n",
       "    }\n",
       "</style>\n",
       "<table border=\"1\" class=\"dataframe\">\n",
       "  <thead>\n",
       "    <tr style=\"text-align: right;\">\n",
       "      <th></th>\n",
       "      <th>No</th>\n",
       "      <th>Customer</th>\n",
       "      <th>Age</th>\n",
       "      <th>City</th>\n",
       "      <th>Product</th>\n",
       "      <th>Limit</th>\n",
       "      <th>Company</th>\n",
       "      <th>Segment</th>\n",
       "      <th>Sl No:</th>\n",
       "      <th>Month</th>\n",
       "      <th>Type</th>\n",
       "      <th>Amount</th>\n",
       "      <th>_merge</th>\n",
       "    </tr>\n",
       "  </thead>\n",
       "  <tbody>\n",
       "  </tbody>\n",
       "</table>\n",
       "</div>"
      ],
      "text/plain": [
       "Empty DataFrame\n",
       "Columns: [No, Customer, Age, City, Product, Limit, Company, Segment, Sl No:, Month, Type, Amount, _merge]\n",
       "Index: []"
      ]
     },
     "execution_count": 51,
     "metadata": {},
     "output_type": "execute_result"
    }
   ],
   "source": [
    "cus_spd[cus_spd['Amount'] > cus_spd['Limit']]"
   ]
  },
  {
   "cell_type": "code",
   "execution_count": 55,
   "id": "68ccd533",
   "metadata": {},
   "outputs": [
    {
     "data": {
      "text/html": [
       "<div>\n",
       "<style scoped>\n",
       "    .dataframe tbody tr th:only-of-type {\n",
       "        vertical-align: middle;\n",
       "    }\n",
       "\n",
       "    .dataframe tbody tr th {\n",
       "        vertical-align: top;\n",
       "    }\n",
       "\n",
       "    .dataframe thead th {\n",
       "        text-align: right;\n",
       "    }\n",
       "</style>\n",
       "<table border=\"1\" class=\"dataframe\">\n",
       "  <thead>\n",
       "    <tr style=\"text-align: right;\">\n",
       "      <th></th>\n",
       "      <th>No</th>\n",
       "      <th>Customer</th>\n",
       "      <th>Age</th>\n",
       "      <th>City</th>\n",
       "      <th>Product</th>\n",
       "      <th>Limit</th>\n",
       "      <th>Company</th>\n",
       "      <th>Segment</th>\n",
       "      <th>Sl No:</th>\n",
       "      <th>Month</th>\n",
       "      <th>Type</th>\n",
       "      <th>Amount</th>\n",
       "      <th>_merge</th>\n",
       "    </tr>\n",
       "  </thead>\n",
       "  <tbody>\n",
       "    <tr>\n",
       "      <th>1495</th>\n",
       "      <td>96</td>\n",
       "      <td>A96</td>\n",
       "      <td>54</td>\n",
       "      <td>CHENNAI</td>\n",
       "      <td>Silver</td>\n",
       "      <td>100000.0</td>\n",
       "      <td>C19</td>\n",
       "      <td>Salaried_Pvt</td>\n",
       "      <td>98</td>\n",
       "      <td>25-Jan-04</td>\n",
       "      <td>BIKE</td>\n",
       "      <td>54729.66</td>\n",
       "      <td>both</td>\n",
       "    </tr>\n",
       "    <tr>\n",
       "      <th>1496</th>\n",
       "      <td>97</td>\n",
       "      <td>A97</td>\n",
       "      <td>58</td>\n",
       "      <td>TRIVANDRUM</td>\n",
       "      <td>Platimum</td>\n",
       "      <td>10000.0</td>\n",
       "      <td>C20</td>\n",
       "      <td>Govt</td>\n",
       "      <td>99</td>\n",
       "      <td>12-Jan-04</td>\n",
       "      <td>AUTO</td>\n",
       "      <td>5000.00</td>\n",
       "      <td>both</td>\n",
       "    </tr>\n",
       "    <tr>\n",
       "      <th>1497</th>\n",
       "      <td>98</td>\n",
       "      <td>A98</td>\n",
       "      <td>51</td>\n",
       "      <td>CALCUTTA</td>\n",
       "      <td>Platimum</td>\n",
       "      <td>10001.0</td>\n",
       "      <td>C21</td>\n",
       "      <td>Normal Salary</td>\n",
       "      <td>100</td>\n",
       "      <td>3-Jan-04</td>\n",
       "      <td>SHOPPING</td>\n",
       "      <td>5000.50</td>\n",
       "      <td>both</td>\n",
       "    </tr>\n",
       "    <tr>\n",
       "      <th>1498</th>\n",
       "      <td>99</td>\n",
       "      <td>A99</td>\n",
       "      <td>35</td>\n",
       "      <td>CALCUTTA</td>\n",
       "      <td>Platimum</td>\n",
       "      <td>10002.0</td>\n",
       "      <td>C22</td>\n",
       "      <td>Self Employed</td>\n",
       "      <td>101</td>\n",
       "      <td>15-Jan-04</td>\n",
       "      <td>AIR TICKET</td>\n",
       "      <td>5001.00</td>\n",
       "      <td>both</td>\n",
       "    </tr>\n",
       "    <tr>\n",
       "      <th>1499</th>\n",
       "      <td>100</td>\n",
       "      <td>A100</td>\n",
       "      <td>36</td>\n",
       "      <td>COCHIN</td>\n",
       "      <td>Silver</td>\n",
       "      <td>100000.0</td>\n",
       "      <td>C5</td>\n",
       "      <td>Salaried_MNC</td>\n",
       "      <td>102</td>\n",
       "      <td>25-Jan-04</td>\n",
       "      <td>BUS TICKET</td>\n",
       "      <td>50000.00</td>\n",
       "      <td>both</td>\n",
       "    </tr>\n",
       "  </tbody>\n",
       "</table>\n",
       "</div>"
      ],
      "text/plain": [
       "       No Customer  Age        City   Product     Limit Company  \\\n",
       "1495   96      A96   54     CHENNAI    Silver  100000.0     C19   \n",
       "1496   97      A97   58  TRIVANDRUM  Platimum   10000.0     C20   \n",
       "1497   98      A98   51    CALCUTTA  Platimum   10001.0     C21   \n",
       "1498   99      A99   35    CALCUTTA  Platimum   10002.0     C22   \n",
       "1499  100     A100   36      COCHIN    Silver  100000.0      C5   \n",
       "\n",
       "            Segment  Sl No:      Month        Type    Amount _merge  \n",
       "1495   Salaried_Pvt      98  25-Jan-04        BIKE  54729.66   both  \n",
       "1496           Govt      99  12-Jan-04        AUTO   5000.00   both  \n",
       "1497  Normal Salary     100   3-Jan-04    SHOPPING   5000.50   both  \n",
       "1498  Self Employed     101  15-Jan-04  AIR TICKET   5001.00   both  \n",
       "1499   Salaried_MNC     102  25-Jan-04  BUS TICKET  50000.00   both  "
      ]
     },
     "execution_count": 55,
     "metadata": {},
     "output_type": "execute_result"
    }
   ],
   "source": [
    "cus_spd.tail()"
   ]
  },
  {
   "cell_type": "markdown",
   "id": "e270ee6a",
   "metadata": {},
   "source": [
    "###### c. Incase the repayment amount is more than the limit, replace the repayment with the limit."
   ]
  },
  {
   "cell_type": "code",
   "execution_count": 56,
   "id": "ac8a589d",
   "metadata": {},
   "outputs": [
    {
     "data": {
      "text/html": [
       "<div>\n",
       "<style scoped>\n",
       "    .dataframe tbody tr th:only-of-type {\n",
       "        vertical-align: middle;\n",
       "    }\n",
       "\n",
       "    .dataframe tbody tr th {\n",
       "        vertical-align: top;\n",
       "    }\n",
       "\n",
       "    .dataframe thead th {\n",
       "        text-align: right;\n",
       "    }\n",
       "</style>\n",
       "<table border=\"1\" class=\"dataframe\">\n",
       "  <thead>\n",
       "    <tr style=\"text-align: right;\">\n",
       "      <th></th>\n",
       "      <th>No</th>\n",
       "      <th>Customer</th>\n",
       "      <th>Age</th>\n",
       "      <th>City</th>\n",
       "      <th>Product</th>\n",
       "      <th>Limit</th>\n",
       "      <th>Company</th>\n",
       "      <th>Segment</th>\n",
       "      <th>SL No:</th>\n",
       "      <th>Month</th>\n",
       "      <th>Amount</th>\n",
       "      <th>Unnamed: 4</th>\n",
       "    </tr>\n",
       "  </thead>\n",
       "  <tbody>\n",
       "    <tr>\n",
       "      <th>0</th>\n",
       "      <td>1</td>\n",
       "      <td>A1</td>\n",
       "      <td>76</td>\n",
       "      <td>BANGALORE</td>\n",
       "      <td>Gold</td>\n",
       "      <td>500000.0</td>\n",
       "      <td>C1</td>\n",
       "      <td>Self Employed</td>\n",
       "      <td>NaN</td>\n",
       "      <td>12-Jan-04</td>\n",
       "      <td>495414.75</td>\n",
       "      <td>NaN</td>\n",
       "    </tr>\n",
       "    <tr>\n",
       "      <th>1</th>\n",
       "      <td>1</td>\n",
       "      <td>A1</td>\n",
       "      <td>76</td>\n",
       "      <td>BANGALORE</td>\n",
       "      <td>Gold</td>\n",
       "      <td>500000.0</td>\n",
       "      <td>C1</td>\n",
       "      <td>Self Employed</td>\n",
       "      <td>2.0</td>\n",
       "      <td>3-Jan-04</td>\n",
       "      <td>245899.02</td>\n",
       "      <td>NaN</td>\n",
       "    </tr>\n",
       "  </tbody>\n",
       "</table>\n",
       "</div>"
      ],
      "text/plain": [
       "   No Customer  Age       City Product     Limit Company        Segment  \\\n",
       "0   1       A1   76  BANGALORE    Gold  500000.0      C1  Self Employed   \n",
       "1   1       A1   76  BANGALORE    Gold  500000.0      C1  Self Employed   \n",
       "\n",
       "   SL No:      Month     Amount  Unnamed: 4  \n",
       "0     NaN  12-Jan-04  495414.75         NaN  \n",
       "1     2.0   3-Jan-04  245899.02         NaN  "
      ]
     },
     "execution_count": 56,
     "metadata": {},
     "output_type": "execute_result"
    }
   ],
   "source": [
    "cus_rep = pd.merge(left= customer, right= repay,\n",
    "                  on= 'Customer', how= 'inner')\n",
    "cus_rep.head(2)"
   ]
  },
  {
   "cell_type": "code",
   "execution_count": 58,
   "id": "be979141",
   "metadata": {},
   "outputs": [
    {
     "data": {
      "text/html": [
       "<div>\n",
       "<style scoped>\n",
       "    .dataframe tbody tr th:only-of-type {\n",
       "        vertical-align: middle;\n",
       "    }\n",
       "\n",
       "    .dataframe tbody tr th {\n",
       "        vertical-align: top;\n",
       "    }\n",
       "\n",
       "    .dataframe thead th {\n",
       "        text-align: right;\n",
       "    }\n",
       "</style>\n",
       "<table border=\"1\" class=\"dataframe\">\n",
       "  <thead>\n",
       "    <tr style=\"text-align: right;\">\n",
       "      <th></th>\n",
       "      <th>No</th>\n",
       "      <th>Customer</th>\n",
       "      <th>Age</th>\n",
       "      <th>City</th>\n",
       "      <th>Product</th>\n",
       "      <th>Limit</th>\n",
       "      <th>Company</th>\n",
       "      <th>Segment</th>\n",
       "      <th>SL No:</th>\n",
       "      <th>Month</th>\n",
       "      <th>Amount</th>\n",
       "      <th>Unnamed: 4</th>\n",
       "    </tr>\n",
       "  </thead>\n",
       "  <tbody>\n",
       "    <tr>\n",
       "      <th>18</th>\n",
       "      <td>2</td>\n",
       "      <td>A2</td>\n",
       "      <td>71</td>\n",
       "      <td>CALCUTTA</td>\n",
       "      <td>Silver</td>\n",
       "      <td>100000.0</td>\n",
       "      <td>C2</td>\n",
       "      <td>Salaried_MNC</td>\n",
       "      <td>104.0</td>\n",
       "      <td>3-Jan-04</td>\n",
       "      <td>185955.07</td>\n",
       "      <td>NaN</td>\n",
       "    </tr>\n",
       "    <tr>\n",
       "      <th>19</th>\n",
       "      <td>2</td>\n",
       "      <td>A2</td>\n",
       "      <td>71</td>\n",
       "      <td>CALCUTTA</td>\n",
       "      <td>Silver</td>\n",
       "      <td>100000.0</td>\n",
       "      <td>C2</td>\n",
       "      <td>Salaried_MNC</td>\n",
       "      <td>118.0</td>\n",
       "      <td>28-Feb-05</td>\n",
       "      <td>412783.34</td>\n",
       "      <td>NaN</td>\n",
       "    </tr>\n",
       "    <tr>\n",
       "      <th>20</th>\n",
       "      <td>2</td>\n",
       "      <td>A2</td>\n",
       "      <td>71</td>\n",
       "      <td>CALCUTTA</td>\n",
       "      <td>Silver</td>\n",
       "      <td>100000.0</td>\n",
       "      <td>C2</td>\n",
       "      <td>Salaried_MNC</td>\n",
       "      <td>132.0</td>\n",
       "      <td>6-Apr-04</td>\n",
       "      <td>148038.67</td>\n",
       "      <td>NaN</td>\n",
       "    </tr>\n",
       "    <tr>\n",
       "      <th>21</th>\n",
       "      <td>2</td>\n",
       "      <td>A2</td>\n",
       "      <td>71</td>\n",
       "      <td>CALCUTTA</td>\n",
       "      <td>Silver</td>\n",
       "      <td>100000.0</td>\n",
       "      <td>C2</td>\n",
       "      <td>Salaried_MNC</td>\n",
       "      <td>146.0</td>\n",
       "      <td>23-Nov-04</td>\n",
       "      <td>179144.68</td>\n",
       "      <td>NaN</td>\n",
       "    </tr>\n",
       "    <tr>\n",
       "      <th>23</th>\n",
       "      <td>2</td>\n",
       "      <td>A2</td>\n",
       "      <td>71</td>\n",
       "      <td>CALCUTTA</td>\n",
       "      <td>Silver</td>\n",
       "      <td>100000.0</td>\n",
       "      <td>C2</td>\n",
       "      <td>Salaried_MNC</td>\n",
       "      <td>174.0</td>\n",
       "      <td>3-Aug-05</td>\n",
       "      <td>381635.66</td>\n",
       "      <td>NaN</td>\n",
       "    </tr>\n",
       "    <tr>\n",
       "      <th>...</th>\n",
       "      <td>...</td>\n",
       "      <td>...</td>\n",
       "      <td>...</td>\n",
       "      <td>...</td>\n",
       "      <td>...</td>\n",
       "      <td>...</td>\n",
       "      <td>...</td>\n",
       "      <td>...</td>\n",
       "      <td>...</td>\n",
       "      <td>...</td>\n",
       "      <td>...</td>\n",
       "      <td>...</td>\n",
       "    </tr>\n",
       "    <tr>\n",
       "      <th>1486</th>\n",
       "      <td>87</td>\n",
       "      <td>A87</td>\n",
       "      <td>27</td>\n",
       "      <td>CALCUTTA</td>\n",
       "      <td>Silver</td>\n",
       "      <td>100003.0</td>\n",
       "      <td>C10</td>\n",
       "      <td>Govt</td>\n",
       "      <td>89.0</td>\n",
       "      <td>30-Mar-06</td>\n",
       "      <td>462283.02</td>\n",
       "      <td>NaN</td>\n",
       "    </tr>\n",
       "    <tr>\n",
       "      <th>1495</th>\n",
       "      <td>96</td>\n",
       "      <td>A96</td>\n",
       "      <td>54</td>\n",
       "      <td>CHENNAI</td>\n",
       "      <td>Silver</td>\n",
       "      <td>100000.0</td>\n",
       "      <td>C19</td>\n",
       "      <td>Salaried_Pvt</td>\n",
       "      <td>98.0</td>\n",
       "      <td>25-Jan-04</td>\n",
       "      <td>310992.30</td>\n",
       "      <td>NaN</td>\n",
       "    </tr>\n",
       "    <tr>\n",
       "      <th>1496</th>\n",
       "      <td>97</td>\n",
       "      <td>A97</td>\n",
       "      <td>58</td>\n",
       "      <td>TRIVANDRUM</td>\n",
       "      <td>Platimum</td>\n",
       "      <td>10000.0</td>\n",
       "      <td>C20</td>\n",
       "      <td>Govt</td>\n",
       "      <td>99.0</td>\n",
       "      <td>12-Jan-04</td>\n",
       "      <td>121874.90</td>\n",
       "      <td>NaN</td>\n",
       "    </tr>\n",
       "    <tr>\n",
       "      <th>1497</th>\n",
       "      <td>98</td>\n",
       "      <td>A98</td>\n",
       "      <td>51</td>\n",
       "      <td>CALCUTTA</td>\n",
       "      <td>Platimum</td>\n",
       "      <td>10001.0</td>\n",
       "      <td>C21</td>\n",
       "      <td>Normal Salary</td>\n",
       "      <td>100.0</td>\n",
       "      <td>3-Jan-04</td>\n",
       "      <td>337815.57</td>\n",
       "      <td>NaN</td>\n",
       "    </tr>\n",
       "    <tr>\n",
       "      <th>1498</th>\n",
       "      <td>99</td>\n",
       "      <td>A99</td>\n",
       "      <td>35</td>\n",
       "      <td>CALCUTTA</td>\n",
       "      <td>Platimum</td>\n",
       "      <td>10002.0</td>\n",
       "      <td>C22</td>\n",
       "      <td>Self Employed</td>\n",
       "      <td>101.0</td>\n",
       "      <td>15-Jan-04</td>\n",
       "      <td>25682.73</td>\n",
       "      <td>NaN</td>\n",
       "    </tr>\n",
       "  </tbody>\n",
       "</table>\n",
       "<p>600 rows × 12 columns</p>\n",
       "</div>"
      ],
      "text/plain": [
       "      No Customer  Age        City   Product     Limit Company        Segment  \\\n",
       "18     2       A2   71    CALCUTTA    Silver  100000.0      C2   Salaried_MNC   \n",
       "19     2       A2   71    CALCUTTA    Silver  100000.0      C2   Salaried_MNC   \n",
       "20     2       A2   71    CALCUTTA    Silver  100000.0      C2   Salaried_MNC   \n",
       "21     2       A2   71    CALCUTTA    Silver  100000.0      C2   Salaried_MNC   \n",
       "23     2       A2   71    CALCUTTA    Silver  100000.0      C2   Salaried_MNC   \n",
       "...   ..      ...  ...         ...       ...       ...     ...            ...   \n",
       "1486  87      A87   27    CALCUTTA    Silver  100003.0     C10           Govt   \n",
       "1495  96      A96   54     CHENNAI    Silver  100000.0     C19   Salaried_Pvt   \n",
       "1496  97      A97   58  TRIVANDRUM  Platimum   10000.0     C20           Govt   \n",
       "1497  98      A98   51    CALCUTTA  Platimum   10001.0     C21  Normal Salary   \n",
       "1498  99      A99   35    CALCUTTA  Platimum   10002.0     C22  Self Employed   \n",
       "\n",
       "      SL No:      Month     Amount  Unnamed: 4  \n",
       "18     104.0   3-Jan-04  185955.07         NaN  \n",
       "19     118.0  28-Feb-05  412783.34         NaN  \n",
       "20     132.0   6-Apr-04  148038.67         NaN  \n",
       "21     146.0  23-Nov-04  179144.68         NaN  \n",
       "23     174.0   3-Aug-05  381635.66         NaN  \n",
       "...      ...        ...        ...         ...  \n",
       "1486    89.0  30-Mar-06  462283.02         NaN  \n",
       "1495    98.0  25-Jan-04  310992.30         NaN  \n",
       "1496    99.0  12-Jan-04  121874.90         NaN  \n",
       "1497   100.0   3-Jan-04  337815.57         NaN  \n",
       "1498   101.0  15-Jan-04   25682.73         NaN  \n",
       "\n",
       "[600 rows x 12 columns]"
      ]
     },
     "execution_count": 58,
     "metadata": {},
     "output_type": "execute_result"
    }
   ],
   "source": [
    "cus_rep[cus_rep['Amount'] > cus_rep['Limit']]"
   ]
  },
  {
   "cell_type": "code",
   "execution_count": 59,
   "id": "4ea64182",
   "metadata": {},
   "outputs": [],
   "source": [
    "cus_rep.loc[cus_rep['Amount'] > cus_rep['Limit'], 'Amount'] = cus_rep['Limit']"
   ]
  },
  {
   "cell_type": "code",
   "execution_count": 81,
   "id": "0dc8ddc0",
   "metadata": {},
   "outputs": [
    {
     "data": {
      "text/html": [
       "<div>\n",
       "<style scoped>\n",
       "    .dataframe tbody tr th:only-of-type {\n",
       "        vertical-align: middle;\n",
       "    }\n",
       "\n",
       "    .dataframe tbody tr th {\n",
       "        vertical-align: top;\n",
       "    }\n",
       "\n",
       "    .dataframe thead th {\n",
       "        text-align: right;\n",
       "    }\n",
       "</style>\n",
       "<table border=\"1\" class=\"dataframe\">\n",
       "  <thead>\n",
       "    <tr style=\"text-align: right;\">\n",
       "      <th></th>\n",
       "      <th>No</th>\n",
       "      <th>Customer</th>\n",
       "      <th>Age</th>\n",
       "      <th>City</th>\n",
       "      <th>Product</th>\n",
       "      <th>Limit</th>\n",
       "      <th>Company</th>\n",
       "      <th>Segment</th>\n",
       "      <th>SL No:</th>\n",
       "      <th>Month</th>\n",
       "      <th>Amount</th>\n",
       "      <th>Unnamed: 4</th>\n",
       "    </tr>\n",
       "  </thead>\n",
       "  <tbody>\n",
       "    <tr>\n",
       "      <th>0</th>\n",
       "      <td>1</td>\n",
       "      <td>A1</td>\n",
       "      <td>76</td>\n",
       "      <td>BANGALORE</td>\n",
       "      <td>Gold</td>\n",
       "      <td>500000.0</td>\n",
       "      <td>C1</td>\n",
       "      <td>Self Employed</td>\n",
       "      <td>NaN</td>\n",
       "      <td>12-Jan-04</td>\n",
       "      <td>495414.75</td>\n",
       "      <td>NaN</td>\n",
       "    </tr>\n",
       "    <tr>\n",
       "      <th>1</th>\n",
       "      <td>1</td>\n",
       "      <td>A1</td>\n",
       "      <td>76</td>\n",
       "      <td>BANGALORE</td>\n",
       "      <td>Gold</td>\n",
       "      <td>500000.0</td>\n",
       "      <td>C1</td>\n",
       "      <td>Self Employed</td>\n",
       "      <td>2.0</td>\n",
       "      <td>3-Jan-04</td>\n",
       "      <td>245899.02</td>\n",
       "      <td>NaN</td>\n",
       "    </tr>\n",
       "  </tbody>\n",
       "</table>\n",
       "</div>"
      ],
      "text/plain": [
       "   No Customer  Age       City Product     Limit Company        Segment  \\\n",
       "0   1       A1   76  BANGALORE    Gold  500000.0      C1  Self Employed   \n",
       "1   1       A1   76  BANGALORE    Gold  500000.0      C1  Self Employed   \n",
       "\n",
       "   SL No:      Month     Amount  Unnamed: 4  \n",
       "0     NaN  12-Jan-04  495414.75         NaN  \n",
       "1     2.0   3-Jan-04  245899.02         NaN  "
      ]
     },
     "execution_count": 81,
     "metadata": {},
     "output_type": "execute_result"
    }
   ],
   "source": [
    "cus_rep.head(2)"
   ]
  },
  {
   "cell_type": "markdown",
   "id": "2dd8e59c",
   "metadata": {},
   "source": [
    "#### 2. From the above dataset create the following summaries:\n",
    "#####  a. How many distinct customers exist?"
   ]
  },
  {
   "cell_type": "code",
   "execution_count": 62,
   "id": "23ee70b7",
   "metadata": {},
   "outputs": [
    {
     "data": {
      "text/plain": [
       "100"
      ]
     },
     "execution_count": 62,
     "metadata": {},
     "output_type": "execute_result"
    }
   ],
   "source": [
    "customer['Customer'].nunique()"
   ]
  },
  {
   "cell_type": "markdown",
   "id": "d516756c",
   "metadata": {},
   "source": [
    "###### b. How many distinct categories exist?\n"
   ]
  },
  {
   "cell_type": "code",
   "execution_count": 65,
   "id": "ea00701d",
   "metadata": {},
   "outputs": [
    {
     "data": {
      "text/plain": [
       "3"
      ]
     },
     "execution_count": 65,
     "metadata": {},
     "output_type": "execute_result"
    }
   ],
   "source": [
    "cus_spd['Product'].nunique()"
   ]
  },
  {
   "cell_type": "code",
   "execution_count": 66,
   "id": "91bbb144",
   "metadata": {},
   "outputs": [
    {
     "data": {
      "text/plain": [
       "5"
      ]
     },
     "execution_count": 66,
     "metadata": {},
     "output_type": "execute_result"
    }
   ],
   "source": [
    "cus_spd['Segment'].nunique()"
   ]
  },
  {
   "cell_type": "code",
   "execution_count": 67,
   "id": "59a40d12",
   "metadata": {},
   "outputs": [
    {
     "data": {
      "text/plain": [
       "15"
      ]
     },
     "execution_count": 67,
     "metadata": {},
     "output_type": "execute_result"
    }
   ],
   "source": [
    "cus_spd['Type'].nunique()"
   ]
  },
  {
   "cell_type": "markdown",
   "id": "49267cfc",
   "metadata": {},
   "source": [
    "###### c. What is the average monthly spend by customers?"
   ]
  },
  {
   "cell_type": "code",
   "execution_count": 71,
   "id": "104cb8d0",
   "metadata": {},
   "outputs": [
    {
     "data": {
      "text/html": [
       "<div>\n",
       "<style scoped>\n",
       "    .dataframe tbody tr th:only-of-type {\n",
       "        vertical-align: middle;\n",
       "    }\n",
       "\n",
       "    .dataframe tbody tr th {\n",
       "        vertical-align: top;\n",
       "    }\n",
       "\n",
       "    .dataframe thead th {\n",
       "        text-align: right;\n",
       "    }\n",
       "</style>\n",
       "<table border=\"1\" class=\"dataframe\">\n",
       "  <thead>\n",
       "    <tr style=\"text-align: right;\">\n",
       "      <th></th>\n",
       "      <th>Sl No:</th>\n",
       "      <th>Customer</th>\n",
       "      <th>Month</th>\n",
       "      <th>Type</th>\n",
       "      <th>Amount</th>\n",
       "    </tr>\n",
       "  </thead>\n",
       "  <tbody>\n",
       "    <tr>\n",
       "      <th>0</th>\n",
       "      <td>1</td>\n",
       "      <td>A1</td>\n",
       "      <td>12-Jan-04</td>\n",
       "      <td>JEWELLERY</td>\n",
       "      <td>485470.80</td>\n",
       "    </tr>\n",
       "    <tr>\n",
       "      <th>1</th>\n",
       "      <td>2</td>\n",
       "      <td>A1</td>\n",
       "      <td>3-Jan-04</td>\n",
       "      <td>PETRO</td>\n",
       "      <td>410556.13</td>\n",
       "    </tr>\n",
       "  </tbody>\n",
       "</table>\n",
       "</div>"
      ],
      "text/plain": [
       "   Sl No: Customer      Month       Type     Amount\n",
       "0       1       A1  12-Jan-04  JEWELLERY  485470.80\n",
       "1       2       A1   3-Jan-04      PETRO  410556.13"
      ]
     },
     "execution_count": 71,
     "metadata": {},
     "output_type": "execute_result"
    }
   ],
   "source": [
    "cus_spd.head(2)"
   ]
  },
  {
   "cell_type": "code",
   "execution_count": 97,
   "id": "907da79f",
   "metadata": {},
   "outputs": [],
   "source": [
    "cus_spd['Month'] = pd.to_datetime(cus_spd['Month'])"
   ]
  },
  {
   "cell_type": "code",
   "execution_count": 98,
   "id": "8c444e8a",
   "metadata": {},
   "outputs": [
    {
     "data": {
      "text/plain": [
       "No                   int64\n",
       "Customer            object\n",
       "Age                  int64\n",
       "City                object\n",
       "Product             object\n",
       "Limit              float64\n",
       "Company             object\n",
       "Segment             object\n",
       "Sl No:               int64\n",
       "Month       datetime64[ns]\n",
       "Type                object\n",
       "Amount             float64\n",
       "_merge            category\n",
       "dtype: object"
      ]
     },
     "execution_count": 98,
     "metadata": {},
     "output_type": "execute_result"
    }
   ],
   "source": [
    "cus_spd.dtypes"
   ]
  },
  {
   "cell_type": "code",
   "execution_count": 99,
   "id": "5588d0d9",
   "metadata": {},
   "outputs": [
    {
     "data": {
      "text/html": [
       "<div>\n",
       "<style scoped>\n",
       "    .dataframe tbody tr th:only-of-type {\n",
       "        vertical-align: middle;\n",
       "    }\n",
       "\n",
       "    .dataframe tbody tr th {\n",
       "        vertical-align: top;\n",
       "    }\n",
       "\n",
       "    .dataframe thead th {\n",
       "        text-align: right;\n",
       "    }\n",
       "</style>\n",
       "<table border=\"1\" class=\"dataframe\">\n",
       "  <thead>\n",
       "    <tr style=\"text-align: right;\">\n",
       "      <th></th>\n",
       "      <th>No</th>\n",
       "      <th>Customer</th>\n",
       "      <th>Age</th>\n",
       "      <th>City</th>\n",
       "      <th>Product</th>\n",
       "      <th>Limit</th>\n",
       "      <th>Company</th>\n",
       "      <th>Segment</th>\n",
       "      <th>Sl No:</th>\n",
       "      <th>Month</th>\n",
       "      <th>Type</th>\n",
       "      <th>Amount</th>\n",
       "      <th>_merge</th>\n",
       "      <th>monthspd</th>\n",
       "      <th>yearspd</th>\n",
       "    </tr>\n",
       "  </thead>\n",
       "  <tbody>\n",
       "    <tr>\n",
       "      <th>0</th>\n",
       "      <td>1</td>\n",
       "      <td>A1</td>\n",
       "      <td>76</td>\n",
       "      <td>BANGALORE</td>\n",
       "      <td>Gold</td>\n",
       "      <td>500000.0</td>\n",
       "      <td>C1</td>\n",
       "      <td>Self Employed</td>\n",
       "      <td>1</td>\n",
       "      <td>2004-01-12</td>\n",
       "      <td>JEWELLERY</td>\n",
       "      <td>485470.80</td>\n",
       "      <td>both</td>\n",
       "      <td>1</td>\n",
       "      <td>2004</td>\n",
       "    </tr>\n",
       "    <tr>\n",
       "      <th>1</th>\n",
       "      <td>1</td>\n",
       "      <td>A1</td>\n",
       "      <td>76</td>\n",
       "      <td>BANGALORE</td>\n",
       "      <td>Gold</td>\n",
       "      <td>500000.0</td>\n",
       "      <td>C1</td>\n",
       "      <td>Self Employed</td>\n",
       "      <td>2</td>\n",
       "      <td>2004-01-03</td>\n",
       "      <td>PETRO</td>\n",
       "      <td>410556.13</td>\n",
       "      <td>both</td>\n",
       "      <td>1</td>\n",
       "      <td>2004</td>\n",
       "    </tr>\n",
       "  </tbody>\n",
       "</table>\n",
       "</div>"
      ],
      "text/plain": [
       "   No Customer  Age       City Product     Limit Company        Segment  \\\n",
       "0   1       A1   76  BANGALORE    Gold  500000.0      C1  Self Employed   \n",
       "1   1       A1   76  BANGALORE    Gold  500000.0      C1  Self Employed   \n",
       "\n",
       "   Sl No:      Month       Type     Amount _merge  monthspd  yearspd  \n",
       "0       1 2004-01-12  JEWELLERY  485470.80   both         1     2004  \n",
       "1       2 2004-01-03      PETRO  410556.13   both         1     2004  "
      ]
     },
     "execution_count": 99,
     "metadata": {},
     "output_type": "execute_result"
    }
   ],
   "source": [
    "cus_spd['monthspd'] = cus_spd['Month'].dt.month\n",
    "cus_spd['yearspd'] = cus_spd['Month'].dt.year\n",
    "cus_spd.head(2)"
   ]
  },
  {
   "cell_type": "code",
   "execution_count": 100,
   "id": "b60b25be",
   "metadata": {},
   "outputs": [
    {
     "data": {
      "text/plain": [
       "yearspd  monthspd\n",
       "2004     1           144233.915179\n",
       "         2           136998.280000\n",
       "         3           133708.090714\n",
       "         4           124621.976429\n",
       "         5           153326.954286\n",
       "         9           171579.263571\n",
       "         11           79642.078571\n",
       "2005     1           192271.670714\n",
       "         2           154334.423869\n",
       "         4           146430.918929\n",
       "         5           154625.803000\n",
       "         6           190726.475714\n",
       "         7           120803.091429\n",
       "         8           141707.435357\n",
       "         9           109423.776429\n",
       "         10           89879.421429\n",
       "         11          178120.211667\n",
       "         12           84416.000000\n",
       "2006     1           136312.515714\n",
       "         2           148478.986905\n",
       "         3           131720.289032\n",
       "         4           134743.702447\n",
       "         5           143693.687143\n",
       "         6           155971.498571\n",
       "         7           189088.681071\n",
       "         8           213863.917857\n",
       "         9           142392.073571\n",
       "         10          172156.287143\n",
       "         11          144283.947143\n",
       "         12          150129.360714\n",
       "Name: Amount, dtype: float64"
      ]
     },
     "execution_count": 100,
     "metadata": {},
     "output_type": "execute_result"
    }
   ],
   "source": [
    "avg_mnt_spd = cus_spd.groupby(by=['yearspd', 'monthspd'])['Amount'].mean()\n",
    "avg_mnt_spd"
   ]
  },
  {
   "cell_type": "markdown",
   "id": "bffe5cb5",
   "metadata": {},
   "source": [
    "###### d. What is the average monthly repayment by customers?"
   ]
  },
  {
   "cell_type": "code",
   "execution_count": 86,
   "id": "ccb365ee",
   "metadata": {},
   "outputs": [],
   "source": [
    "repay['Month'] = pd.to_datetime(repay['Month'])"
   ]
  },
  {
   "cell_type": "code",
   "execution_count": 88,
   "id": "709c33fe",
   "metadata": {},
   "outputs": [
    {
     "data": {
      "text/plain": [
       "SL No:               float64\n",
       "Customer              object\n",
       "Month         datetime64[ns]\n",
       "Amount               float64\n",
       "Unnamed: 4           float64\n",
       "dtype: object"
      ]
     },
     "execution_count": 88,
     "metadata": {},
     "output_type": "execute_result"
    }
   ],
   "source": [
    "repay.dtypes"
   ]
  },
  {
   "cell_type": "code",
   "execution_count": 94,
   "id": "dd177c9a",
   "metadata": {},
   "outputs": [
    {
     "data": {
      "text/html": [
       "<div>\n",
       "<style scoped>\n",
       "    .dataframe tbody tr th:only-of-type {\n",
       "        vertical-align: middle;\n",
       "    }\n",
       "\n",
       "    .dataframe tbody tr th {\n",
       "        vertical-align: top;\n",
       "    }\n",
       "\n",
       "    .dataframe thead th {\n",
       "        text-align: right;\n",
       "    }\n",
       "</style>\n",
       "<table border=\"1\" class=\"dataframe\">\n",
       "  <thead>\n",
       "    <tr style=\"text-align: right;\">\n",
       "      <th></th>\n",
       "      <th>SL No:</th>\n",
       "      <th>Customer</th>\n",
       "      <th>Month</th>\n",
       "      <th>Amount</th>\n",
       "      <th>Unnamed: 4</th>\n",
       "      <th>monthrep</th>\n",
       "      <th>yearrep</th>\n",
       "    </tr>\n",
       "  </thead>\n",
       "  <tbody>\n",
       "    <tr>\n",
       "      <th>0</th>\n",
       "      <td>NaN</td>\n",
       "      <td>A1</td>\n",
       "      <td>2004-01-12</td>\n",
       "      <td>495414.75</td>\n",
       "      <td>NaN</td>\n",
       "      <td>1.0</td>\n",
       "      <td>2004.0</td>\n",
       "    </tr>\n",
       "    <tr>\n",
       "      <th>1</th>\n",
       "      <td>2.0</td>\n",
       "      <td>A1</td>\n",
       "      <td>2004-01-03</td>\n",
       "      <td>245899.02</td>\n",
       "      <td>NaN</td>\n",
       "      <td>1.0</td>\n",
       "      <td>2004.0</td>\n",
       "    </tr>\n",
       "  </tbody>\n",
       "</table>\n",
       "</div>"
      ],
      "text/plain": [
       "   SL No: Customer      Month     Amount  Unnamed: 4  monthrep  yearrep\n",
       "0     NaN       A1 2004-01-12  495414.75         NaN       1.0   2004.0\n",
       "1     2.0       A1 2004-01-03  245899.02         NaN       1.0   2004.0"
      ]
     },
     "execution_count": 94,
     "metadata": {},
     "output_type": "execute_result"
    }
   ],
   "source": [
    "repay['monthrep'] = repay['Month'].dt.month\n",
    "repay['yearrep'] = repay['Month'].dt.year\n",
    "repay.head(2)"
   ]
  },
  {
   "cell_type": "code",
   "execution_count": 96,
   "id": "b97050c9",
   "metadata": {},
   "outputs": [
    {
     "data": {
      "text/plain": [
       "yearrep  monthrep\n",
       "2004.0   1.0         243489.649786\n",
       "         2.0         256702.630741\n",
       "         3.0         252585.280667\n",
       "         4.0         259141.679000\n",
       "         5.0         226162.720800\n",
       "         9.0         184487.848750\n",
       "         11.0        209592.238000\n",
       "2005.0   1.0         240548.098148\n",
       "         2.0         238829.265123\n",
       "         4.0         212688.631333\n",
       "         5.0         263207.367857\n",
       "         6.0         210199.818333\n",
       "         7.0         239871.479167\n",
       "         8.0         264430.921622\n",
       "         9.0         247700.170000\n",
       "         10.0        219849.956667\n",
       "         11.0        256695.120000\n",
       "         12.0        320379.335833\n",
       "2006.0   1.0         293475.389167\n",
       "         2.0         284489.565128\n",
       "         3.0         240851.266814\n",
       "         4.0         275472.251889\n",
       "         5.0         256920.884943\n",
       "         6.0         251990.453333\n",
       "         7.0         257936.383243\n",
       "         8.0         224143.992500\n",
       "         9.0         262533.880833\n",
       "         10.0        260765.480000\n",
       "         11.0        199399.197407\n",
       "         12.0        252736.569167\n",
       "Name: Amount, dtype: float64"
      ]
     },
     "execution_count": 96,
     "metadata": {},
     "output_type": "execute_result"
    }
   ],
   "source": [
    "avg_mnt_rep = repay.groupby(by= ['yearrep','monthrep'])['Amount'].mean()\n",
    "avg_mnt_rep"
   ]
  },
  {
   "cell_type": "markdown",
   "id": "8439ba85",
   "metadata": {},
   "source": [
    "###### e. If the monthly rate of interest is 2.9%, what is the profit for the bank for each month?\n",
    "###### (Profit is defined as interest earned on Monthly Profit. Monthly Profit = Monthly repayment\n",
    "###### – Monthly spend. Interest is earned only on positive profits and not on negative amounts)\n"
   ]
  },
  {
   "cell_type": "code",
   "execution_count": 103,
   "id": "56a6d018",
   "metadata": {},
   "outputs": [
    {
     "data": {
      "text/html": [
       "<div>\n",
       "<style scoped>\n",
       "    .dataframe tbody tr th:only-of-type {\n",
       "        vertical-align: middle;\n",
       "    }\n",
       "\n",
       "    .dataframe tbody tr th {\n",
       "        vertical-align: top;\n",
       "    }\n",
       "\n",
       "    .dataframe thead th {\n",
       "        text-align: right;\n",
       "    }\n",
       "</style>\n",
       "<table border=\"1\" class=\"dataframe\">\n",
       "  <thead>\n",
       "    <tr style=\"text-align: right;\">\n",
       "      <th></th>\n",
       "      <th>No</th>\n",
       "      <th>Customer</th>\n",
       "      <th>Age</th>\n",
       "      <th>City</th>\n",
       "      <th>Product</th>\n",
       "      <th>Limit</th>\n",
       "      <th>Company</th>\n",
       "      <th>Segment</th>\n",
       "      <th>Sl No:</th>\n",
       "      <th>Month_x</th>\n",
       "      <th>...</th>\n",
       "      <th>Amount_x</th>\n",
       "      <th>_merge</th>\n",
       "      <th>monthspd</th>\n",
       "      <th>yearspd</th>\n",
       "      <th>SL No:</th>\n",
       "      <th>Month_y</th>\n",
       "      <th>Amount_y</th>\n",
       "      <th>Unnamed: 4</th>\n",
       "      <th>monthrep</th>\n",
       "      <th>yearrep</th>\n",
       "    </tr>\n",
       "  </thead>\n",
       "  <tbody>\n",
       "    <tr>\n",
       "      <th>0</th>\n",
       "      <td>1</td>\n",
       "      <td>A1</td>\n",
       "      <td>76</td>\n",
       "      <td>BANGALORE</td>\n",
       "      <td>Gold</td>\n",
       "      <td>500000.0</td>\n",
       "      <td>C1</td>\n",
       "      <td>Self Employed</td>\n",
       "      <td>1</td>\n",
       "      <td>2004-01-12</td>\n",
       "      <td>...</td>\n",
       "      <td>485470.8</td>\n",
       "      <td>both</td>\n",
       "      <td>1</td>\n",
       "      <td>2004</td>\n",
       "      <td>NaN</td>\n",
       "      <td>2004-01-12</td>\n",
       "      <td>495414.75</td>\n",
       "      <td>NaN</td>\n",
       "      <td>1.0</td>\n",
       "      <td>2004.0</td>\n",
       "    </tr>\n",
       "    <tr>\n",
       "      <th>1</th>\n",
       "      <td>1</td>\n",
       "      <td>A1</td>\n",
       "      <td>76</td>\n",
       "      <td>BANGALORE</td>\n",
       "      <td>Gold</td>\n",
       "      <td>500000.0</td>\n",
       "      <td>C1</td>\n",
       "      <td>Self Employed</td>\n",
       "      <td>1</td>\n",
       "      <td>2004-01-12</td>\n",
       "      <td>...</td>\n",
       "      <td>485470.8</td>\n",
       "      <td>both</td>\n",
       "      <td>1</td>\n",
       "      <td>2004</td>\n",
       "      <td>2.0</td>\n",
       "      <td>2004-01-03</td>\n",
       "      <td>245899.02</td>\n",
       "      <td>NaN</td>\n",
       "      <td>1.0</td>\n",
       "      <td>2004.0</td>\n",
       "    </tr>\n",
       "  </tbody>\n",
       "</table>\n",
       "<p>2 rows × 21 columns</p>\n",
       "</div>"
      ],
      "text/plain": [
       "   No Customer  Age       City Product     Limit Company        Segment  \\\n",
       "0   1       A1   76  BANGALORE    Gold  500000.0      C1  Self Employed   \n",
       "1   1       A1   76  BANGALORE    Gold  500000.0      C1  Self Employed   \n",
       "\n",
       "   Sl No:    Month_x  ...  Amount_x  _merge monthspd  yearspd  SL No:  \\\n",
       "0       1 2004-01-12  ...  485470.8    both        1     2004     NaN   \n",
       "1       1 2004-01-12  ...  485470.8    both        1     2004     2.0   \n",
       "\n",
       "     Month_y   Amount_y  Unnamed: 4  monthrep  yearrep  \n",
       "0 2004-01-12  495414.75         NaN       1.0   2004.0  \n",
       "1 2004-01-03  245899.02         NaN       1.0   2004.0  \n",
       "\n",
       "[2 rows x 21 columns]"
      ]
     },
     "execution_count": 103,
     "metadata": {},
     "output_type": "execute_result"
    }
   ],
   "source": [
    "cus_spd_rep = pd.merge(left = cus_spd, right = repay,\n",
    "                      on = 'Customer')\n",
    "cus_spd_rep.head(2)"
   ]
  },
  {
   "cell_type": "code",
   "execution_count": 114,
   "id": "8de5c855",
   "metadata": {},
   "outputs": [
    {
     "data": {
      "text/html": [
       "<div>\n",
       "<style scoped>\n",
       "    .dataframe tbody tr th:only-of-type {\n",
       "        vertical-align: middle;\n",
       "    }\n",
       "\n",
       "    .dataframe tbody tr th {\n",
       "        vertical-align: top;\n",
       "    }\n",
       "\n",
       "    .dataframe thead th {\n",
       "        text-align: right;\n",
       "    }\n",
       "</style>\n",
       "<table border=\"1\" class=\"dataframe\">\n",
       "  <thead>\n",
       "    <tr style=\"text-align: right;\">\n",
       "      <th></th>\n",
       "      <th></th>\n",
       "      <th>Amount_x</th>\n",
       "      <th>Amount_y</th>\n",
       "    </tr>\n",
       "    <tr>\n",
       "      <th>yearspd</th>\n",
       "      <th>monthspd</th>\n",
       "      <th></th>\n",
       "      <th></th>\n",
       "    </tr>\n",
       "  </thead>\n",
       "  <tbody>\n",
       "    <tr>\n",
       "      <th rowspan=\"2\" valign=\"top\">2004</th>\n",
       "      <th>1</th>\n",
       "      <td>1.143343e+09</td>\n",
       "      <td>1.873917e+09</td>\n",
       "    </tr>\n",
       "    <tr>\n",
       "      <th>2</th>\n",
       "      <td>9.842368e+07</td>\n",
       "      <td>1.736560e+08</td>\n",
       "    </tr>\n",
       "  </tbody>\n",
       "</table>\n",
       "</div>"
      ],
      "text/plain": [
       "                      Amount_x      Amount_y\n",
       "yearspd monthspd                            \n",
       "2004    1         1.143343e+09  1.873917e+09\n",
       "        2         9.842368e+07  1.736560e+08"
      ]
     },
     "execution_count": 114,
     "metadata": {},
     "output_type": "execute_result"
    }
   ],
   "source": [
    "interest_grp = cus_spd_rep.groupby(['yearspd','monthspd'])[['Amount_x','Amount_y']].sum()\n",
    "interest_grp.head(2)"
   ]
  },
  {
   "cell_type": "code",
   "execution_count": 118,
   "id": "62a01adb",
   "metadata": {},
   "outputs": [
    {
     "data": {
      "text/html": [
       "<div>\n",
       "<style scoped>\n",
       "    .dataframe tbody tr th:only-of-type {\n",
       "        vertical-align: middle;\n",
       "    }\n",
       "\n",
       "    .dataframe tbody tr th {\n",
       "        vertical-align: top;\n",
       "    }\n",
       "\n",
       "    .dataframe thead th {\n",
       "        text-align: right;\n",
       "    }\n",
       "</style>\n",
       "<table border=\"1\" class=\"dataframe\">\n",
       "  <thead>\n",
       "    <tr style=\"text-align: right;\">\n",
       "      <th></th>\n",
       "      <th></th>\n",
       "      <th>Amount_x</th>\n",
       "      <th>Amount_y</th>\n",
       "      <th>profit</th>\n",
       "    </tr>\n",
       "    <tr>\n",
       "      <th>yearspd</th>\n",
       "      <th>monthspd</th>\n",
       "      <th></th>\n",
       "      <th></th>\n",
       "      <th></th>\n",
       "    </tr>\n",
       "  </thead>\n",
       "  <tbody>\n",
       "    <tr>\n",
       "      <th rowspan=\"2\" valign=\"top\">2004</th>\n",
       "      <th>1</th>\n",
       "      <td>1.143343e+09</td>\n",
       "      <td>1.873917e+09</td>\n",
       "      <td>7.305739e+08</td>\n",
       "    </tr>\n",
       "    <tr>\n",
       "      <th>2</th>\n",
       "      <td>9.842368e+07</td>\n",
       "      <td>1.736560e+08</td>\n",
       "      <td>7.523227e+07</td>\n",
       "    </tr>\n",
       "  </tbody>\n",
       "</table>\n",
       "</div>"
      ],
      "text/plain": [
       "                      Amount_x      Amount_y        profit\n",
       "yearspd monthspd                                          \n",
       "2004    1         1.143343e+09  1.873917e+09  7.305739e+08\n",
       "        2         9.842368e+07  1.736560e+08  7.523227e+07"
      ]
     },
     "execution_count": 118,
     "metadata": {},
     "output_type": "execute_result"
    }
   ],
   "source": [
    "interest_grp['profit'] = interest_grp['Amount_y'] - interest_grp['Amount_x']\n",
    "interest_grp.head(2)"
   ]
  },
  {
   "cell_type": "code",
   "execution_count": 120,
   "id": "609a3ce5",
   "metadata": {},
   "outputs": [
    {
     "data": {
      "text/html": [
       "<div>\n",
       "<style scoped>\n",
       "    .dataframe tbody tr th:only-of-type {\n",
       "        vertical-align: middle;\n",
       "    }\n",
       "\n",
       "    .dataframe tbody tr th {\n",
       "        vertical-align: top;\n",
       "    }\n",
       "\n",
       "    .dataframe thead th {\n",
       "        text-align: right;\n",
       "    }\n",
       "</style>\n",
       "<table border=\"1\" class=\"dataframe\">\n",
       "  <thead>\n",
       "    <tr style=\"text-align: right;\">\n",
       "      <th></th>\n",
       "      <th></th>\n",
       "      <th>Amount_x</th>\n",
       "      <th>Amount_y</th>\n",
       "      <th>profit</th>\n",
       "      <th>int_inc</th>\n",
       "    </tr>\n",
       "    <tr>\n",
       "      <th>yearspd</th>\n",
       "      <th>monthspd</th>\n",
       "      <th></th>\n",
       "      <th></th>\n",
       "      <th></th>\n",
       "      <th></th>\n",
       "    </tr>\n",
       "  </thead>\n",
       "  <tbody>\n",
       "    <tr>\n",
       "      <th rowspan=\"2\" valign=\"top\">2004</th>\n",
       "      <th>1</th>\n",
       "      <td>1.143343e+09</td>\n",
       "      <td>1.873917e+09</td>\n",
       "      <td>7.305739e+08</td>\n",
       "      <td>2.118664e+07</td>\n",
       "    </tr>\n",
       "    <tr>\n",
       "      <th>2</th>\n",
       "      <td>9.842368e+07</td>\n",
       "      <td>1.736560e+08</td>\n",
       "      <td>7.523227e+07</td>\n",
       "      <td>2.181736e+06</td>\n",
       "    </tr>\n",
       "  </tbody>\n",
       "</table>\n",
       "</div>"
      ],
      "text/plain": [
       "                      Amount_x      Amount_y        profit       int_inc\n",
       "yearspd monthspd                                                        \n",
       "2004    1         1.143343e+09  1.873917e+09  7.305739e+08  2.118664e+07\n",
       "        2         9.842368e+07  1.736560e+08  7.523227e+07  2.181736e+06"
      ]
     },
     "execution_count": 120,
     "metadata": {},
     "output_type": "execute_result"
    }
   ],
   "source": [
    "interest_grp['int_inc'] = interest_grp['profit'] * 0.029\n",
    "interest_grp.head(2)"
   ]
  },
  {
   "cell_type": "markdown",
   "id": "8e6015b7",
   "metadata": {},
   "source": [
    "###### f. What are the top 5 product types?"
   ]
  },
  {
   "cell_type": "code",
   "execution_count": 132,
   "id": "29825af9",
   "metadata": {},
   "outputs": [
    {
     "data": {
      "image/png": "[encoded data removed]",
      "text/plain": [
       "<Figure size 432x288 with 1 Axes>"
      ]
     },
     "metadata": {
      "needs_background": "light"
     },
     "output_type": "display_data"
    }
   ],
   "source": [
    "spend['Type'].value_counts().head(5).plot(kind= 'bar')\n",
    "plt.show()"
   ]
  },
  {
   "cell_type": "markdown",
   "id": "cb147bf5",
   "metadata": {},
   "source": [
    "###### g. Which city is having maximum spend?"
   ]
  },
  {
   "cell_type": "code",
   "execution_count": 136,
   "id": "f13bc49e",
   "metadata": {},
   "outputs": [
    {
     "data": {
      "text/plain": [
       "City\n",
       "COCHIN        45963513.50\n",
       "CALCUTTA      41108132.30\n",
       "BANGALORE     40461647.02\n",
       "BOMBAY        28603127.38\n",
       "CHENNAI       22128635.65\n",
       "TRIVANDRUM    15337155.87\n",
       "PATNA         15260586.97\n",
       "DELHI         10918286.54\n",
       "Name: Amount, dtype: float64"
      ]
     },
     "execution_count": 136,
     "metadata": {},
     "output_type": "execute_result"
    }
   ],
   "source": [
    "city_spend = cus_spd.groupby('City')['Amount'].sum().sort_values(ascending = False)\n",
    "city_spend"
   ]
  },
  {
   "cell_type": "markdown",
   "id": "33b9d4fd",
   "metadata": {},
   "source": [
    "######  h. Which age group is spending more money?"
   ]
  },
  {
   "cell_type": "code",
   "execution_count": 145,
   "id": "f69cfa45",
   "metadata": {},
   "outputs": [
    {
     "data": {
      "text/html": [
       "<div>\n",
       "<style scoped>\n",
       "    .dataframe tbody tr th:only-of-type {\n",
       "        vertical-align: middle;\n",
       "    }\n",
       "\n",
       "    .dataframe tbody tr th {\n",
       "        vertical-align: top;\n",
       "    }\n",
       "\n",
       "    .dataframe thead th {\n",
       "        text-align: right;\n",
       "    }\n",
       "</style>\n",
       "<table border=\"1\" class=\"dataframe\">\n",
       "  <thead>\n",
       "    <tr style=\"text-align: right;\">\n",
       "      <th></th>\n",
       "      <th>No</th>\n",
       "      <th>Customer</th>\n",
       "      <th>Age</th>\n",
       "      <th>City</th>\n",
       "      <th>Product</th>\n",
       "      <th>Limit</th>\n",
       "      <th>Company</th>\n",
       "      <th>Segment</th>\n",
       "      <th>Sl No:</th>\n",
       "      <th>Month</th>\n",
       "      <th>Type</th>\n",
       "      <th>Amount</th>\n",
       "      <th>_merge</th>\n",
       "      <th>monthspd</th>\n",
       "      <th>yearspd</th>\n",
       "      <th>Age_grp</th>\n",
       "    </tr>\n",
       "  </thead>\n",
       "  <tbody>\n",
       "    <tr>\n",
       "      <th>0</th>\n",
       "      <td>1</td>\n",
       "      <td>A1</td>\n",
       "      <td>76</td>\n",
       "      <td>BANGALORE</td>\n",
       "      <td>Gold</td>\n",
       "      <td>500000.0</td>\n",
       "      <td>C1</td>\n",
       "      <td>Self Employed</td>\n",
       "      <td>1</td>\n",
       "      <td>2004-01-12</td>\n",
       "      <td>JEWELLERY</td>\n",
       "      <td>485470.80</td>\n",
       "      <td>both</td>\n",
       "      <td>1</td>\n",
       "      <td>2004</td>\n",
       "      <td>66-78</td>\n",
       "    </tr>\n",
       "    <tr>\n",
       "      <th>1</th>\n",
       "      <td>1</td>\n",
       "      <td>A1</td>\n",
       "      <td>76</td>\n",
       "      <td>BANGALORE</td>\n",
       "      <td>Gold</td>\n",
       "      <td>500000.0</td>\n",
       "      <td>C1</td>\n",
       "      <td>Self Employed</td>\n",
       "      <td>2</td>\n",
       "      <td>2004-01-03</td>\n",
       "      <td>PETRO</td>\n",
       "      <td>410556.13</td>\n",
       "      <td>both</td>\n",
       "      <td>1</td>\n",
       "      <td>2004</td>\n",
       "      <td>66-78</td>\n",
       "    </tr>\n",
       "  </tbody>\n",
       "</table>\n",
       "</div>"
      ],
      "text/plain": [
       "   No Customer  Age       City Product     Limit Company        Segment  \\\n",
       "0   1       A1   76  BANGALORE    Gold  500000.0      C1  Self Employed   \n",
       "1   1       A1   76  BANGALORE    Gold  500000.0      C1  Self Employed   \n",
       "\n",
       "   Sl No:      Month       Type     Amount _merge  monthspd  yearspd Age_grp  \n",
       "0       1 2004-01-12  JEWELLERY  485470.80   both         1     2004   66-78  \n",
       "1       2 2004-01-03      PETRO  410556.13   both         1     2004   66-78  "
      ]
     },
     "execution_count": 145,
     "metadata": {},
     "output_type": "execute_result"
    }
   ],
   "source": [
    "cus_spd['Age_grp'] = pd.cut(cus_spd.Age,bins=np.arange(18,103,12),labels= ['18-30','30-42','42-54','54-66','66-78','78-90','90-102'], include_lowest = True)\n",
    "cus_spd.head(2)"
   ]
  },
  {
   "cell_type": "code",
   "execution_count": 149,
   "id": "1e03ae82",
   "metadata": {},
   "outputs": [
    {
     "data": {
      "text/plain": [
       "Age_grp\n",
       "42-54    58509211.65\n",
       "Name: Amount, dtype: float64"
      ]
     },
     "execution_count": 149,
     "metadata": {},
     "output_type": "execute_result"
    }
   ],
   "source": [
    "Age_grp_spd = cus_spd.groupby(by= 'Age_grp')['Amount'].sum()\n",
    "Age_grp_spd.nlargest(1)"
   ]
  },
  {
   "cell_type": "markdown",
   "id": "16fe2549",
   "metadata": {},
   "source": [
    "######  i. Who are the top 10 customers in terms of repayment?"
   ]
  },
  {
   "cell_type": "code",
   "execution_count": 157,
   "id": "0da3cf5d",
   "metadata": {},
   "outputs": [
    {
     "data": {
      "text/html": [
       "<div>\n",
       "<style scoped>\n",
       "    .dataframe tbody tr th:only-of-type {\n",
       "        vertical-align: middle;\n",
       "    }\n",
       "\n",
       "    .dataframe tbody tr th {\n",
       "        vertical-align: top;\n",
       "    }\n",
       "\n",
       "    .dataframe thead th {\n",
       "        text-align: right;\n",
       "    }\n",
       "</style>\n",
       "<table border=\"1\" class=\"dataframe\">\n",
       "  <thead>\n",
       "    <tr style=\"text-align: right;\">\n",
       "      <th></th>\n",
       "      <th>Amount</th>\n",
       "    </tr>\n",
       "    <tr>\n",
       "      <th>Customer</th>\n",
       "      <th></th>\n",
       "    </tr>\n",
       "  </thead>\n",
       "  <tbody>\n",
       "    <tr>\n",
       "      <th>A61</th>\n",
       "      <td>10539142.91</td>\n",
       "    </tr>\n",
       "    <tr>\n",
       "      <th>A60</th>\n",
       "      <td>9876290.74</td>\n",
       "    </tr>\n",
       "    <tr>\n",
       "      <th>A13</th>\n",
       "      <td>9572000.66</td>\n",
       "    </tr>\n",
       "    <tr>\n",
       "      <th>A43</th>\n",
       "      <td>8489871.46</td>\n",
       "    </tr>\n",
       "    <tr>\n",
       "      <th>A45</th>\n",
       "      <td>8448334.87</td>\n",
       "    </tr>\n",
       "    <tr>\n",
       "      <th>A12</th>\n",
       "      <td>8334760.16</td>\n",
       "    </tr>\n",
       "    <tr>\n",
       "      <th>A14</th>\n",
       "      <td>7943268.63</td>\n",
       "    </tr>\n",
       "    <tr>\n",
       "      <th>A44</th>\n",
       "      <td>7744730.12</td>\n",
       "    </tr>\n",
       "    <tr>\n",
       "      <th>A39</th>\n",
       "      <td>7622483.30</td>\n",
       "    </tr>\n",
       "    <tr>\n",
       "      <th>A42</th>\n",
       "      <td>7615460.86</td>\n",
       "    </tr>\n",
       "  </tbody>\n",
       "</table>\n",
       "</div>"
      ],
      "text/plain": [
       "               Amount\n",
       "Customer             \n",
       "A61       10539142.91\n",
       "A60        9876290.74\n",
       "A13        9572000.66\n",
       "A43        8489871.46\n",
       "A45        8448334.87\n",
       "A12        8334760.16\n",
       "A14        7943268.63\n",
       "A44        7744730.12\n",
       "A39        7622483.30\n",
       "A42        7615460.86"
      ]
     },
     "execution_count": 157,
     "metadata": {},
     "output_type": "execute_result"
    }
   ],
   "source": [
    "cus_rep.groupby(by= 'Customer' )[['Amount']].sum().sort_values('Amount', ascending= False).head(10)"
   ]
  },
  {
   "cell_type": "markdown",
   "id": "bd97c39f",
   "metadata": {},
   "source": [
    "##### 3. Calculate the city wise spend on each product on yearly basis. Also include a graphical representation for the same."
   ]
  },
  {
   "cell_type": "code",
   "execution_count": 164,
   "id": "a9511189",
   "metadata": {},
   "outputs": [
    {
     "data": {
      "text/html": [
       "<div>\n",
       "<style scoped>\n",
       "    .dataframe tbody tr th:only-of-type {\n",
       "        vertical-align: middle;\n",
       "    }\n",
       "\n",
       "    .dataframe tbody tr th {\n",
       "        vertical-align: top;\n",
       "    }\n",
       "\n",
       "    .dataframe thead th {\n",
       "        text-align: right;\n",
       "    }\n",
       "</style>\n",
       "<table border=\"1\" class=\"dataframe\">\n",
       "  <thead>\n",
       "    <tr style=\"text-align: right;\">\n",
       "      <th></th>\n",
       "      <th>Product</th>\n",
       "      <th>Gold</th>\n",
       "      <th>Platimum</th>\n",
       "      <th>Silver</th>\n",
       "    </tr>\n",
       "    <tr>\n",
       "      <th>yearspd</th>\n",
       "      <th>City</th>\n",
       "      <th></th>\n",
       "      <th></th>\n",
       "      <th></th>\n",
       "    </tr>\n",
       "  </thead>\n",
       "  <tbody>\n",
       "    <tr>\n",
       "      <th rowspan=\"8\" valign=\"top\">2004</th>\n",
       "      <th>BANGALORE</th>\n",
       "      <td>9289878.54</td>\n",
       "      <td>1112732.30</td>\n",
       "      <td>1291852.58</td>\n",
       "    </tr>\n",
       "    <tr>\n",
       "      <th>BOMBAY</th>\n",
       "      <td>6987853.53</td>\n",
       "      <td>897264.94</td>\n",
       "      <td>532089.03</td>\n",
       "    </tr>\n",
       "    <tr>\n",
       "      <th>CALCUTTA</th>\n",
       "      <td>7477140.98</td>\n",
       "      <td>2037690.30</td>\n",
       "      <td>500006.00</td>\n",
       "    </tr>\n",
       "    <tr>\n",
       "      <th>CHENNAI</th>\n",
       "      <td>1059618.50</td>\n",
       "      <td>3535652.38</td>\n",
       "      <td>282056.86</td>\n",
       "    </tr>\n",
       "    <tr>\n",
       "      <th>COCHIN</th>\n",
       "      <td>7315850.15</td>\n",
       "      <td>3419904.07</td>\n",
       "      <td>814229.62</td>\n",
       "    </tr>\n",
       "    <tr>\n",
       "      <th>DELHI</th>\n",
       "      <td>2806495.00</td>\n",
       "      <td>283512.89</td>\n",
       "      <td>768172.30</td>\n",
       "    </tr>\n",
       "    <tr>\n",
       "      <th>PATNA</th>\n",
       "      <td>2072567.90</td>\n",
       "      <td>1113069.60</td>\n",
       "      <td>756684.10</td>\n",
       "    </tr>\n",
       "    <tr>\n",
       "      <th>TRIVANDRUM</th>\n",
       "      <td>2415102.84</td>\n",
       "      <td>2161676.67</td>\n",
       "      <td>209667.48</td>\n",
       "    </tr>\n",
       "    <tr>\n",
       "      <th rowspan=\"8\" valign=\"top\">2005</th>\n",
       "      <th>BANGALORE</th>\n",
       "      <td>12892362.99</td>\n",
       "      <td>912284.97</td>\n",
       "      <td>830612.34</td>\n",
       "    </tr>\n",
       "    <tr>\n",
       "      <th>BOMBAY</th>\n",
       "      <td>8983018.28</td>\n",
       "      <td>711804.94</td>\n",
       "      <td>508988.54</td>\n",
       "    </tr>\n",
       "    <tr>\n",
       "      <th>CALCUTTA</th>\n",
       "      <td>10303355.80</td>\n",
       "      <td>4434696.31</td>\n",
       "      <td>440147.06</td>\n",
       "    </tr>\n",
       "    <tr>\n",
       "      <th>CHENNAI</th>\n",
       "      <td>3740945.58</td>\n",
       "      <td>5053956.32</td>\n",
       "      <td>377184.49</td>\n",
       "    </tr>\n",
       "    <tr>\n",
       "      <th>COCHIN</th>\n",
       "      <td>12110613.03</td>\n",
       "      <td>4960921.71</td>\n",
       "      <td>652269.38</td>\n",
       "    </tr>\n",
       "    <tr>\n",
       "      <th>DELHI</th>\n",
       "      <td>1964845.27</td>\n",
       "      <td>494157.86</td>\n",
       "      <td>612311.21</td>\n",
       "    </tr>\n",
       "    <tr>\n",
       "      <th>PATNA</th>\n",
       "      <td>3252615.77</td>\n",
       "      <td>2883231.07</td>\n",
       "      <td>950094.19</td>\n",
       "    </tr>\n",
       "    <tr>\n",
       "      <th>TRIVANDRUM</th>\n",
       "      <td>1240375.85</td>\n",
       "      <td>3601443.30</td>\n",
       "      <td>269912.99</td>\n",
       "    </tr>\n",
       "    <tr>\n",
       "      <th rowspan=\"8\" valign=\"top\">2006</th>\n",
       "      <th>BANGALORE</th>\n",
       "      <td>12030611.09</td>\n",
       "      <td>685831.27</td>\n",
       "      <td>1415480.94</td>\n",
       "    </tr>\n",
       "    <tr>\n",
       "      <th>BOMBAY</th>\n",
       "      <td>7917144.31</td>\n",
       "      <td>972130.01</td>\n",
       "      <td>1092833.80</td>\n",
       "    </tr>\n",
       "    <tr>\n",
       "      <th>CALCUTTA</th>\n",
       "      <td>11167532.77</td>\n",
       "      <td>3589606.66</td>\n",
       "      <td>1157956.42</td>\n",
       "    </tr>\n",
       "    <tr>\n",
       "      <th>CHENNAI</th>\n",
       "      <td>2704288.62</td>\n",
       "      <td>5024923.40</td>\n",
       "      <td>350009.50</td>\n",
       "    </tr>\n",
       "    <tr>\n",
       "      <th>COCHIN</th>\n",
       "      <td>10499142.38</td>\n",
       "      <td>4920592.29</td>\n",
       "      <td>1269990.87</td>\n",
       "    </tr>\n",
       "    <tr>\n",
       "      <th>DELHI</th>\n",
       "      <td>2957103.32</td>\n",
       "      <td>176788.72</td>\n",
       "      <td>854899.97</td>\n",
       "    </tr>\n",
       "    <tr>\n",
       "      <th>PATNA</th>\n",
       "      <td>2276181.69</td>\n",
       "      <td>1256137.65</td>\n",
       "      <td>700005.00</td>\n",
       "    </tr>\n",
       "    <tr>\n",
       "      <th>TRIVANDRUM</th>\n",
       "      <td>2735710.87</td>\n",
       "      <td>2147403.75</td>\n",
       "      <td>555862.12</td>\n",
       "    </tr>\n",
       "  </tbody>\n",
       "</table>\n",
       "</div>"
      ],
      "text/plain": [
       "Product                    Gold    Platimum      Silver\n",
       "yearspd City                                           \n",
       "2004    BANGALORE    9289878.54  1112732.30  1291852.58\n",
       "        BOMBAY       6987853.53   897264.94   532089.03\n",
       "        CALCUTTA     7477140.98  2037690.30   500006.00\n",
       "        CHENNAI      1059618.50  3535652.38   282056.86\n",
       "        COCHIN       7315850.15  3419904.07   814229.62\n",
       "        DELHI        2806495.00   283512.89   768172.30\n",
       "        PATNA        2072567.90  1113069.60   756684.10\n",
       "        TRIVANDRUM   2415102.84  2161676.67   209667.48\n",
       "2005    BANGALORE   12892362.99   912284.97   830612.34\n",
       "        BOMBAY       8983018.28   711804.94   508988.54\n",
       "        CALCUTTA    10303355.80  4434696.31   440147.06\n",
       "        CHENNAI      3740945.58  5053956.32   377184.49\n",
       "        COCHIN      12110613.03  4960921.71   652269.38\n",
       "        DELHI        1964845.27   494157.86   612311.21\n",
       "        PATNA        3252615.77  2883231.07   950094.19\n",
       "        TRIVANDRUM   1240375.85  3601443.30   269912.99\n",
       "2006    BANGALORE   12030611.09   685831.27  1415480.94\n",
       "        BOMBAY       7917144.31   972130.01  1092833.80\n",
       "        CALCUTTA    11167532.77  3589606.66  1157956.42\n",
       "        CHENNAI      2704288.62  5024923.40   350009.50\n",
       "        COCHIN      10499142.38  4920592.29  1269990.87\n",
       "        DELHI        2957103.32   176788.72   854899.97\n",
       "        PATNA        2276181.69  1256137.65   700005.00\n",
       "        TRIVANDRUM   2735710.87  2147403.75   555862.12"
      ]
     },
     "execution_count": 164,
     "metadata": {},
     "output_type": "execute_result"
    }
   ],
   "source": [
    "citywise_yearspd = cus_spd.pivot_table(values= 'Amount', index= ['yearspd', 'City'], columns= ['Product'], aggfunc = sum)\n",
    "citywise_yearspd"
   ]
  },
  {
   "cell_type": "code",
   "execution_count": 165,
   "id": "e962d7de",
   "metadata": {},
   "outputs": [
    {
     "data": {
      "text/plain": [
       "<AxesSubplot:xlabel='yearspd,City'>"
      ]
     },
     "execution_count": 165,
     "metadata": {},
     "output_type": "execute_result"
    },
    {
     "data": {
      "image/png": "[encoded data removed]",
      "text/plain": [
       "<Figure size 432x288 with 1 Axes>"
      ]
     },
     "metadata": {
      "needs_background": "light"
     },
     "output_type": "display_data"
    }
   ],
   "source": [
    "citywise_yearspd.plot(kind= 'bar')"
   ]
  },
  {
   "cell_type": "markdown",
   "id": "29be164f",
   "metadata": {},
   "source": [
    "##### 4. Create graphs for\n",
    "###### a. Monthly comparison of total spends, city wise"
   ]
  },
  {
   "cell_type": "code",
   "execution_count": 180,
   "id": "43e2cc8a",
   "metadata": {},
   "outputs": [
    {
     "data": {
      "text/plain": [
       "<AxesSubplot:xlabel='monthspd,City'>"
      ]
     },
     "execution_count": 180,
     "metadata": {},
     "output_type": "execute_result"
    },
    {
     "data": {
      "image/png": "[encoded data removed]",
      "text/plain": [
       "<Figure size 1296x432 with 1 Axes>"
      ]
     },
     "metadata": {
      "needs_background": "light"
     },
     "output_type": "display_data"
    }
   ],
   "source": [
    "cus_spd.groupby(by= ['monthspd','City'])['Amount'].sum().plot(kind= 'bar',figsize=(18,6) , width=0.8)"
   ]
  },
  {
   "cell_type": "code",
   "execution_count": 184,
   "id": "af7a31d9",
   "metadata": {},
   "outputs": [
    {
     "data": {
      "text/html": [
       "<div>\n",
       "<style scoped>\n",
       "    .dataframe tbody tr th:only-of-type {\n",
       "        vertical-align: middle;\n",
       "    }\n",
       "\n",
       "    .dataframe tbody tr th {\n",
       "        vertical-align: top;\n",
       "    }\n",
       "\n",
       "    .dataframe thead th {\n",
       "        text-align: right;\n",
       "    }\n",
       "</style>\n",
       "<table border=\"1\" class=\"dataframe\">\n",
       "  <thead>\n",
       "    <tr style=\"text-align: right;\">\n",
       "      <th>monthspd</th>\n",
       "      <th>1</th>\n",
       "      <th>2</th>\n",
       "      <th>3</th>\n",
       "      <th>4</th>\n",
       "      <th>5</th>\n",
       "      <th>6</th>\n",
       "      <th>7</th>\n",
       "      <th>8</th>\n",
       "      <th>9</th>\n",
       "      <th>10</th>\n",
       "      <th>11</th>\n",
       "      <th>12</th>\n",
       "    </tr>\n",
       "    <tr>\n",
       "      <th>City</th>\n",
       "      <th></th>\n",
       "      <th></th>\n",
       "      <th></th>\n",
       "      <th></th>\n",
       "      <th></th>\n",
       "      <th></th>\n",
       "      <th></th>\n",
       "      <th></th>\n",
       "      <th></th>\n",
       "      <th></th>\n",
       "      <th></th>\n",
       "      <th></th>\n",
       "    </tr>\n",
       "  </thead>\n",
       "  <tbody>\n",
       "    <tr>\n",
       "      <th>BANGALORE</th>\n",
       "      <td>9041796.84</td>\n",
       "      <td>6734494.76</td>\n",
       "      <td>5362903.07</td>\n",
       "      <td>4207980.48</td>\n",
       "      <td>6383115.13</td>\n",
       "      <td>1330685.90</td>\n",
       "      <td>2228217.69</td>\n",
       "      <td>695061.95</td>\n",
       "      <td>703018.28</td>\n",
       "      <td>1091602.61</td>\n",
       "      <td>2260603.07</td>\n",
       "      <td>422167.24</td>\n",
       "    </tr>\n",
       "    <tr>\n",
       "      <th>BOMBAY</th>\n",
       "      <td>5948993.33</td>\n",
       "      <td>4276988.30</td>\n",
       "      <td>5227850.50</td>\n",
       "      <td>1873785.01</td>\n",
       "      <td>3891945.60</td>\n",
       "      <td>1172594.97</td>\n",
       "      <td>177726.32</td>\n",
       "      <td>1066744.75</td>\n",
       "      <td>1278402.79</td>\n",
       "      <td>676005.70</td>\n",
       "      <td>2872049.40</td>\n",
       "      <td>140040.71</td>\n",
       "    </tr>\n",
       "    <tr>\n",
       "      <th>CALCUTTA</th>\n",
       "      <td>9064864.90</td>\n",
       "      <td>8150545.61</td>\n",
       "      <td>4939040.04</td>\n",
       "      <td>3457507.95</td>\n",
       "      <td>5578246.87</td>\n",
       "      <td>2293045.81</td>\n",
       "      <td>2234573.27</td>\n",
       "      <td>1548354.02</td>\n",
       "      <td>1511713.57</td>\n",
       "      <td>196357.83</td>\n",
       "      <td>2078880.93</td>\n",
       "      <td>55001.50</td>\n",
       "    </tr>\n",
       "    <tr>\n",
       "      <th>CHENNAI</th>\n",
       "      <td>4466961.36</td>\n",
       "      <td>4385815.95</td>\n",
       "      <td>3183643.71</td>\n",
       "      <td>2518656.99</td>\n",
       "      <td>2856199.62</td>\n",
       "      <td>1244242.16</td>\n",
       "      <td>693825.77</td>\n",
       "      <td>305875.97</td>\n",
       "      <td>745759.40</td>\n",
       "      <td>156247.17</td>\n",
       "      <td>1347779.28</td>\n",
       "      <td>223628.27</td>\n",
       "    </tr>\n",
       "    <tr>\n",
       "      <th>COCHIN</th>\n",
       "      <td>11714373.54</td>\n",
       "      <td>5747886.38</td>\n",
       "      <td>5645146.53</td>\n",
       "      <td>3882744.94</td>\n",
       "      <td>6581085.69</td>\n",
       "      <td>2495745.07</td>\n",
       "      <td>1290897.30</td>\n",
       "      <td>2317306.61</td>\n",
       "      <td>1382242.90</td>\n",
       "      <td>868551.89</td>\n",
       "      <td>3127999.60</td>\n",
       "      <td>909533.05</td>\n",
       "    </tr>\n",
       "    <tr>\n",
       "      <th>DELHI</th>\n",
       "      <td>2714261.45</td>\n",
       "      <td>1494064.06</td>\n",
       "      <td>2267149.02</td>\n",
       "      <td>777240.75</td>\n",
       "      <td>1600322.07</td>\n",
       "      <td>511276.09</td>\n",
       "      <td>50001.50</td>\n",
       "      <td>155402.16</td>\n",
       "      <td>50001.00</td>\n",
       "      <td>64615.46</td>\n",
       "      <td>391610.96</td>\n",
       "      <td>842342.02</td>\n",
       "    </tr>\n",
       "    <tr>\n",
       "      <th>PATNA</th>\n",
       "      <td>4916205.55</td>\n",
       "      <td>2353333.55</td>\n",
       "      <td>1437166.61</td>\n",
       "      <td>2338179.53</td>\n",
       "      <td>2136586.80</td>\n",
       "      <td>746186.13</td>\n",
       "      <td>50000.00</td>\n",
       "      <td>419383.64</td>\n",
       "      <td>70329.95</td>\n",
       "      <td>329537.34</td>\n",
       "      <td>413677.87</td>\n",
       "      <td>50000.00</td>\n",
       "    </tr>\n",
       "    <tr>\n",
       "      <th>TRIVANDRUM</th>\n",
       "      <td>3704336.99</td>\n",
       "      <td>2857123.89</td>\n",
       "      <td>2392316.51</td>\n",
       "      <td>1199293.45</td>\n",
       "      <td>2813534.48</td>\n",
       "      <td>400336.83</td>\n",
       "      <td>260484.50</td>\n",
       "      <td>453773.94</td>\n",
       "      <td>186063.70</td>\n",
       "      <td>285581.92</td>\n",
       "      <td>143387.40</td>\n",
       "      <td>640922.26</td>\n",
       "    </tr>\n",
       "  </tbody>\n",
       "</table>\n",
       "</div>"
      ],
      "text/plain": [
       "monthspd             1           2           3           4           5   \\\n",
       "City                                                                      \n",
       "BANGALORE    9041796.84  6734494.76  5362903.07  4207980.48  6383115.13   \n",
       "BOMBAY       5948993.33  4276988.30  5227850.50  1873785.01  3891945.60   \n",
       "CALCUTTA     9064864.90  8150545.61  4939040.04  3457507.95  5578246.87   \n",
       "CHENNAI      4466961.36  4385815.95  3183643.71  2518656.99  2856199.62   \n",
       "COCHIN      11714373.54  5747886.38  5645146.53  3882744.94  6581085.69   \n",
       "DELHI        2714261.45  1494064.06  2267149.02   777240.75  1600322.07   \n",
       "PATNA        4916205.55  2353333.55  1437166.61  2338179.53  2136586.80   \n",
       "TRIVANDRUM   3704336.99  2857123.89  2392316.51  1199293.45  2813534.48   \n",
       "\n",
       "monthspd            6           7           8           9           10  \\\n",
       "City                                                                     \n",
       "BANGALORE   1330685.90  2228217.69   695061.95   703018.28  1091602.61   \n",
       "BOMBAY      1172594.97   177726.32  1066744.75  1278402.79   676005.70   \n",
       "CALCUTTA    2293045.81  2234573.27  1548354.02  1511713.57   196357.83   \n",
       "CHENNAI     1244242.16   693825.77   305875.97   745759.40   156247.17   \n",
       "COCHIN      2495745.07  1290897.30  2317306.61  1382242.90   868551.89   \n",
       "DELHI        511276.09    50001.50   155402.16    50001.00    64615.46   \n",
       "PATNA        746186.13    50000.00   419383.64    70329.95   329537.34   \n",
       "TRIVANDRUM   400336.83   260484.50   453773.94   186063.70   285581.92   \n",
       "\n",
       "monthspd            11         12  \n",
       "City                               \n",
       "BANGALORE   2260603.07  422167.24  \n",
       "BOMBAY      2872049.40  140040.71  \n",
       "CALCUTTA    2078880.93   55001.50  \n",
       "CHENNAI     1347779.28  223628.27  \n",
       "COCHIN      3127999.60  909533.05  \n",
       "DELHI        391610.96  842342.02  \n",
       "PATNA        413677.87   50000.00  \n",
       "TRIVANDRUM   143387.40  640922.26  "
      ]
     },
     "execution_count": 184,
     "metadata": {},
     "output_type": "execute_result"
    }
   ],
   "source": [
    "cus_spd.pivot_table(values = 'Amount', index= 'City', columns = 'monthspd', aggfunc= 'sum')"
   ]
  },
  {
   "cell_type": "markdown",
   "id": "cc2f7ff2",
   "metadata": {},
   "source": [
    "###### b. Comparison of yearly spend on air tickets"
   ]
  },
  {
   "cell_type": "code",
   "execution_count": 193,
   "id": "98a6a07c",
   "metadata": {},
   "outputs": [
    {
     "data": {
      "text/plain": [
       "<AxesSubplot:xlabel='yearspd'>"
      ]
     },
     "execution_count": 193,
     "metadata": {},
     "output_type": "execute_result"
    },
    {
     "data": {
      "image/png": "[encoded data removed]",
      "text/plain": [
       "<Figure size 432x288 with 1 Axes>"
      ]
     },
     "metadata": {
      "needs_background": "light"
     },
     "output_type": "display_data"
    }
   ],
   "source": [
    "airticket = cus_spd[cus_spd['Type']== 'AIR TICKET'].groupby('yearspd')['Amount'].sum()\n",
    "airticket.plot(kind= 'bar')"
   ]
  },
  {
   "cell_type": "markdown",
   "id": "bb18603b",
   "metadata": {},
   "source": [
    "###### c. Comparison of monthly spend for each product (look for any seasonality that exists in terms of spend)"
   ]
  },
  {
   "cell_type": "code",
   "execution_count": 197,
   "id": "df0d30f0",
   "metadata": {},
   "outputs": [
    {
     "data": {
      "text/plain": [
       "<AxesSubplot:xlabel='monthspd'>"
      ]
     },
     "execution_count": 197,
     "metadata": {},
     "output_type": "execute_result"
    },
    {
     "data": {
      "image/png": "[encoded data removed]",
      "text/plain": [
       "<Figure size 432x288 with 1 Axes>"
      ]
     },
     "metadata": {
      "needs_background": "light"
     },
     "output_type": "display_data"
    }
   ],
   "source": [
    "prod_mnt= cus_spd.pivot_table(values= 'Amount', index= 'monthspd', columns= 'Product', aggfunc= sum)\n",
    "prod_mnt.plot(kind= 'bar')"
   ]
  },
  {
   "cell_type": "markdown",
   "id": "4c0e0339",
   "metadata": {},
   "source": [
    "Customers spend more during the first 5 months of the year"
   ]
  },
  {
   "cell_type": "markdown",
   "id": "26a4b916",
   "metadata": {},
   "source": [
    "#### 5. Write user defined PYTHON function to perform the following analysis:"
   ]
  },
  {
   "cell_type": "markdown",
   "id": "ed8d04f6",
   "metadata": {},
   "source": [
    "###### You need to find top 10 customers for each city in terms of their repayment amount by\n",
    "###### different products and by different time periods i.e. year or month. The user should be able\n",
    "###### to specify the product (Gold/Silver/Platinum) and time period (yearly or monthly) and the\n",
    "###### function should automatically take these inputs while identifying the top 10 customers."
   ]
  },
  {
   "cell_type": "code",
   "execution_count": 295,
   "id": "429c9843",
   "metadata": {},
   "outputs": [],
   "source": [
    "def summary(product,timeperiod):\n",
    "    print('Give the product name and timeperiod for which you want the data')\n",
    "    if product.lower()=='gold' and timeperiod.lower()=='monthspd':\n",
    "        pivot = cus_rep.pivot_table(index=['Product','City','Customer'],columns='monthspd',aggfunc='sum',values='Amount')\n",
    "        result = pivot.loc[('Gold',['BANGALORE','COCHIN','CALCUTTA','BOMBAY','CHENNAI','TRIVANDRUM','PATNA','DELHI']),:]\n",
    "    elif product.lower()=='gold' and timeperiod.lower()=='yearspd':\n",
    "        pivot = cus_rep.pivot_table(index=['Product','City','Customer'],columns='yearspd',aggfunc='sum',values='Amount')\n",
    "        result = pivot.loc[('Gold',['BANGALORE','COCHIN','CALCUTTA','BOMBAY','CHENNAI','TRIVANDRUM','PATNA','DELHI']),:]\n",
    "    elif product.lower()=='silver' and timeperiod.lower()=='monthspd':\n",
    "        pivot = cus_rep.pivot_table(index=['Product','City','Customer'],columns='monthspd',aggfunc='sum',values='Amount')\n",
    "        result = pivot.loc[('Silver',['BANGALORE','COCHIN','CALCUTTA','BOMBAY','CHENNAI','TRIVANDRUM','PATNA','DELHI']),:]\n",
    "    elif product.lower()=='silver' and timeperiod.lower()=='yearspd':\n",
    "        pivot = cus_rep.pivot_table(index=['Product','City','Customer'],columns='yearspd',aggfunc='sum',values='Amount')\n",
    "        result = pivot.loc[('Silver',['BANGALORE','COCHIN','CALCUTTA','BOMBAY','CHENNAI','TRIVANDRUM','PATNA','DELHI']),:]\n",
    "    if product.lower()=='platinum' and timeperiod.lower()=='monthspd':\n",
    "        pivot = cus_rep.pivot_table(index=['Product','City','Customer'],columns='monthspd',aggfunc='sum',values='Amount')\n",
    "        result = pivot.loc[('Platinum',['BANGALORE','COCHIN','CALCUTTA','BOMBAY','CHENNAI','TRIVANDRUM','PATNA','DELHI']),:]\n",
    "    elif product.lower()=='platinum' and timeperiod.lower()=='yearspd':\n",
    "        pivot = cus_rep.pivot_table(index=['Product','City','Customer'],columns='yearspd',aggfunc='sum',values='Amount')\n",
    "        result = pivot.loc[('Platinum',['BANGALORE','COCHIN','CALCUTTA','BOMBAY','CHENNAI','TRIVANDRUM','PATNA','DELHI']),:]\n",
    "    return result"
   ]
  },
  {
   "cell_type": "code",
   "execution_count": 297,
   "id": "55bb24aa",
   "metadata": {},
   "outputs": [
    {
     "ename": "NameError",
     "evalue": "name 'silver' is not defined",
     "output_type": "error",
     "traceback": [
      "\u001b[1;31m---------------------------------------------------------------------------\u001b[0m",
      "\u001b[1;31mNameError\u001b[0m                                 Traceback (most recent call last)",
      "Input \u001b[1;32mIn [297]\u001b[0m, in \u001b[0;36m<cell line: 1>\u001b[1;34m()\u001b[0m\n\u001b[1;32m----> 1\u001b[0m summary(\u001b[43msilver\u001b[49m, monthspd)\n",
      "\u001b[1;31mNameError\u001b[0m: name 'silver' is not defined"
     ]
    }
   ],
   "source": [
    "summary(silver, monthspd)"
   ]
  }
 ],
 "metadata": {
  "kernelspec": {
   "display_name": "Python 3 (ipykernel)",
   "language": "python",
   "name": "python3"
  },
  "language_info": {
   "codemirror_mode": {
    "name": "ipython",
    "version": 3
   },
   "file_extension": ".py",
   "mimetype": "text/x-python",
   "name": "python",
   "nbconvert_exporter": "python",
   "pygments_lexer": "ipython3",
   "version": "3.9.12"
  }
 },
 "nbformat": 4,
 "nbformat_minor": 5
}
