{
 "cells": [
  {
   "cell_type": "markdown",
   "id": "d2b776fd",
   "metadata": {},
   "source": [
    "## Hypothesis Testing Case Study"
   ]
  },
  {
   "cell_type": "code",
   "execution_count": 1,
   "id": "32059792",
   "metadata": {},
   "outputs": [],
   "source": [
    "import numpy as np\n",
    "import pandas as pd\n",
    "import matplotlib.pyplot as plt\n",
    "import scipy.stats as stats"
   ]
  },
  {
   "cell_type": "markdown",
   "id": "a8edefa5",
   "metadata": {},
   "source": [
    "### Business Problem 1"
   ]
  },
  {
   "cell_type": "code",
   "execution_count": 5,
   "id": "42c34dbc",
   "metadata": {},
   "outputs": [
    {
     "data": {
      "text/html": [
       "<div>\n",
       "<style scoped>\n",
       "    .dataframe tbody tr th:only-of-type {\n",
       "        vertical-align: middle;\n",
       "    }\n",
       "\n",
       "    .dataframe tbody tr th {\n",
       "        vertical-align: top;\n",
       "    }\n",
       "\n",
       "    .dataframe thead th {\n",
       "        text-align: right;\n",
       "    }\n",
       "</style>\n",
       "<table border=\"1\" class=\"dataframe\">\n",
       "  <thead>\n",
       "    <tr style=\"text-align: right;\">\n",
       "      <th></th>\n",
       "      <th>Amount.Requested</th>\n",
       "      <th>Amount.Funded.By.Investors</th>\n",
       "      <th>Interest.Rate</th>\n",
       "      <th>Loan.Length</th>\n",
       "      <th>Loan.Purpose</th>\n",
       "      <th>Debt.To.Income.Ratio</th>\n",
       "      <th>State</th>\n",
       "      <th>Home.Ownership</th>\n",
       "      <th>Monthly.Income</th>\n",
       "      <th>FICO.Range</th>\n",
       "      <th>Open.CREDIT.Lines</th>\n",
       "      <th>Revolving.CREDIT.Balance</th>\n",
       "      <th>Inquiries.in.the.Last.6.Months</th>\n",
       "      <th>Employment.Length</th>\n",
       "    </tr>\n",
       "  </thead>\n",
       "  <tbody>\n",
       "    <tr>\n",
       "      <th>0</th>\n",
       "      <td>20000.0</td>\n",
       "      <td>20000.0</td>\n",
       "      <td>8.90%</td>\n",
       "      <td>36 months</td>\n",
       "      <td>debt_consolidation</td>\n",
       "      <td>14.90%</td>\n",
       "      <td>SC</td>\n",
       "      <td>MORTGAGE</td>\n",
       "      <td>6541.67</td>\n",
       "      <td>735-739</td>\n",
       "      <td>14.0</td>\n",
       "      <td>14272.0</td>\n",
       "      <td>2.0</td>\n",
       "      <td>&lt; 1 year</td>\n",
       "    </tr>\n",
       "    <tr>\n",
       "      <th>1</th>\n",
       "      <td>19200.0</td>\n",
       "      <td>19200.0</td>\n",
       "      <td>12.12%</td>\n",
       "      <td>36 months</td>\n",
       "      <td>debt_consolidation</td>\n",
       "      <td>28.36%</td>\n",
       "      <td>TX</td>\n",
       "      <td>MORTGAGE</td>\n",
       "      <td>4583.33</td>\n",
       "      <td>715-719</td>\n",
       "      <td>12.0</td>\n",
       "      <td>11140.0</td>\n",
       "      <td>1.0</td>\n",
       "      <td>2 years</td>\n",
       "    </tr>\n",
       "    <tr>\n",
       "      <th>2</th>\n",
       "      <td>35000.0</td>\n",
       "      <td>35000.0</td>\n",
       "      <td>21.98%</td>\n",
       "      <td>60 months</td>\n",
       "      <td>debt_consolidation</td>\n",
       "      <td>23.81%</td>\n",
       "      <td>CA</td>\n",
       "      <td>MORTGAGE</td>\n",
       "      <td>11500.00</td>\n",
       "      <td>690-694</td>\n",
       "      <td>14.0</td>\n",
       "      <td>21977.0</td>\n",
       "      <td>1.0</td>\n",
       "      <td>2 years</td>\n",
       "    </tr>\n",
       "    <tr>\n",
       "      <th>3</th>\n",
       "      <td>10000.0</td>\n",
       "      <td>9975.0</td>\n",
       "      <td>9.99%</td>\n",
       "      <td>36 months</td>\n",
       "      <td>debt_consolidation</td>\n",
       "      <td>14.30%</td>\n",
       "      <td>KS</td>\n",
       "      <td>MORTGAGE</td>\n",
       "      <td>3833.33</td>\n",
       "      <td>695-699</td>\n",
       "      <td>10.0</td>\n",
       "      <td>9346.0</td>\n",
       "      <td>0.0</td>\n",
       "      <td>5 years</td>\n",
       "    </tr>\n",
       "    <tr>\n",
       "      <th>4</th>\n",
       "      <td>12000.0</td>\n",
       "      <td>12000.0</td>\n",
       "      <td>11.71%</td>\n",
       "      <td>36 months</td>\n",
       "      <td>credit_card</td>\n",
       "      <td>18.78%</td>\n",
       "      <td>NJ</td>\n",
       "      <td>RENT</td>\n",
       "      <td>3195.00</td>\n",
       "      <td>695-699</td>\n",
       "      <td>11.0</td>\n",
       "      <td>14469.0</td>\n",
       "      <td>0.0</td>\n",
       "      <td>9 years</td>\n",
       "    </tr>\n",
       "  </tbody>\n",
       "</table>\n",
       "</div>"
      ],
      "text/plain": [
       "   Amount.Requested  Amount.Funded.By.Investors Interest.Rate Loan.Length  \\\n",
       "0           20000.0                     20000.0         8.90%   36 months   \n",
       "1           19200.0                     19200.0        12.12%   36 months   \n",
       "2           35000.0                     35000.0        21.98%   60 months   \n",
       "3           10000.0                      9975.0         9.99%   36 months   \n",
       "4           12000.0                     12000.0        11.71%   36 months   \n",
       "\n",
       "         Loan.Purpose Debt.To.Income.Ratio State Home.Ownership  \\\n",
       "0  debt_consolidation               14.90%    SC       MORTGAGE   \n",
       "1  debt_consolidation               28.36%    TX       MORTGAGE   \n",
       "2  debt_consolidation               23.81%    CA       MORTGAGE   \n",
       "3  debt_consolidation               14.30%    KS       MORTGAGE   \n",
       "4         credit_card               18.78%    NJ           RENT   \n",
       "\n",
       "   Monthly.Income FICO.Range  Open.CREDIT.Lines  Revolving.CREDIT.Balance  \\\n",
       "0         6541.67    735-739               14.0                   14272.0   \n",
       "1         4583.33    715-719               12.0                   11140.0   \n",
       "2        11500.00    690-694               14.0                   21977.0   \n",
       "3         3833.33    695-699               10.0                    9346.0   \n",
       "4         3195.00    695-699               11.0                   14469.0   \n",
       "\n",
       "   Inquiries.in.the.Last.6.Months Employment.Length  \n",
       "0                             2.0          < 1 year  \n",
       "1                             1.0           2 years  \n",
       "2                             1.0           2 years  \n",
       "3                             0.0           5 years  \n",
       "4                             0.0           9 years  "
      ]
     },
     "execution_count": 5,
     "metadata": {},
     "output_type": "execute_result"
    }
   ],
   "source": [
    "LoansData=pd.read_csv(\"C:\\Analytixlabs\\Learning\\Python for Data Science\\Case Study\\Basic Statistics  Case Study 5 - Hypothesis Testing\\LoansData.csv\")\n",
    "LoansData.head()"
   ]
  },
  {
   "cell_type": "code",
   "execution_count": 6,
   "id": "5e920f08",
   "metadata": {},
   "outputs": [
    {
     "name": "stdout",
     "output_type": "stream",
     "text": [
      "<class 'pandas.core.frame.DataFrame'>\n",
      "RangeIndex: 2500 entries, 0 to 2499\n",
      "Data columns (total 14 columns):\n",
      " #   Column                          Non-Null Count  Dtype  \n",
      "---  ------                          --------------  -----  \n",
      " 0   Amount.Requested                2499 non-null   float64\n",
      " 1   Amount.Funded.By.Investors      2499 non-null   float64\n",
      " 2   Interest.Rate                   2498 non-null   object \n",
      " 3   Loan.Length                     2500 non-null   object \n",
      " 4   Loan.Purpose                    2500 non-null   object \n",
      " 5   Debt.To.Income.Ratio            2499 non-null   object \n",
      " 6   State                           2500 non-null   object \n",
      " 7   Home.Ownership                  2499 non-null   object \n",
      " 8   Monthly.Income                  2499 non-null   float64\n",
      " 9   FICO.Range                      2498 non-null   object \n",
      " 10  Open.CREDIT.Lines               2497 non-null   float64\n",
      " 11  Revolving.CREDIT.Balance        2497 non-null   float64\n",
      " 12  Inquiries.in.the.Last.6.Months  2497 non-null   float64\n",
      " 13  Employment.Length               2423 non-null   object \n",
      "dtypes: float64(6), object(8)\n",
      "memory usage: 273.6+ KB\n"
     ]
    }
   ],
   "source": [
    "LoansData.info()"
   ]
  },
  {
   "cell_type": "markdown",
   "id": "8335dfc3",
   "metadata": {},
   "source": [
    "#### Reanming variables as per INC"
   ]
  },
  {
   "cell_type": "code",
   "execution_count": 7,
   "id": "d1045e67",
   "metadata": {},
   "outputs": [
    {
     "name": "stderr",
     "output_type": "stream",
     "text": [
      "C:\\Users\\kroop\\AppData\\Local\\Temp\\ipykernel_22280\\4201275303.py:1: FutureWarning: The default value of regex will change from True to False in a future version. In addition, single character regular expressions will *not* be treated as literal strings when regex=True.\n",
      "  LoansData.columns=LoansData.columns.str.replace('.','_')\n"
     ]
    }
   ],
   "source": [
    "LoansData.columns=LoansData.columns.str.replace('.','_')"
   ]
  },
  {
   "cell_type": "code",
   "execution_count": 10,
   "id": "468d2d35",
   "metadata": {},
   "outputs": [
    {
     "data": {
      "text/html": [
       "<div>\n",
       "<style scoped>\n",
       "    .dataframe tbody tr th:only-of-type {\n",
       "        vertical-align: middle;\n",
       "    }\n",
       "\n",
       "    .dataframe tbody tr th {\n",
       "        vertical-align: top;\n",
       "    }\n",
       "\n",
       "    .dataframe thead th {\n",
       "        text-align: right;\n",
       "    }\n",
       "</style>\n",
       "<table border=\"1\" class=\"dataframe\">\n",
       "  <thead>\n",
       "    <tr style=\"text-align: right;\">\n",
       "      <th></th>\n",
       "      <th>Amount_Requested</th>\n",
       "      <th>Amount_Funded_By_Investors</th>\n",
       "      <th>Interest_Rate</th>\n",
       "      <th>Loan_Length</th>\n",
       "      <th>Loan_Purpose</th>\n",
       "      <th>Debt_To_Income_Ratio</th>\n",
       "      <th>State</th>\n",
       "      <th>Home_Ownership</th>\n",
       "      <th>Monthly_Income</th>\n",
       "      <th>FICO_Range</th>\n",
       "      <th>Open_CREDIT_Lines</th>\n",
       "      <th>Revolving_CREDIT_Balance</th>\n",
       "      <th>Inquiries_in_the_Last_6_Months</th>\n",
       "      <th>Employment_Length</th>\n",
       "    </tr>\n",
       "  </thead>\n",
       "  <tbody>\n",
       "    <tr>\n",
       "      <th>0</th>\n",
       "      <td>20000.0</td>\n",
       "      <td>20000.0</td>\n",
       "      <td>8.90%</td>\n",
       "      <td>36 months</td>\n",
       "      <td>debt_consolidation</td>\n",
       "      <td>14.90%</td>\n",
       "      <td>SC</td>\n",
       "      <td>MORTGAGE</td>\n",
       "      <td>6541.67</td>\n",
       "      <td>735-739</td>\n",
       "      <td>14.0</td>\n",
       "      <td>14272.0</td>\n",
       "      <td>2.0</td>\n",
       "      <td>&lt; 1 year</td>\n",
       "    </tr>\n",
       "    <tr>\n",
       "      <th>1</th>\n",
       "      <td>19200.0</td>\n",
       "      <td>19200.0</td>\n",
       "      <td>12.12%</td>\n",
       "      <td>36 months</td>\n",
       "      <td>debt_consolidation</td>\n",
       "      <td>28.36%</td>\n",
       "      <td>TX</td>\n",
       "      <td>MORTGAGE</td>\n",
       "      <td>4583.33</td>\n",
       "      <td>715-719</td>\n",
       "      <td>12.0</td>\n",
       "      <td>11140.0</td>\n",
       "      <td>1.0</td>\n",
       "      <td>2 years</td>\n",
       "    </tr>\n",
       "    <tr>\n",
       "      <th>2</th>\n",
       "      <td>35000.0</td>\n",
       "      <td>35000.0</td>\n",
       "      <td>21.98%</td>\n",
       "      <td>60 months</td>\n",
       "      <td>debt_consolidation</td>\n",
       "      <td>23.81%</td>\n",
       "      <td>CA</td>\n",
       "      <td>MORTGAGE</td>\n",
       "      <td>11500.00</td>\n",
       "      <td>690-694</td>\n",
       "      <td>14.0</td>\n",
       "      <td>21977.0</td>\n",
       "      <td>1.0</td>\n",
       "      <td>2 years</td>\n",
       "    </tr>\n",
       "    <tr>\n",
       "      <th>3</th>\n",
       "      <td>10000.0</td>\n",
       "      <td>9975.0</td>\n",
       "      <td>9.99%</td>\n",
       "      <td>36 months</td>\n",
       "      <td>debt_consolidation</td>\n",
       "      <td>14.30%</td>\n",
       "      <td>KS</td>\n",
       "      <td>MORTGAGE</td>\n",
       "      <td>3833.33</td>\n",
       "      <td>695-699</td>\n",
       "      <td>10.0</td>\n",
       "      <td>9346.0</td>\n",
       "      <td>0.0</td>\n",
       "      <td>5 years</td>\n",
       "    </tr>\n",
       "    <tr>\n",
       "      <th>4</th>\n",
       "      <td>12000.0</td>\n",
       "      <td>12000.0</td>\n",
       "      <td>11.71%</td>\n",
       "      <td>36 months</td>\n",
       "      <td>credit_card</td>\n",
       "      <td>18.78%</td>\n",
       "      <td>NJ</td>\n",
       "      <td>RENT</td>\n",
       "      <td>3195.00</td>\n",
       "      <td>695-699</td>\n",
       "      <td>11.0</td>\n",
       "      <td>14469.0</td>\n",
       "      <td>0.0</td>\n",
       "      <td>9 years</td>\n",
       "    </tr>\n",
       "  </tbody>\n",
       "</table>\n",
       "</div>"
      ],
      "text/plain": [
       "   Amount_Requested  Amount_Funded_By_Investors Interest_Rate Loan_Length  \\\n",
       "0           20000.0                     20000.0         8.90%   36 months   \n",
       "1           19200.0                     19200.0        12.12%   36 months   \n",
       "2           35000.0                     35000.0        21.98%   60 months   \n",
       "3           10000.0                      9975.0         9.99%   36 months   \n",
       "4           12000.0                     12000.0        11.71%   36 months   \n",
       "\n",
       "         Loan_Purpose Debt_To_Income_Ratio State Home_Ownership  \\\n",
       "0  debt_consolidation               14.90%    SC       MORTGAGE   \n",
       "1  debt_consolidation               28.36%    TX       MORTGAGE   \n",
       "2  debt_consolidation               23.81%    CA       MORTGAGE   \n",
       "3  debt_consolidation               14.30%    KS       MORTGAGE   \n",
       "4         credit_card               18.78%    NJ           RENT   \n",
       "\n",
       "   Monthly_Income FICO_Range  Open_CREDIT_Lines  Revolving_CREDIT_Balance  \\\n",
       "0         6541.67    735-739               14.0                   14272.0   \n",
       "1         4583.33    715-719               12.0                   11140.0   \n",
       "2        11500.00    690-694               14.0                   21977.0   \n",
       "3         3833.33    695-699               10.0                    9346.0   \n",
       "4         3195.00    695-699               11.0                   14469.0   \n",
       "\n",
       "   Inquiries_in_the_Last_6_Months Employment_Length  \n",
       "0                             2.0          < 1 year  \n",
       "1                             1.0           2 years  \n",
       "2                             1.0           2 years  \n",
       "3                             0.0           5 years  \n",
       "4                             0.0           9 years  "
      ]
     },
     "execution_count": 10,
     "metadata": {},
     "output_type": "execute_result"
    }
   ],
   "source": [
    "LoansData.head()"
   ]
  },
  {
   "cell_type": "code",
   "execution_count": 17,
   "id": "e1c53354",
   "metadata": {},
   "outputs": [
    {
     "name": "stdout",
     "output_type": "stream",
     "text": [
      "<class 'pandas.core.frame.DataFrame'>\n",
      "RangeIndex: 2500 entries, 0 to 2499\n",
      "Data columns (total 14 columns):\n",
      " #   Column                          Non-Null Count  Dtype  \n",
      "---  ------                          --------------  -----  \n",
      " 0   Amount_Requested                2499 non-null   float64\n",
      " 1   Amount_Funded_By_Investors      2499 non-null   float64\n",
      " 2   Interest_Rate                   2498 non-null   float64\n",
      " 3   Loan_Length                     2500 non-null   int32  \n",
      " 4   Loan_Purpose                    2500 non-null   object \n",
      " 5   Debt_To_Income_Ratio            2499 non-null   float64\n",
      " 6   State                           2500 non-null   object \n",
      " 7   Home_Ownership                  2499 non-null   object \n",
      " 8   Monthly_Income                  2499 non-null   float64\n",
      " 9   FICO_Range                      2498 non-null   object \n",
      " 10  Open_CREDIT_Lines               2497 non-null   float64\n",
      " 11  Revolving_CREDIT_Balance        2497 non-null   float64\n",
      " 12  Inquiries_in_the_Last_6_Months  2497 non-null   float64\n",
      " 13  Employment_Length               2423 non-null   object \n",
      "dtypes: float64(8), int32(1), object(5)\n",
      "memory usage: 263.8+ KB\n"
     ]
    }
   ],
   "source": [
    "LoansData.info()"
   ]
  },
  {
   "cell_type": "code",
   "execution_count": 19,
   "id": "d5c40948",
   "metadata": {},
   "outputs": [
    {
     "data": {
      "text/html": [
       "<div>\n",
       "<style scoped>\n",
       "    .dataframe tbody tr th:only-of-type {\n",
       "        vertical-align: middle;\n",
       "    }\n",
       "\n",
       "    .dataframe tbody tr th {\n",
       "        vertical-align: top;\n",
       "    }\n",
       "\n",
       "    .dataframe thead th {\n",
       "        text-align: right;\n",
       "    }\n",
       "</style>\n",
       "<table border=\"1\" class=\"dataframe\">\n",
       "  <thead>\n",
       "    <tr style=\"text-align: right;\">\n",
       "      <th></th>\n",
       "      <th>count</th>\n",
       "      <th>mean</th>\n",
       "      <th>std</th>\n",
       "      <th>min</th>\n",
       "      <th>25%</th>\n",
       "      <th>50%</th>\n",
       "      <th>75%</th>\n",
       "      <th>max</th>\n",
       "    </tr>\n",
       "  </thead>\n",
       "  <tbody>\n",
       "    <tr>\n",
       "      <th>Amount_Requested</th>\n",
       "      <td>2499.0</td>\n",
       "      <td>12405.462185</td>\n",
       "      <td>7802.933666</td>\n",
       "      <td>1000.00</td>\n",
       "      <td>6000.00</td>\n",
       "      <td>10000.00</td>\n",
       "      <td>17000.000</td>\n",
       "      <td>35000.00</td>\n",
       "    </tr>\n",
       "    <tr>\n",
       "      <th>Amount_Funded_By_Investors</th>\n",
       "      <td>2499.0</td>\n",
       "      <td>12002.374186</td>\n",
       "      <td>7746.767348</td>\n",
       "      <td>-0.01</td>\n",
       "      <td>6000.00</td>\n",
       "      <td>10000.00</td>\n",
       "      <td>16000.000</td>\n",
       "      <td>35000.00</td>\n",
       "    </tr>\n",
       "    <tr>\n",
       "      <th>Interest_Rate</th>\n",
       "      <td>2498.0</td>\n",
       "      <td>13.065388</td>\n",
       "      <td>4.177201</td>\n",
       "      <td>5.42</td>\n",
       "      <td>10.16</td>\n",
       "      <td>13.11</td>\n",
       "      <td>15.800</td>\n",
       "      <td>24.89</td>\n",
       "    </tr>\n",
       "    <tr>\n",
       "      <th>Loan_Length</th>\n",
       "      <td>2500.0</td>\n",
       "      <td>41.260800</td>\n",
       "      <td>9.930893</td>\n",
       "      <td>36.00</td>\n",
       "      <td>36.00</td>\n",
       "      <td>36.00</td>\n",
       "      <td>36.000</td>\n",
       "      <td>60.00</td>\n",
       "    </tr>\n",
       "    <tr>\n",
       "      <th>Debt_To_Income_Ratio</th>\n",
       "      <td>2499.0</td>\n",
       "      <td>15.380420</td>\n",
       "      <td>7.505052</td>\n",
       "      <td>0.00</td>\n",
       "      <td>9.75</td>\n",
       "      <td>15.32</td>\n",
       "      <td>20.675</td>\n",
       "      <td>34.91</td>\n",
       "    </tr>\n",
       "    <tr>\n",
       "      <th>Monthly_Income</th>\n",
       "      <td>2499.0</td>\n",
       "      <td>5688.931321</td>\n",
       "      <td>3963.118185</td>\n",
       "      <td>588.50</td>\n",
       "      <td>3500.00</td>\n",
       "      <td>5000.00</td>\n",
       "      <td>6800.000</td>\n",
       "      <td>102750.00</td>\n",
       "    </tr>\n",
       "    <tr>\n",
       "      <th>Open_CREDIT_Lines</th>\n",
       "      <td>2497.0</td>\n",
       "      <td>10.072887</td>\n",
       "      <td>4.507416</td>\n",
       "      <td>2.00</td>\n",
       "      <td>7.00</td>\n",
       "      <td>9.00</td>\n",
       "      <td>13.000</td>\n",
       "      <td>38.00</td>\n",
       "    </tr>\n",
       "    <tr>\n",
       "      <th>Revolving_CREDIT_Balance</th>\n",
       "      <td>2497.0</td>\n",
       "      <td>15223.184622</td>\n",
       "      <td>18281.015258</td>\n",
       "      <td>0.00</td>\n",
       "      <td>5584.00</td>\n",
       "      <td>10948.00</td>\n",
       "      <td>18861.000</td>\n",
       "      <td>270800.00</td>\n",
       "    </tr>\n",
       "    <tr>\n",
       "      <th>Inquiries_in_the_Last_6_Months</th>\n",
       "      <td>2497.0</td>\n",
       "      <td>0.906688</td>\n",
       "      <td>1.231149</td>\n",
       "      <td>0.00</td>\n",
       "      <td>0.00</td>\n",
       "      <td>0.00</td>\n",
       "      <td>1.000</td>\n",
       "      <td>9.00</td>\n",
       "    </tr>\n",
       "  </tbody>\n",
       "</table>\n",
       "</div>"
      ],
      "text/plain": [
       "                                 count          mean           std      min  \\\n",
       "Amount_Requested                2499.0  12405.462185   7802.933666  1000.00   \n",
       "Amount_Funded_By_Investors      2499.0  12002.374186   7746.767348    -0.01   \n",
       "Interest_Rate                   2498.0     13.065388      4.177201     5.42   \n",
       "Loan_Length                     2500.0     41.260800      9.930893    36.00   \n",
       "Debt_To_Income_Ratio            2499.0     15.380420      7.505052     0.00   \n",
       "Monthly_Income                  2499.0   5688.931321   3963.118185   588.50   \n",
       "Open_CREDIT_Lines               2497.0     10.072887      4.507416     2.00   \n",
       "Revolving_CREDIT_Balance        2497.0  15223.184622  18281.015258     0.00   \n",
       "Inquiries_in_the_Last_6_Months  2497.0      0.906688      1.231149     0.00   \n",
       "\n",
       "                                    25%       50%        75%        max  \n",
       "Amount_Requested                6000.00  10000.00  17000.000   35000.00  \n",
       "Amount_Funded_By_Investors      6000.00  10000.00  16000.000   35000.00  \n",
       "Interest_Rate                     10.16     13.11     15.800      24.89  \n",
       "Loan_Length                       36.00     36.00     36.000      60.00  \n",
       "Debt_To_Income_Ratio               9.75     15.32     20.675      34.91  \n",
       "Monthly_Income                  3500.00   5000.00   6800.000  102750.00  \n",
       "Open_CREDIT_Lines                  7.00      9.00     13.000      38.00  \n",
       "Revolving_CREDIT_Balance        5584.00  10948.00  18861.000  270800.00  \n",
       "Inquiries_in_the_Last_6_Months     0.00      0.00      1.000       9.00  "
      ]
     },
     "execution_count": 19,
     "metadata": {},
     "output_type": "execute_result"
    }
   ],
   "source": [
    "LoansData.describe().T"
   ]
  },
  {
   "cell_type": "code",
   "execution_count": 21,
   "id": "6d8a8e0f",
   "metadata": {},
   "outputs": [
    {
     "data": {
      "text/plain": [
       "Amount_Requested                   1\n",
       "Amount_Funded_By_Investors         1\n",
       "Interest_Rate                      2\n",
       "Loan_Length                        0\n",
       "Loan_Purpose                       0\n",
       "Debt_To_Income_Ratio               1\n",
       "State                              0\n",
       "Home_Ownership                     1\n",
       "Monthly_Income                     1\n",
       "FICO_Range                         2\n",
       "Open_CREDIT_Lines                  3\n",
       "Revolving_CREDIT_Balance           3\n",
       "Inquiries_in_the_Last_6_Months     3\n",
       "Employment_Length                 77\n",
       "dtype: int64"
      ]
     },
     "execution_count": 21,
     "metadata": {},
     "output_type": "execute_result"
    }
   ],
   "source": [
    "LoansData.isna().sum()"
   ]
  },
  {
   "cell_type": "markdown",
   "id": "85172ac7",
   "metadata": {},
   "source": [
    "#### Dropping Employment length variable as it has many missing values"
   ]
  },
  {
   "cell_type": "code",
   "execution_count": 22,
   "id": "e53b8998",
   "metadata": {},
   "outputs": [],
   "source": [
    "LoansData.drop(columns=['Employment_Length'],inplace=True)"
   ]
  },
  {
   "cell_type": "code",
   "execution_count": 23,
   "id": "ef17c8a1",
   "metadata": {},
   "outputs": [
    {
     "data": {
      "text/html": [
       "<div>\n",
       "<style scoped>\n",
       "    .dataframe tbody tr th:only-of-type {\n",
       "        vertical-align: middle;\n",
       "    }\n",
       "\n",
       "    .dataframe tbody tr th {\n",
       "        vertical-align: top;\n",
       "    }\n",
       "\n",
       "    .dataframe thead th {\n",
       "        text-align: right;\n",
       "    }\n",
       "</style>\n",
       "<table border=\"1\" class=\"dataframe\">\n",
       "  <thead>\n",
       "    <tr style=\"text-align: right;\">\n",
       "      <th></th>\n",
       "      <th>Amount_Requested</th>\n",
       "      <th>Amount_Funded_By_Investors</th>\n",
       "      <th>Interest_Rate</th>\n",
       "      <th>Loan_Length</th>\n",
       "      <th>Loan_Purpose</th>\n",
       "      <th>Debt_To_Income_Ratio</th>\n",
       "      <th>State</th>\n",
       "      <th>Home_Ownership</th>\n",
       "      <th>Monthly_Income</th>\n",
       "      <th>FICO_Range</th>\n",
       "      <th>Open_CREDIT_Lines</th>\n",
       "      <th>Revolving_CREDIT_Balance</th>\n",
       "      <th>Inquiries_in_the_Last_6_Months</th>\n",
       "    </tr>\n",
       "  </thead>\n",
       "  <tbody>\n",
       "    <tr>\n",
       "      <th>0</th>\n",
       "      <td>20000.0</td>\n",
       "      <td>20000.0</td>\n",
       "      <td>8.90</td>\n",
       "      <td>36</td>\n",
       "      <td>debt_consolidation</td>\n",
       "      <td>14.90</td>\n",
       "      <td>SC</td>\n",
       "      <td>MORTGAGE</td>\n",
       "      <td>6541.67</td>\n",
       "      <td>735-739</td>\n",
       "      <td>14.0</td>\n",
       "      <td>14272.0</td>\n",
       "      <td>2.0</td>\n",
       "    </tr>\n",
       "    <tr>\n",
       "      <th>1</th>\n",
       "      <td>19200.0</td>\n",
       "      <td>19200.0</td>\n",
       "      <td>12.12</td>\n",
       "      <td>36</td>\n",
       "      <td>debt_consolidation</td>\n",
       "      <td>28.36</td>\n",
       "      <td>TX</td>\n",
       "      <td>MORTGAGE</td>\n",
       "      <td>4583.33</td>\n",
       "      <td>715-719</td>\n",
       "      <td>12.0</td>\n",
       "      <td>11140.0</td>\n",
       "      <td>1.0</td>\n",
       "    </tr>\n",
       "    <tr>\n",
       "      <th>2</th>\n",
       "      <td>35000.0</td>\n",
       "      <td>35000.0</td>\n",
       "      <td>21.98</td>\n",
       "      <td>60</td>\n",
       "      <td>debt_consolidation</td>\n",
       "      <td>23.81</td>\n",
       "      <td>CA</td>\n",
       "      <td>MORTGAGE</td>\n",
       "      <td>11500.00</td>\n",
       "      <td>690-694</td>\n",
       "      <td>14.0</td>\n",
       "      <td>21977.0</td>\n",
       "      <td>1.0</td>\n",
       "    </tr>\n",
       "    <tr>\n",
       "      <th>3</th>\n",
       "      <td>10000.0</td>\n",
       "      <td>9975.0</td>\n",
       "      <td>9.99</td>\n",
       "      <td>36</td>\n",
       "      <td>debt_consolidation</td>\n",
       "      <td>14.30</td>\n",
       "      <td>KS</td>\n",
       "      <td>MORTGAGE</td>\n",
       "      <td>3833.33</td>\n",
       "      <td>695-699</td>\n",
       "      <td>10.0</td>\n",
       "      <td>9346.0</td>\n",
       "      <td>0.0</td>\n",
       "    </tr>\n",
       "    <tr>\n",
       "      <th>4</th>\n",
       "      <td>12000.0</td>\n",
       "      <td>12000.0</td>\n",
       "      <td>11.71</td>\n",
       "      <td>36</td>\n",
       "      <td>credit_card</td>\n",
       "      <td>18.78</td>\n",
       "      <td>NJ</td>\n",
       "      <td>RENT</td>\n",
       "      <td>3195.00</td>\n",
       "      <td>695-699</td>\n",
       "      <td>11.0</td>\n",
       "      <td>14469.0</td>\n",
       "      <td>0.0</td>\n",
       "    </tr>\n",
       "  </tbody>\n",
       "</table>\n",
       "</div>"
      ],
      "text/plain": [
       "   Amount_Requested  Amount_Funded_By_Investors  Interest_Rate  Loan_Length  \\\n",
       "0           20000.0                     20000.0           8.90           36   \n",
       "1           19200.0                     19200.0          12.12           36   \n",
       "2           35000.0                     35000.0          21.98           60   \n",
       "3           10000.0                      9975.0           9.99           36   \n",
       "4           12000.0                     12000.0          11.71           36   \n",
       "\n",
       "         Loan_Purpose  Debt_To_Income_Ratio State Home_Ownership  \\\n",
       "0  debt_consolidation                 14.90    SC       MORTGAGE   \n",
       "1  debt_consolidation                 28.36    TX       MORTGAGE   \n",
       "2  debt_consolidation                 23.81    CA       MORTGAGE   \n",
       "3  debt_consolidation                 14.30    KS       MORTGAGE   \n",
       "4         credit_card                 18.78    NJ           RENT   \n",
       "\n",
       "   Monthly_Income FICO_Range  Open_CREDIT_Lines  Revolving_CREDIT_Balance  \\\n",
       "0         6541.67    735-739               14.0                   14272.0   \n",
       "1         4583.33    715-719               12.0                   11140.0   \n",
       "2        11500.00    690-694               14.0                   21977.0   \n",
       "3         3833.33    695-699               10.0                    9346.0   \n",
       "4         3195.00    695-699               11.0                   14469.0   \n",
       "\n",
       "   Inquiries_in_the_Last_6_Months  \n",
       "0                             2.0  \n",
       "1                             1.0  \n",
       "2                             1.0  \n",
       "3                             0.0  \n",
       "4                             0.0  "
      ]
     },
     "execution_count": 23,
     "metadata": {},
     "output_type": "execute_result"
    }
   ],
   "source": [
    "LoansData.head()"
   ]
  },
  {
   "cell_type": "markdown",
   "id": "9370c885",
   "metadata": {},
   "source": [
    "#### Missing value Imputation"
   ]
  },
  {
   "cell_type": "code",
   "execution_count": 24,
   "id": "1448a710",
   "metadata": {},
   "outputs": [],
   "source": [
    "LoansData.Amount_Requested.fillna(LoansData.Amount_Requested.mean(), inplace= True)"
   ]
  },
  {
   "cell_type": "code",
   "execution_count": 26,
   "id": "e2445071",
   "metadata": {},
   "outputs": [],
   "source": [
    "LoansData.Amount_Funded_By_Investors.fillna(LoansData.Amount_Funded_By_Investors.mean(), inplace= True)"
   ]
  },
  {
   "cell_type": "code",
   "execution_count": 27,
   "id": "3ca3cda9",
   "metadata": {},
   "outputs": [],
   "source": [
    "LoansData.Interest_Rate.fillna(LoansData.Interest_Rate.mean(), inplace= True)"
   ]
  },
  {
   "cell_type": "code",
   "execution_count": 28,
   "id": "e5b683a9",
   "metadata": {},
   "outputs": [],
   "source": [
    "LoansData.Debt_To_Income_Ratio.fillna(LoansData.Debt_To_Income_Ratio.mean(), inplace= True)"
   ]
  },
  {
   "cell_type": "code",
   "execution_count": 40,
   "id": "af78db46",
   "metadata": {},
   "outputs": [],
   "source": [
    "LoansData.Home_Ownership.fillna(LoansData.Home_Ownership.mode(), inplace=  True)"
   ]
  },
  {
   "cell_type": "code",
   "execution_count": 30,
   "id": "75240f79",
   "metadata": {},
   "outputs": [],
   "source": [
    "LoansData.Monthly_Income.fillna(LoansData.Monthly_Income.mean(), inplace= True)"
   ]
  },
  {
   "cell_type": "code",
   "execution_count": 44,
   "id": "d3af42d5",
   "metadata": {},
   "outputs": [],
   "source": [
    "LoansData.FICO_Range.fillna(LoansData.FICO_Range.mode(), inplace= True)"
   ]
  },
  {
   "cell_type": "code",
   "execution_count": 33,
   "id": "b8ea474e",
   "metadata": {},
   "outputs": [],
   "source": [
    "LoansData.Open_CREDIT_Lines.fillna(LoansData.Open_CREDIT_Lines.mean(), inplace = True)"
   ]
  },
  {
   "cell_type": "code",
   "execution_count": 34,
   "id": "ea6b2770",
   "metadata": {},
   "outputs": [],
   "source": [
    "LoansData.Revolving_CREDIT_Balance.fillna(LoansData.Revolving_CREDIT_Balance.mean(), inplace= True)"
   ]
  },
  {
   "cell_type": "code",
   "execution_count": 42,
   "id": "55b30964",
   "metadata": {},
   "outputs": [],
   "source": [
    "LoansData.Inquiries_in_the_Last_6_Months.fillna(LoansData.Inquiries_in_the_Last_6_Months.mean(), inplace= True)"
   ]
  },
  {
   "cell_type": "markdown",
   "id": "58227712",
   "metadata": {},
   "source": [
    "## Using lending club loans data, the team would like to test below hypothesis on how different factors effecing each other (Hint: You may leverage hypothesis testing using statistical tests)\n",
    "### a. Interest rate is varied for different loan amounts (Less interest charged for high loan amounts)\n"
   ]
  },
  {
   "cell_type": "code",
   "execution_count": 49,
   "id": "c827c4ea",
   "metadata": {},
   "outputs": [
    {
     "data": {
      "text/plain": [
       "(0.3324464059665682, 1.4148683739824417e-65)"
      ]
     },
     "execution_count": 49,
     "metadata": {},
     "output_type": "execute_result"
    }
   ],
   "source": [
    "Corr=stats.pearsonr(LoansData['Interest_Rate'],LoansData['Amount_Requested'])\n",
    "Corr"
   ]
  },
  {
   "cell_type": "markdown",
   "id": "00c70c6f",
   "metadata": {},
   "source": [
    "As New PValue is less than 0.05, we reject Null hypothesis. Hence, There is a relationship between Interest Rate and Loan Amount requested."
   ]
  },
  {
   "cell_type": "markdown",
   "id": "cebad9ae",
   "metadata": {},
   "source": [
    "### b. Loan length is directly effecting interest rate."
   ]
  },
  {
   "cell_type": "code",
   "execution_count": 52,
   "id": "e4422c5e",
   "metadata": {},
   "outputs": [
    {
     "data": {
      "text/plain": [
       "36    1952\n",
       "60     548\n",
       "Name: Loan_Length, dtype: int64"
      ]
     },
     "execution_count": 52,
     "metadata": {},
     "output_type": "execute_result"
    }
   ],
   "source": [
    "LoansData.Loan_Length.value_counts()"
   ]
  },
  {
   "cell_type": "code",
   "execution_count": 56,
   "id": "f4f9554f",
   "metadata": {},
   "outputs": [],
   "source": [
    "Loan_Len36=LoansData['Interest_Rate'].loc[LoansData['Loan_Length']==36]\n",
    "Loan_Len60=LoansData['Interest_Rate'].loc[LoansData['Loan_Length']==60]"
   ]
  },
  {
   "cell_type": "code",
   "execution_count": 57,
   "id": "a424eab6",
   "metadata": {},
   "outputs": [
    {
     "data": {
      "text/plain": [
       "12.127141791302005"
      ]
     },
     "execution_count": 57,
     "metadata": {},
     "output_type": "execute_result"
    }
   ],
   "source": [
    "Loan_Len36.mean()"
   ]
  },
  {
   "cell_type": "code",
   "execution_count": 58,
   "id": "44d21a9d",
   "metadata": {},
   "outputs": [
    {
     "data": {
      "text/plain": [
       "16.40746350364961"
      ]
     },
     "execution_count": 58,
     "metadata": {},
     "output_type": "execute_result"
    }
   ],
   "source": [
    "Loan_Len60.mean()"
   ]
  },
  {
   "cell_type": "markdown",
   "id": "25e30f34",
   "metadata": {},
   "source": [
    "### Perform the test"
   ]
  },
  {
   "cell_type": "code",
   "execution_count": 62,
   "id": "f1cb20f4",
   "metadata": {},
   "outputs": [
    {
     "data": {
      "text/plain": [
       "Ttest_indResult(statistic=-23.41049023613487, pvalue=9.549596064332559e-110)"
      ]
     },
     "execution_count": 62,
     "metadata": {},
     "output_type": "execute_result"
    }
   ],
   "source": [
    "stats.ttest_ind(Loan_Len36,Loan_Len60)"
   ]
  },
  {
   "cell_type": "markdown",
   "id": "3b9b726d",
   "metadata": {},
   "source": [
    "As New PValue is less than 0.05, we  reject Null hypothesis. Hence, Loan length is directly effecting interest rate"
   ]
  },
  {
   "cell_type": "markdown",
   "id": "d4febd5d",
   "metadata": {},
   "source": [
    "### c. Interest rate varies for different purpose of loans"
   ]
  },
  {
   "cell_type": "code",
   "execution_count": 66,
   "id": "9bb59fa4",
   "metadata": {},
   "outputs": [
    {
     "data": {
      "text/plain": [
       "debt_consolidation    1307\n",
       "credit_card            444\n",
       "other                  201\n",
       "home_improvement       152\n",
       "major_purchase         101\n",
       "small_business          87\n",
       "car                     50\n",
       "wedding                 39\n",
       "medical                 30\n",
       "moving                  29\n",
       "vacation                21\n",
       "house                   20\n",
       "educational             15\n",
       "renewable_energy         4\n",
       "Name: Loan_Purpose, dtype: int64"
      ]
     },
     "execution_count": 66,
     "metadata": {},
     "output_type": "execute_result"
    }
   ],
   "source": [
    "LoansData.Loan_Purpose.value_counts()"
   ]
  },
  {
   "cell_type": "code",
   "execution_count": 68,
   "id": "782a8a69",
   "metadata": {},
   "outputs": [
    {
     "data": {
      "text/html": [
       "<div>\n",
       "<style scoped>\n",
       "    .dataframe tbody tr th:only-of-type {\n",
       "        vertical-align: middle;\n",
       "    }\n",
       "\n",
       "    .dataframe tbody tr th {\n",
       "        vertical-align: top;\n",
       "    }\n",
       "\n",
       "    .dataframe thead th {\n",
       "        text-align: right;\n",
       "    }\n",
       "</style>\n",
       "<table border=\"1\" class=\"dataframe\">\n",
       "  <thead>\n",
       "    <tr style=\"text-align: right;\">\n",
       "      <th></th>\n",
       "      <th>Interest_Rate</th>\n",
       "    </tr>\n",
       "    <tr>\n",
       "      <th>Loan_Purpose</th>\n",
       "      <th></th>\n",
       "    </tr>\n",
       "  </thead>\n",
       "  <tbody>\n",
       "    <tr>\n",
       "      <th>car</th>\n",
       "      <td>11.113000</td>\n",
       "    </tr>\n",
       "    <tr>\n",
       "      <th>credit_card</th>\n",
       "      <td>13.050688</td>\n",
       "    </tr>\n",
       "    <tr>\n",
       "      <th>debt_consolidation</th>\n",
       "      <td>13.586917</td>\n",
       "    </tr>\n",
       "    <tr>\n",
       "      <th>educational</th>\n",
       "      <td>11.007333</td>\n",
       "    </tr>\n",
       "    <tr>\n",
       "      <th>home_improvement</th>\n",
       "      <td>11.594276</td>\n",
       "    </tr>\n",
       "    <tr>\n",
       "      <th>house</th>\n",
       "      <td>13.448000</td>\n",
       "    </tr>\n",
       "    <tr>\n",
       "      <th>major_purchase</th>\n",
       "      <td>10.797822</td>\n",
       "    </tr>\n",
       "    <tr>\n",
       "      <th>medical</th>\n",
       "      <td>11.649667</td>\n",
       "    </tr>\n",
       "    <tr>\n",
       "      <th>moving</th>\n",
       "      <td>13.621034</td>\n",
       "    </tr>\n",
       "    <tr>\n",
       "      <th>other</th>\n",
       "      <td>13.159552</td>\n",
       "    </tr>\n",
       "    <tr>\n",
       "      <th>renewable_energy</th>\n",
       "      <td>9.877500</td>\n",
       "    </tr>\n",
       "    <tr>\n",
       "      <th>small_business</th>\n",
       "      <td>12.839195</td>\n",
       "    </tr>\n",
       "    <tr>\n",
       "      <th>vacation</th>\n",
       "      <td>11.966190</td>\n",
       "    </tr>\n",
       "    <tr>\n",
       "      <th>wedding</th>\n",
       "      <td>12.073215</td>\n",
       "    </tr>\n",
       "  </tbody>\n",
       "</table>\n",
       "</div>"
      ],
      "text/plain": [
       "                    Interest_Rate\n",
       "Loan_Purpose                     \n",
       "car                     11.113000\n",
       "credit_card             13.050688\n",
       "debt_consolidation      13.586917\n",
       "educational             11.007333\n",
       "home_improvement        11.594276\n",
       "house                   13.448000\n",
       "major_purchase          10.797822\n",
       "medical                 11.649667\n",
       "moving                  13.621034\n",
       "other                   13.159552\n",
       "renewable_energy         9.877500\n",
       "small_business          12.839195\n",
       "vacation                11.966190\n",
       "wedding                 12.073215"
      ]
     },
     "execution_count": 68,
     "metadata": {},
     "output_type": "execute_result"
    }
   ],
   "source": [
    "LoanPurpose=LoansData.groupby('Loan_Purpose')[['Interest_Rate']].mean()\n",
    "LoanPurpose"
   ]
  },
  {
   "cell_type": "code",
   "execution_count": 82,
   "id": "551f9b95",
   "metadata": {},
   "outputs": [],
   "source": [
    "LP1=LoansData.query('Loan_Purpose==\"car\"').Interest_Rate\n",
    "LP2=LoansData.query('Loan_Purpose==\"credit_card\"').Interest_Rate\n",
    "LP3=LoansData.query('Loan_Purpose==\"debt_consolidation\"').Interest_Rate\n",
    "LP4=LoansData.query('Loan_Purpose==\"educational\"').Interest_Rate\n",
    "LP5=LoansData.query('Loan_Purpose==\"home_improvement\"').Interest_Rate\n",
    "LP6=LoansData.query('Loan_Purpose==\"house\"').Interest_Rate\n",
    "LP7=LoansData.query('Loan_Purpose==\"major_purchase\"').Interest_Rate\n",
    "LP8=LoansData.query('Loan_Purpose==\"medical\"').Interest_Rate\n",
    "LP9=LoansData.query('Loan_Purpose==\"moving\"').Interest_Rate\n",
    "LP10=LoansData.query('Loan_Purpose==\"other\"').Interest_Rate\n",
    "LP11=LoansData.query('Loan_Purpose==\"renewable_energy\"').Interest_Rate\n",
    "LP12=LoansData.query('Loan_Purpose==\"small_business\"').Interest_Rate\n",
    "LP13=LoansData.query('Loan_Purpose==\"vacation\"').Interest_Rate\n",
    "LP14=LoansData.query('Loan_Purpose==\"wedding\"').Interest_Rate"
   ]
  },
  {
   "cell_type": "code",
   "execution_count": 85,
   "id": "7c7e3878",
   "metadata": {},
   "outputs": [
    {
     "data": {
      "text/plain": [
       "F_onewayResult(statistic=7.482638784097435, pvalue=1.1599665535989115e-14)"
      ]
     },
     "execution_count": 85,
     "metadata": {},
     "output_type": "execute_result"
    }
   ],
   "source": [
    "stats.f_oneway(LP1,LP2,LP3,LP4,LP5,LP6,LP7,LP8,LP9,LP10,LP11,LP12,LP13,LP14) "
   ]
  },
  {
   "cell_type": "markdown",
   "id": "7add3bcf",
   "metadata": {},
   "source": [
    "As New PValue is less than 0.05, we  reject Null hypothesis. Hence, Interest Rates vary for different purposes of loans."
   ]
  },
  {
   "cell_type": "markdown",
   "id": "a5dc6848",
   "metadata": {},
   "source": [
    "### d. There is relationship between FICO scores and Home Ownership. It means that, People with owning home will have high FICO scores."
   ]
  },
  {
   "cell_type": "code",
   "execution_count": 96,
   "id": "593bcbb3",
   "metadata": {},
   "outputs": [
    {
     "data": {
      "text/html": [
       "<div>\n",
       "<style scoped>\n",
       "    .dataframe tbody tr th:only-of-type {\n",
       "        vertical-align: middle;\n",
       "    }\n",
       "\n",
       "    .dataframe tbody tr th {\n",
       "        vertical-align: top;\n",
       "    }\n",
       "\n",
       "    .dataframe thead th {\n",
       "        text-align: right;\n",
       "    }\n",
       "</style>\n",
       "<table border=\"1\" class=\"dataframe\">\n",
       "  <thead>\n",
       "    <tr style=\"text-align: right;\">\n",
       "      <th>FICO_Range</th>\n",
       "      <th>640-644</th>\n",
       "      <th>645-649</th>\n",
       "      <th>650-654</th>\n",
       "      <th>655-659</th>\n",
       "      <th>660-664</th>\n",
       "      <th>665-669</th>\n",
       "      <th>670-674</th>\n",
       "      <th>675-679</th>\n",
       "      <th>680-684</th>\n",
       "      <th>685-689</th>\n",
       "      <th>...</th>\n",
       "      <th>780-784</th>\n",
       "      <th>785-789</th>\n",
       "      <th>790-794</th>\n",
       "      <th>795-799</th>\n",
       "      <th>800-804</th>\n",
       "      <th>805-809</th>\n",
       "      <th>810-814</th>\n",
       "      <th>815-819</th>\n",
       "      <th>820-824</th>\n",
       "      <th>830-834</th>\n",
       "    </tr>\n",
       "    <tr>\n",
       "      <th>Home_Ownership</th>\n",
       "      <th></th>\n",
       "      <th></th>\n",
       "      <th></th>\n",
       "      <th></th>\n",
       "      <th></th>\n",
       "      <th></th>\n",
       "      <th></th>\n",
       "      <th></th>\n",
       "      <th></th>\n",
       "      <th></th>\n",
       "      <th></th>\n",
       "      <th></th>\n",
       "      <th></th>\n",
       "      <th></th>\n",
       "      <th></th>\n",
       "      <th></th>\n",
       "      <th></th>\n",
       "      <th></th>\n",
       "      <th></th>\n",
       "      <th></th>\n",
       "      <th></th>\n",
       "    </tr>\n",
       "  </thead>\n",
       "  <tbody>\n",
       "    <tr>\n",
       "      <th>MORTGAGE</th>\n",
       "      <td>0</td>\n",
       "      <td>1</td>\n",
       "      <td>1</td>\n",
       "      <td>0</td>\n",
       "      <td>41</td>\n",
       "      <td>52</td>\n",
       "      <td>67</td>\n",
       "      <td>79</td>\n",
       "      <td>55</td>\n",
       "      <td>61</td>\n",
       "      <td>...</td>\n",
       "      <td>21</td>\n",
       "      <td>12</td>\n",
       "      <td>15</td>\n",
       "      <td>7</td>\n",
       "      <td>7</td>\n",
       "      <td>6</td>\n",
       "      <td>5</td>\n",
       "      <td>6</td>\n",
       "      <td>0</td>\n",
       "      <td>1</td>\n",
       "    </tr>\n",
       "    <tr>\n",
       "      <th>NONE</th>\n",
       "      <td>0</td>\n",
       "      <td>0</td>\n",
       "      <td>0</td>\n",
       "      <td>0</td>\n",
       "      <td>0</td>\n",
       "      <td>0</td>\n",
       "      <td>0</td>\n",
       "      <td>0</td>\n",
       "      <td>0</td>\n",
       "      <td>0</td>\n",
       "      <td>...</td>\n",
       "      <td>0</td>\n",
       "      <td>0</td>\n",
       "      <td>0</td>\n",
       "      <td>0</td>\n",
       "      <td>1</td>\n",
       "      <td>0</td>\n",
       "      <td>0</td>\n",
       "      <td>0</td>\n",
       "      <td>0</td>\n",
       "      <td>0</td>\n",
       "    </tr>\n",
       "    <tr>\n",
       "      <th>OTHER</th>\n",
       "      <td>0</td>\n",
       "      <td>0</td>\n",
       "      <td>0</td>\n",
       "      <td>1</td>\n",
       "      <td>0</td>\n",
       "      <td>0</td>\n",
       "      <td>1</td>\n",
       "      <td>1</td>\n",
       "      <td>2</td>\n",
       "      <td>0</td>\n",
       "      <td>...</td>\n",
       "      <td>0</td>\n",
       "      <td>0</td>\n",
       "      <td>0</td>\n",
       "      <td>0</td>\n",
       "      <td>0</td>\n",
       "      <td>0</td>\n",
       "      <td>0</td>\n",
       "      <td>0</td>\n",
       "      <td>0</td>\n",
       "      <td>0</td>\n",
       "    </tr>\n",
       "    <tr>\n",
       "      <th>OWN</th>\n",
       "      <td>1</td>\n",
       "      <td>0</td>\n",
       "      <td>0</td>\n",
       "      <td>0</td>\n",
       "      <td>17</td>\n",
       "      <td>18</td>\n",
       "      <td>13</td>\n",
       "      <td>11</td>\n",
       "      <td>9</td>\n",
       "      <td>10</td>\n",
       "      <td>...</td>\n",
       "      <td>3</td>\n",
       "      <td>2</td>\n",
       "      <td>1</td>\n",
       "      <td>1</td>\n",
       "      <td>3</td>\n",
       "      <td>2</td>\n",
       "      <td>1</td>\n",
       "      <td>0</td>\n",
       "      <td>1</td>\n",
       "      <td>0</td>\n",
       "    </tr>\n",
       "    <tr>\n",
       "      <th>RENT</th>\n",
       "      <td>4</td>\n",
       "      <td>2</td>\n",
       "      <td>0</td>\n",
       "      <td>3</td>\n",
       "      <td>67</td>\n",
       "      <td>75</td>\n",
       "      <td>90</td>\n",
       "      <td>75</td>\n",
       "      <td>91</td>\n",
       "      <td>65</td>\n",
       "      <td>...</td>\n",
       "      <td>4</td>\n",
       "      <td>5</td>\n",
       "      <td>4</td>\n",
       "      <td>5</td>\n",
       "      <td>2</td>\n",
       "      <td>3</td>\n",
       "      <td>2</td>\n",
       "      <td>0</td>\n",
       "      <td>0</td>\n",
       "      <td>0</td>\n",
       "    </tr>\n",
       "  </tbody>\n",
       "</table>\n",
       "<p>5 rows × 38 columns</p>\n",
       "</div>"
      ],
      "text/plain": [
       "FICO_Range      640-644  645-649  650-654  655-659  660-664  665-669  670-674  \\\n",
       "Home_Ownership                                                                  \n",
       "MORTGAGE              0        1        1        0       41       52       67   \n",
       "NONE                  0        0        0        0        0        0        0   \n",
       "OTHER                 0        0        0        1        0        0        1   \n",
       "OWN                   1        0        0        0       17       18       13   \n",
       "RENT                  4        2        0        3       67       75       90   \n",
       "\n",
       "FICO_Range      675-679  680-684  685-689  ...  780-784  785-789  790-794  \\\n",
       "Home_Ownership                             ...                              \n",
       "MORTGAGE             79       55       61  ...       21       12       15   \n",
       "NONE                  0        0        0  ...        0        0        0   \n",
       "OTHER                 1        2        0  ...        0        0        0   \n",
       "OWN                  11        9       10  ...        3        2        1   \n",
       "RENT                 75       91       65  ...        4        5        4   \n",
       "\n",
       "FICO_Range      795-799  800-804  805-809  810-814  815-819  820-824  830-834  \n",
       "Home_Ownership                                                                 \n",
       "MORTGAGE              7        7        6        5        6        0        1  \n",
       "NONE                  0        1        0        0        0        0        0  \n",
       "OTHER                 0        0        0        0        0        0        0  \n",
       "OWN                   1        3        2        1        0        1        0  \n",
       "RENT                  5        2        3        2        0        0        0  \n",
       "\n",
       "[5 rows x 38 columns]"
      ]
     },
     "execution_count": 96,
     "metadata": {},
     "output_type": "execute_result"
    }
   ],
   "source": [
    "HFCT=pd.crosstab(LoansData.Home_Ownership,LoansData.FICO_Range)\n",
    "HFCT"
   ]
  },
  {
   "cell_type": "code",
   "execution_count": 100,
   "id": "e7047d3b",
   "metadata": {},
   "outputs": [
    {
     "data": {
      "text/plain": [
       "(473.0524636834602,\n",
       " 1.202159201024428e-35,\n",
       " 148,\n",
       " array([[2.29475370e+00, 1.37685222e+00, 4.58950741e-01, 1.83580296e+00,\n",
       "         5.73688426e+01, 6.65478574e+01, 7.84805767e+01, 7.61858230e+01,\n",
       "         7.20552663e+01, 6.24173008e+01, 6.42531037e+01, 7.02194634e+01,\n",
       "         6.01225471e+01, 6.14993993e+01, 5.09435322e+01, 4.26824189e+01,\n",
       "         5.23203845e+01, 4.31413696e+01, 4.31413696e+01, 2.98317982e+01,\n",
       "         2.43243893e+01, 2.47833400e+01, 2.79959952e+01, 2.11117341e+01,\n",
       "         2.11117341e+01, 1.65222267e+01, 7.80216260e+00, 1.00969163e+01,\n",
       "         1.28506207e+01, 8.72006408e+00, 9.17901482e+00, 5.96635963e+00,\n",
       "         5.96635963e+00, 5.04845815e+00, 3.67160593e+00, 2.75370445e+00,\n",
       "         4.58950741e-01, 4.58950741e-01],\n",
       "        [2.00240288e-03, 1.20144173e-03, 4.00480577e-04, 1.60192231e-03,\n",
       "         5.00600721e-02, 5.80696836e-02, 6.84821786e-02, 6.64797757e-02,\n",
       "         6.28754505e-02, 5.44653584e-02, 5.60672807e-02, 6.12735282e-02,\n",
       "         5.24629555e-02, 5.36643973e-02, 4.44533440e-02, 3.72446936e-02,\n",
       "         4.56547857e-02, 3.76451742e-02, 3.76451742e-02, 2.60312375e-02,\n",
       "         2.12254706e-02, 2.16259511e-02, 2.44293152e-02, 1.84221065e-02,\n",
       "         1.84221065e-02, 1.44173008e-02, 6.80816980e-03, 8.81057269e-03,\n",
       "         1.12134561e-02, 7.60913096e-03, 8.00961153e-03, 5.20624750e-03,\n",
       "         5.20624750e-03, 4.40528634e-03, 3.20384461e-03, 2.40288346e-03,\n",
       "         4.00480577e-04, 4.00480577e-04],\n",
       "        [1.00120144e-02, 6.00720865e-03, 2.00240288e-03, 8.00961153e-03,\n",
       "         2.50300360e-01, 2.90348418e-01, 3.42410893e-01, 3.32398879e-01,\n",
       "         3.14377253e-01, 2.72326792e-01, 2.80336404e-01, 3.06367641e-01,\n",
       "         2.62314778e-01, 2.68321986e-01, 2.22266720e-01, 1.86223468e-01,\n",
       "         2.28273929e-01, 1.88225871e-01, 1.88225871e-01, 1.30156187e-01,\n",
       "         1.06127353e-01, 1.08129756e-01, 1.22146576e-01, 9.21105326e-02,\n",
       "         9.21105326e-02, 7.20865038e-02, 3.40408490e-02, 4.40528634e-02,\n",
       "         5.60672807e-02, 3.80456548e-02, 4.00480577e-02, 2.60312375e-02,\n",
       "         2.60312375e-02, 2.20264317e-02, 1.60192231e-02, 1.20144173e-02,\n",
       "         2.00240288e-03, 2.00240288e-03],\n",
       "        [4.00480577e-01, 2.40288346e-01, 8.00961153e-02, 3.20384461e-01,\n",
       "         1.00120144e+01, 1.16139367e+01, 1.36964357e+01, 1.32959551e+01,\n",
       "         1.25750901e+01, 1.08930717e+01, 1.12134561e+01, 1.22547056e+01,\n",
       "         1.04925911e+01, 1.07328795e+01, 8.89066880e+00, 7.44893873e+00,\n",
       "         9.13095715e+00, 7.52903484e+00, 7.52903484e+00, 5.20624750e+00,\n",
       "         4.24509411e+00, 4.32519023e+00, 4.88586304e+00, 3.68442131e+00,\n",
       "         3.68442131e+00, 2.88346015e+00, 1.36163396e+00, 1.76211454e+00,\n",
       "         2.24269123e+00, 1.52182619e+00, 1.60192231e+00, 1.04124950e+00,\n",
       "         1.04124950e+00, 8.81057269e-01, 6.40768923e-01, 4.80576692e-01,\n",
       "         8.00961153e-02, 8.00961153e-02],\n",
       "        [2.29275130e+00, 1.37565078e+00, 4.58550260e-01, 1.83420104e+00,\n",
       "         5.73187825e+01, 6.64897877e+01, 7.84120945e+01, 7.61193432e+01,\n",
       "         7.19923909e+01, 6.23628354e+01, 6.41970364e+01, 7.01581898e+01,\n",
       "         6.00700841e+01, 6.14457349e+01, 5.08990789e+01, 4.26451742e+01,\n",
       "         5.22747297e+01, 4.31037245e+01, 4.31037245e+01, 2.98057669e+01,\n",
       "         2.43031638e+01, 2.47617141e+01, 2.79715659e+01, 2.10933120e+01,\n",
       "         2.10933120e+01, 1.65078094e+01, 7.79535443e+00, 1.00881057e+01,\n",
       "         1.28394073e+01, 8.71245495e+00, 9.17100521e+00, 5.96115338e+00,\n",
       "         5.96115338e+00, 5.04405286e+00, 3.66840208e+00, 2.75130156e+00,\n",
       "         4.58550260e-01, 4.58550260e-01]]))"
      ]
     },
     "execution_count": 100,
     "metadata": {},
     "output_type": "execute_result"
    }
   ],
   "source": [
    "stats.chi2_contingency(HFCT)"
   ]
  },
  {
   "cell_type": "markdown",
   "id": "980c8abb",
   "metadata": {},
   "source": [
    "As New PValue is less than 0.05, we reject Null hypothesis. Hence,  There is relationship between FICO scores and Home Ownership."
   ]
  },
  {
   "cell_type": "markdown",
   "id": "123d0c15",
   "metadata": {},
   "source": [
    "## BUSINESS PROBLEM - 2"
   ]
  },
  {
   "cell_type": "markdown",
   "id": "f49d4c7f",
   "metadata": {},
   "source": [
    "### We would like to assess if there is any difference in the average price quotes provided by Mary and Barry.\n"
   ]
  },
  {
   "cell_type": "code",
   "execution_count": 102,
   "id": "9efc8013",
   "metadata": {},
   "outputs": [
    {
     "data": {
      "text/html": [
       "<div>\n",
       "<style scoped>\n",
       "    .dataframe tbody tr th:only-of-type {\n",
       "        vertical-align: middle;\n",
       "    }\n",
       "\n",
       "    .dataframe tbody tr th {\n",
       "        vertical-align: top;\n",
       "    }\n",
       "\n",
       "    .dataframe thead th {\n",
       "        text-align: right;\n",
       "    }\n",
       "</style>\n",
       "<table border=\"1\" class=\"dataframe\">\n",
       "  <thead>\n",
       "    <tr style=\"text-align: right;\">\n",
       "      <th></th>\n",
       "      <th>Order_Number</th>\n",
       "      <th>Barry_Price</th>\n",
       "      <th>Mary_Price</th>\n",
       "    </tr>\n",
       "  </thead>\n",
       "  <tbody>\n",
       "    <tr>\n",
       "      <th>0</th>\n",
       "      <td>1</td>\n",
       "      <td>126</td>\n",
       "      <td>114</td>\n",
       "    </tr>\n",
       "    <tr>\n",
       "      <th>1</th>\n",
       "      <td>2</td>\n",
       "      <td>110</td>\n",
       "      <td>118</td>\n",
       "    </tr>\n",
       "    <tr>\n",
       "      <th>2</th>\n",
       "      <td>3</td>\n",
       "      <td>138</td>\n",
       "      <td>114</td>\n",
       "    </tr>\n",
       "    <tr>\n",
       "      <th>3</th>\n",
       "      <td>4</td>\n",
       "      <td>142</td>\n",
       "      <td>111</td>\n",
       "    </tr>\n",
       "    <tr>\n",
       "      <th>4</th>\n",
       "      <td>5</td>\n",
       "      <td>146</td>\n",
       "      <td>129</td>\n",
       "    </tr>\n",
       "    <tr>\n",
       "      <th>5</th>\n",
       "      <td>6</td>\n",
       "      <td>136</td>\n",
       "      <td>119</td>\n",
       "    </tr>\n",
       "    <tr>\n",
       "      <th>6</th>\n",
       "      <td>7</td>\n",
       "      <td>94</td>\n",
       "      <td>97</td>\n",
       "    </tr>\n",
       "    <tr>\n",
       "      <th>7</th>\n",
       "      <td>8</td>\n",
       "      <td>103</td>\n",
       "      <td>104</td>\n",
       "    </tr>\n",
       "    <tr>\n",
       "      <th>8</th>\n",
       "      <td>9</td>\n",
       "      <td>140</td>\n",
       "      <td>127</td>\n",
       "    </tr>\n",
       "    <tr>\n",
       "      <th>9</th>\n",
       "      <td>10</td>\n",
       "      <td>152</td>\n",
       "      <td>133</td>\n",
       "    </tr>\n",
       "    <tr>\n",
       "      <th>10</th>\n",
       "      <td>11</td>\n",
       "      <td>108</td>\n",
       "      <td>103</td>\n",
       "    </tr>\n",
       "    <tr>\n",
       "      <th>11</th>\n",
       "      <td>12</td>\n",
       "      <td>97</td>\n",
       "      <td>108</td>\n",
       "    </tr>\n",
       "  </tbody>\n",
       "</table>\n",
       "</div>"
      ],
      "text/plain": [
       "    Order_Number  Barry_Price  Mary_Price\n",
       "0              1          126         114\n",
       "1              2          110         118\n",
       "2              3          138         114\n",
       "3              4          142         111\n",
       "4              5          146         129\n",
       "5              6          136         119\n",
       "6              7           94          97\n",
       "7              8          103         104\n",
       "8              9          140         127\n",
       "9             10          152         133\n",
       "10            11          108         103\n",
       "11            12           97         108"
      ]
     },
     "execution_count": 102,
     "metadata": {},
     "output_type": "execute_result"
    }
   ],
   "source": [
    "PriceQuotes= pd.read_csv(\"C:\\Analytixlabs\\Learning\\Python for Data Science\\Case Study\\Basic Statistics  Case Study 5 - Hypothesis Testing\\Price_Quotes.csv\")\n",
    "PriceQuotes"
   ]
  },
  {
   "cell_type": "code",
   "execution_count": 106,
   "id": "e176b880",
   "metadata": {},
   "outputs": [
    {
     "data": {
      "text/plain": [
       "124.33333333333333"
      ]
     },
     "execution_count": 106,
     "metadata": {},
     "output_type": "execute_result"
    }
   ],
   "source": [
    "PriceQuotes.Barry_Price.mean()"
   ]
  },
  {
   "cell_type": "code",
   "execution_count": 108,
   "id": "7a2f9ad0",
   "metadata": {},
   "outputs": [
    {
     "data": {
      "text/plain": [
       "114.75"
      ]
     },
     "execution_count": 108,
     "metadata": {},
     "output_type": "execute_result"
    }
   ],
   "source": [
    "PriceQuotes.Mary_Price.mean()"
   ]
  },
  {
   "cell_type": "code",
   "execution_count": 118,
   "id": "e1d73546",
   "metadata": {},
   "outputs": [
    {
     "data": {
      "text/plain": [
       "Ttest_relResult(statistic=2.521376510892349, pvalue=0.02840588045242053)"
      ]
     },
     "execution_count": 118,
     "metadata": {},
     "output_type": "execute_result"
    }
   ],
   "source": [
    "stats.ttest_rel(PriceQuotes.Barry_Price,PriceQuotes.Mary_Price)"
   ]
  },
  {
   "cell_type": "markdown",
   "id": "0b30114d",
   "metadata": {},
   "source": [
    "As New PValue is less than 0.05, we reject Null hypothesis. Hence, there is difference in the average price quotes provided by Mary abnd Barry."
   ]
  },
  {
   "cell_type": "markdown",
   "id": "ae1dbc0f",
   "metadata": {},
   "source": [
    "## BUSINESS PROBLEM-3:"
   ]
  },
  {
   "cell_type": "markdown",
   "id": "eff73726",
   "metadata": {},
   "source": [
    "### BUSINESS PROBLEM: Determine what effect, if any, the reengineering effort had on the incidence behavioral problems and staff turnover. i.e To determine if the reengineering effort changed the critical incidence rate. Isthere evidence that the critical incidence rate improved?\n"
   ]
  },
  {
   "cell_type": "code",
   "execution_count": 119,
   "id": "41cd1753",
   "metadata": {},
   "outputs": [
    {
     "data": {
      "text/html": [
       "<div>\n",
       "<style scoped>\n",
       "    .dataframe tbody tr th:only-of-type {\n",
       "        vertical-align: middle;\n",
       "    }\n",
       "\n",
       "    .dataframe tbody tr th {\n",
       "        vertical-align: top;\n",
       "    }\n",
       "\n",
       "    .dataframe thead th {\n",
       "        text-align: right;\n",
       "    }\n",
       "</style>\n",
       "<table border=\"1\" class=\"dataframe\">\n",
       "  <thead>\n",
       "    <tr style=\"text-align: right;\">\n",
       "      <th></th>\n",
       "      <th>Month</th>\n",
       "      <th>Reengineer</th>\n",
       "      <th>Employee_Turnover</th>\n",
       "      <th>VAR4</th>\n",
       "      <th>VAR5</th>\n",
       "    </tr>\n",
       "  </thead>\n",
       "  <tbody>\n",
       "    <tr>\n",
       "      <th>0</th>\n",
       "      <td>1</td>\n",
       "      <td>Prior</td>\n",
       "      <td>0.0000</td>\n",
       "      <td>24.390244</td>\n",
       "      <td>42.682927</td>\n",
       "    </tr>\n",
       "    <tr>\n",
       "      <th>1</th>\n",
       "      <td>2</td>\n",
       "      <td>Prior</td>\n",
       "      <td>6.0606</td>\n",
       "      <td>19.354839</td>\n",
       "      <td>25.806452</td>\n",
       "    </tr>\n",
       "    <tr>\n",
       "      <th>2</th>\n",
       "      <td>3</td>\n",
       "      <td>Prior</td>\n",
       "      <td>12.1212</td>\n",
       "      <td>35.087719</td>\n",
       "      <td>146.198830</td>\n",
       "    </tr>\n",
       "    <tr>\n",
       "      <th>3</th>\n",
       "      <td>4</td>\n",
       "      <td>Prior</td>\n",
       "      <td>3.3333</td>\n",
       "      <td>18.404908</td>\n",
       "      <td>110.429448</td>\n",
       "    </tr>\n",
       "    <tr>\n",
       "      <th>4</th>\n",
       "      <td>5</td>\n",
       "      <td>Prior</td>\n",
       "      <td>12.9032</td>\n",
       "      <td>17.964072</td>\n",
       "      <td>23.952096</td>\n",
       "    </tr>\n",
       "    <tr>\n",
       "      <th>5</th>\n",
       "      <td>6</td>\n",
       "      <td>Prior</td>\n",
       "      <td>9.6774</td>\n",
       "      <td>41.176471</td>\n",
       "      <td>47.058824</td>\n",
       "    </tr>\n",
       "    <tr>\n",
       "      <th>6</th>\n",
       "      <td>7</td>\n",
       "      <td>Prior</td>\n",
       "      <td>11.7647</td>\n",
       "      <td>13.422819</td>\n",
       "      <td>0.000000</td>\n",
       "    </tr>\n",
       "    <tr>\n",
       "      <th>7</th>\n",
       "      <td>8</td>\n",
       "      <td>Prior</td>\n",
       "      <td>11.4286</td>\n",
       "      <td>31.250000</td>\n",
       "      <td>25.000000</td>\n",
       "    </tr>\n",
       "    <tr>\n",
       "      <th>8</th>\n",
       "      <td>9</td>\n",
       "      <td>Prior</td>\n",
       "      <td>23.0769</td>\n",
       "      <td>17.241379</td>\n",
       "      <td>132.183908</td>\n",
       "    </tr>\n",
       "    <tr>\n",
       "      <th>9</th>\n",
       "      <td>10</td>\n",
       "      <td>Prior</td>\n",
       "      <td>15.0000</td>\n",
       "      <td>16.574586</td>\n",
       "      <td>16.574586</td>\n",
       "    </tr>\n",
       "    <tr>\n",
       "      <th>10</th>\n",
       "      <td>11</td>\n",
       "      <td>Prior</td>\n",
       "      <td>10.0000</td>\n",
       "      <td>5.917160</td>\n",
       "      <td>88.757396</td>\n",
       "    </tr>\n",
       "    <tr>\n",
       "      <th>11</th>\n",
       "      <td>12</td>\n",
       "      <td>Prior</td>\n",
       "      <td>26.0870</td>\n",
       "      <td>21.164021</td>\n",
       "      <td>31.746032</td>\n",
       "    </tr>\n",
       "    <tr>\n",
       "      <th>12</th>\n",
       "      <td>13</td>\n",
       "      <td>Prior</td>\n",
       "      <td>11.1111</td>\n",
       "      <td>5.076142</td>\n",
       "      <td>10.152284</td>\n",
       "    </tr>\n",
       "    <tr>\n",
       "      <th>13</th>\n",
       "      <td>14</td>\n",
       "      <td>Post</td>\n",
       "      <td>26.6667</td>\n",
       "      <td>9.708738</td>\n",
       "      <td>29.126214</td>\n",
       "    </tr>\n",
       "    <tr>\n",
       "      <th>14</th>\n",
       "      <td>15</td>\n",
       "      <td>Post</td>\n",
       "      <td>17.9487</td>\n",
       "      <td>4.201681</td>\n",
       "      <td>21.008403</td>\n",
       "    </tr>\n",
       "    <tr>\n",
       "      <th>15</th>\n",
       "      <td>16</td>\n",
       "      <td>Post</td>\n",
       "      <td>12.8205</td>\n",
       "      <td>13.043478</td>\n",
       "      <td>34.782609</td>\n",
       "    </tr>\n",
       "    <tr>\n",
       "      <th>16</th>\n",
       "      <td>17</td>\n",
       "      <td>Post</td>\n",
       "      <td>15.7895</td>\n",
       "      <td>9.950249</td>\n",
       "      <td>19.900498</td>\n",
       "    </tr>\n",
       "    <tr>\n",
       "      <th>17</th>\n",
       "      <td>18</td>\n",
       "      <td>Post</td>\n",
       "      <td>0.0000</td>\n",
       "      <td>9.950249</td>\n",
       "      <td>9.950249</td>\n",
       "    </tr>\n",
       "    <tr>\n",
       "      <th>18</th>\n",
       "      <td>19</td>\n",
       "      <td>Post</td>\n",
       "      <td>30.7692</td>\n",
       "      <td>8.510638</td>\n",
       "      <td>25.531915</td>\n",
       "    </tr>\n",
       "    <tr>\n",
       "      <th>19</th>\n",
       "      <td>20</td>\n",
       "      <td>Post</td>\n",
       "      <td>26.8293</td>\n",
       "      <td>9.259259</td>\n",
       "      <td>23.148148</td>\n",
       "    </tr>\n",
       "  </tbody>\n",
       "</table>\n",
       "</div>"
      ],
      "text/plain": [
       "    Month Reengineer  Employee_Turnover       VAR4        VAR5\n",
       "0       1      Prior             0.0000  24.390244   42.682927\n",
       "1       2      Prior             6.0606  19.354839   25.806452\n",
       "2       3      Prior            12.1212  35.087719  146.198830\n",
       "3       4      Prior             3.3333  18.404908  110.429448\n",
       "4       5      Prior            12.9032  17.964072   23.952096\n",
       "5       6      Prior             9.6774  41.176471   47.058824\n",
       "6       7      Prior            11.7647  13.422819    0.000000\n",
       "7       8      Prior            11.4286  31.250000   25.000000\n",
       "8       9      Prior            23.0769  17.241379  132.183908\n",
       "9      10      Prior            15.0000  16.574586   16.574586\n",
       "10     11      Prior            10.0000   5.917160   88.757396\n",
       "11     12      Prior            26.0870  21.164021   31.746032\n",
       "12     13      Prior            11.1111   5.076142   10.152284\n",
       "13     14       Post            26.6667   9.708738   29.126214\n",
       "14     15       Post            17.9487   4.201681   21.008403\n",
       "15     16       Post            12.8205  13.043478   34.782609\n",
       "16     17       Post            15.7895   9.950249   19.900498\n",
       "17     18       Post             0.0000   9.950249    9.950249\n",
       "18     19       Post            30.7692   8.510638   25.531915\n",
       "19     20       Post            26.8293   9.259259   23.148148"
      ]
     },
     "execution_count": 119,
     "metadata": {},
     "output_type": "execute_result"
    }
   ],
   "source": [
    "TF= pd.read_csv(\"C:\\Analytixlabs\\Learning\\Python for Data Science\\Case Study\\Basic Statistics  Case Study 5 - Hypothesis Testing\\Treatment_Facility.csv\")\n",
    "TF"
   ]
  },
  {
   "cell_type": "code",
   "execution_count": 121,
   "id": "e3b4131e",
   "metadata": {},
   "outputs": [
    {
     "data": {
      "text/html": [
       "<div>\n",
       "<style scoped>\n",
       "    .dataframe tbody tr th:only-of-type {\n",
       "        vertical-align: middle;\n",
       "    }\n",
       "\n",
       "    .dataframe tbody tr th {\n",
       "        vertical-align: top;\n",
       "    }\n",
       "\n",
       "    .dataframe thead th {\n",
       "        text-align: right;\n",
       "    }\n",
       "</style>\n",
       "<table border=\"1\" class=\"dataframe\">\n",
       "  <thead>\n",
       "    <tr style=\"text-align: right;\">\n",
       "      <th></th>\n",
       "      <th>Month</th>\n",
       "      <th>Reengineer</th>\n",
       "      <th>Employee_Turnover</th>\n",
       "      <th>TRFFP</th>\n",
       "      <th>CIP</th>\n",
       "    </tr>\n",
       "  </thead>\n",
       "  <tbody>\n",
       "    <tr>\n",
       "      <th>0</th>\n",
       "      <td>1</td>\n",
       "      <td>Prior</td>\n",
       "      <td>0.0000</td>\n",
       "      <td>24.390244</td>\n",
       "      <td>42.682927</td>\n",
       "    </tr>\n",
       "    <tr>\n",
       "      <th>1</th>\n",
       "      <td>2</td>\n",
       "      <td>Prior</td>\n",
       "      <td>6.0606</td>\n",
       "      <td>19.354839</td>\n",
       "      <td>25.806452</td>\n",
       "    </tr>\n",
       "    <tr>\n",
       "      <th>2</th>\n",
       "      <td>3</td>\n",
       "      <td>Prior</td>\n",
       "      <td>12.1212</td>\n",
       "      <td>35.087719</td>\n",
       "      <td>146.198830</td>\n",
       "    </tr>\n",
       "    <tr>\n",
       "      <th>3</th>\n",
       "      <td>4</td>\n",
       "      <td>Prior</td>\n",
       "      <td>3.3333</td>\n",
       "      <td>18.404908</td>\n",
       "      <td>110.429448</td>\n",
       "    </tr>\n",
       "    <tr>\n",
       "      <th>4</th>\n",
       "      <td>5</td>\n",
       "      <td>Prior</td>\n",
       "      <td>12.9032</td>\n",
       "      <td>17.964072</td>\n",
       "      <td>23.952096</td>\n",
       "    </tr>\n",
       "    <tr>\n",
       "      <th>5</th>\n",
       "      <td>6</td>\n",
       "      <td>Prior</td>\n",
       "      <td>9.6774</td>\n",
       "      <td>41.176471</td>\n",
       "      <td>47.058824</td>\n",
       "    </tr>\n",
       "    <tr>\n",
       "      <th>6</th>\n",
       "      <td>7</td>\n",
       "      <td>Prior</td>\n",
       "      <td>11.7647</td>\n",
       "      <td>13.422819</td>\n",
       "      <td>0.000000</td>\n",
       "    </tr>\n",
       "    <tr>\n",
       "      <th>7</th>\n",
       "      <td>8</td>\n",
       "      <td>Prior</td>\n",
       "      <td>11.4286</td>\n",
       "      <td>31.250000</td>\n",
       "      <td>25.000000</td>\n",
       "    </tr>\n",
       "    <tr>\n",
       "      <th>8</th>\n",
       "      <td>9</td>\n",
       "      <td>Prior</td>\n",
       "      <td>23.0769</td>\n",
       "      <td>17.241379</td>\n",
       "      <td>132.183908</td>\n",
       "    </tr>\n",
       "    <tr>\n",
       "      <th>9</th>\n",
       "      <td>10</td>\n",
       "      <td>Prior</td>\n",
       "      <td>15.0000</td>\n",
       "      <td>16.574586</td>\n",
       "      <td>16.574586</td>\n",
       "    </tr>\n",
       "    <tr>\n",
       "      <th>10</th>\n",
       "      <td>11</td>\n",
       "      <td>Prior</td>\n",
       "      <td>10.0000</td>\n",
       "      <td>5.917160</td>\n",
       "      <td>88.757396</td>\n",
       "    </tr>\n",
       "    <tr>\n",
       "      <th>11</th>\n",
       "      <td>12</td>\n",
       "      <td>Prior</td>\n",
       "      <td>26.0870</td>\n",
       "      <td>21.164021</td>\n",
       "      <td>31.746032</td>\n",
       "    </tr>\n",
       "    <tr>\n",
       "      <th>12</th>\n",
       "      <td>13</td>\n",
       "      <td>Prior</td>\n",
       "      <td>11.1111</td>\n",
       "      <td>5.076142</td>\n",
       "      <td>10.152284</td>\n",
       "    </tr>\n",
       "    <tr>\n",
       "      <th>13</th>\n",
       "      <td>14</td>\n",
       "      <td>Post</td>\n",
       "      <td>26.6667</td>\n",
       "      <td>9.708738</td>\n",
       "      <td>29.126214</td>\n",
       "    </tr>\n",
       "    <tr>\n",
       "      <th>14</th>\n",
       "      <td>15</td>\n",
       "      <td>Post</td>\n",
       "      <td>17.9487</td>\n",
       "      <td>4.201681</td>\n",
       "      <td>21.008403</td>\n",
       "    </tr>\n",
       "    <tr>\n",
       "      <th>15</th>\n",
       "      <td>16</td>\n",
       "      <td>Post</td>\n",
       "      <td>12.8205</td>\n",
       "      <td>13.043478</td>\n",
       "      <td>34.782609</td>\n",
       "    </tr>\n",
       "    <tr>\n",
       "      <th>16</th>\n",
       "      <td>17</td>\n",
       "      <td>Post</td>\n",
       "      <td>15.7895</td>\n",
       "      <td>9.950249</td>\n",
       "      <td>19.900498</td>\n",
       "    </tr>\n",
       "    <tr>\n",
       "      <th>17</th>\n",
       "      <td>18</td>\n",
       "      <td>Post</td>\n",
       "      <td>0.0000</td>\n",
       "      <td>9.950249</td>\n",
       "      <td>9.950249</td>\n",
       "    </tr>\n",
       "    <tr>\n",
       "      <th>18</th>\n",
       "      <td>19</td>\n",
       "      <td>Post</td>\n",
       "      <td>30.7692</td>\n",
       "      <td>8.510638</td>\n",
       "      <td>25.531915</td>\n",
       "    </tr>\n",
       "    <tr>\n",
       "      <th>19</th>\n",
       "      <td>20</td>\n",
       "      <td>Post</td>\n",
       "      <td>26.8293</td>\n",
       "      <td>9.259259</td>\n",
       "      <td>23.148148</td>\n",
       "    </tr>\n",
       "  </tbody>\n",
       "</table>\n",
       "</div>"
      ],
      "text/plain": [
       "    Month Reengineer  Employee_Turnover      TRFFP         CIP\n",
       "0       1      Prior             0.0000  24.390244   42.682927\n",
       "1       2      Prior             6.0606  19.354839   25.806452\n",
       "2       3      Prior            12.1212  35.087719  146.198830\n",
       "3       4      Prior             3.3333  18.404908  110.429448\n",
       "4       5      Prior            12.9032  17.964072   23.952096\n",
       "5       6      Prior             9.6774  41.176471   47.058824\n",
       "6       7      Prior            11.7647  13.422819    0.000000\n",
       "7       8      Prior            11.4286  31.250000   25.000000\n",
       "8       9      Prior            23.0769  17.241379  132.183908\n",
       "9      10      Prior            15.0000  16.574586   16.574586\n",
       "10     11      Prior            10.0000   5.917160   88.757396\n",
       "11     12      Prior            26.0870  21.164021   31.746032\n",
       "12     13      Prior            11.1111   5.076142   10.152284\n",
       "13     14       Post            26.6667   9.708738   29.126214\n",
       "14     15       Post            17.9487   4.201681   21.008403\n",
       "15     16       Post            12.8205  13.043478   34.782609\n",
       "16     17       Post            15.7895   9.950249   19.900498\n",
       "17     18       Post             0.0000   9.950249    9.950249\n",
       "18     19       Post            30.7692   8.510638   25.531915\n",
       "19     20       Post            26.8293   9.259259   23.148148"
      ]
     },
     "execution_count": 121,
     "metadata": {},
     "output_type": "execute_result"
    }
   ],
   "source": [
    "TF.rename(columns={'VAR4':'TRFFP','VAR5':'CIP'},inplace=True)\n",
    "TF"
   ]
  },
  {
   "cell_type": "code",
   "execution_count": 122,
   "id": "e81a099d",
   "metadata": {},
   "outputs": [
    {
     "name": "stdout",
     "output_type": "stream",
     "text": [
      "<class 'pandas.core.frame.DataFrame'>\n",
      "RangeIndex: 20 entries, 0 to 19\n",
      "Data columns (total 5 columns):\n",
      " #   Column             Non-Null Count  Dtype  \n",
      "---  ------             --------------  -----  \n",
      " 0   Month              20 non-null     int64  \n",
      " 1   Reengineer         20 non-null     object \n",
      " 2   Employee_Turnover  20 non-null     float64\n",
      " 3   TRFFP              20 non-null     float64\n",
      " 4   CIP                20 non-null     float64\n",
      "dtypes: float64(3), int64(1), object(1)\n",
      "memory usage: 928.0+ bytes\n"
     ]
    }
   ],
   "source": [
    "TF.info()"
   ]
  },
  {
   "cell_type": "code",
   "execution_count": 130,
   "id": "33674fc1",
   "metadata": {},
   "outputs": [],
   "source": [
    "Pre=  TF.loc[TF.Reengineer== 'Prior'].CIP\n",
    "Post= TF.loc[TF.Reengineer== 'Post'].CIP"
   ]
  },
  {
   "cell_type": "code",
   "execution_count": 131,
   "id": "d29494e7",
   "metadata": {},
   "outputs": [
    {
     "data": {
      "text/plain": [
       "0      42.682927\n",
       "1      25.806452\n",
       "2     146.198830\n",
       "3     110.429448\n",
       "4      23.952096\n",
       "5      47.058824\n",
       "6       0.000000\n",
       "7      25.000000\n",
       "8     132.183908\n",
       "9      16.574586\n",
       "10     88.757396\n",
       "11     31.746032\n",
       "12     10.152284\n",
       "Name: CIP, dtype: float64"
      ]
     },
     "execution_count": 131,
     "metadata": {},
     "output_type": "execute_result"
    }
   ],
   "source": [
    "Pre"
   ]
  },
  {
   "cell_type": "code",
   "execution_count": 132,
   "id": "190e4ffd",
   "metadata": {},
   "outputs": [
    {
     "data": {
      "text/plain": [
       "13    29.126214\n",
       "14    21.008403\n",
       "15    34.782609\n",
       "16    19.900498\n",
       "17     9.950249\n",
       "18    25.531915\n",
       "19    23.148148\n",
       "Name: CIP, dtype: float64"
      ]
     },
     "execution_count": 132,
     "metadata": {},
     "output_type": "execute_result"
    }
   ],
   "source": [
    "Post"
   ]
  },
  {
   "cell_type": "markdown",
   "id": "b8522440",
   "metadata": {},
   "source": [
    "### Perform the test"
   ]
  },
  {
   "cell_type": "code",
   "execution_count": 133,
   "id": "33c5b4c2",
   "metadata": {},
   "outputs": [
    {
     "data": {
      "text/plain": [
       "Ttest_indResult(statistic=1.6279144253528646, pvalue=0.12091989189884149)"
      ]
     },
     "execution_count": 133,
     "metadata": {},
     "output_type": "execute_result"
    }
   ],
   "source": [
    "stats.ttest_ind(Pre, Post)"
   ]
  },
  {
   "cell_type": "markdown",
   "id": "ca92b38a",
   "metadata": {},
   "source": [
    "Since New PValue is higer than 0.05,we retain null hypothesis.  Hence, the reengineering effort has not changed the critical incidence rate"
   ]
  },
  {
   "cell_type": "code",
   "execution_count": 139,
   "id": "54b9f6f1",
   "metadata": {},
   "outputs": [],
   "source": [
    "ET_Pre= TF.loc[TF.Reengineer== 'Prior'].Employee_Turnover\n",
    "ET_Post= TF.loc[TF.Reengineer== 'Post'].Employee_Turnover"
   ]
  },
  {
   "cell_type": "code",
   "execution_count": 140,
   "id": "48506e2f",
   "metadata": {},
   "outputs": [
    {
     "data": {
      "text/plain": [
       "0      0.0000\n",
       "1      6.0606\n",
       "2     12.1212\n",
       "3      3.3333\n",
       "4     12.9032\n",
       "5      9.6774\n",
       "6     11.7647\n",
       "7     11.4286\n",
       "8     23.0769\n",
       "9     15.0000\n",
       "10    10.0000\n",
       "11    26.0870\n",
       "12    11.1111\n",
       "Name: Employee_Turnover, dtype: float64"
      ]
     },
     "execution_count": 140,
     "metadata": {},
     "output_type": "execute_result"
    }
   ],
   "source": [
    "ET_Pre"
   ]
  },
  {
   "cell_type": "code",
   "execution_count": 153,
   "id": "af196652",
   "metadata": {},
   "outputs": [
    {
     "data": {
      "text/plain": [
       "13    26.6667\n",
       "14    17.9487\n",
       "15    12.8205\n",
       "16    15.7895\n",
       "17     0.0000\n",
       "18    30.7692\n",
       "19    26.8293\n",
       "Name: Employee_Turnover, dtype: float64"
      ]
     },
     "execution_count": 153,
     "metadata": {},
     "output_type": "execute_result"
    }
   ],
   "source": [
    "ET_Post"
   ]
  },
  {
   "cell_type": "markdown",
   "id": "d407d0b5",
   "metadata": {},
   "source": [
    "### Perform the test"
   ]
  },
  {
   "cell_type": "code",
   "execution_count": 151,
   "id": "45c9bd79",
   "metadata": {},
   "outputs": [
    {
     "data": {
      "text/plain": [
       "Ttest_indResult(statistic=-1.770306704753604, pvalue=0.09361109345535304)"
      ]
     },
     "execution_count": 151,
     "metadata": {},
     "output_type": "execute_result"
    }
   ],
   "source": [
    "stats.ttest_ind(ET_Pre,ET_Post)"
   ]
  },
  {
   "cell_type": "markdown",
   "id": "ac60d9e7",
   "metadata": {},
   "source": [
    "Since New PValue is higer than 0.05,we retain null hypothesis. Hence, the reengineering effort has not changed the staff turnover rate"
   ]
  },
  {
   "cell_type": "markdown",
   "id": "f904c465",
   "metadata": {},
   "source": [
    "## BUSINESS PROBLEM-4"
   ]
  },
  {
   "cell_type": "markdown",
   "id": "644820fa",
   "metadata": {},
   "source": [
    "### BUSINESS PROBLEM: We will focus on the prioritization system. If the system is working, then high priority jobs, on average, should be completed more quickly than medium priority jobs, and medium priority jobs should be completed more quickly than low priority jobs. Use the data provided to determine whether this is, in fact, occurring."
   ]
  },
  {
   "cell_type": "code",
   "execution_count": 157,
   "id": "4ffc64ff",
   "metadata": {},
   "outputs": [
    {
     "data": {
      "text/html": [
       "<div>\n",
       "<style scoped>\n",
       "    .dataframe tbody tr th:only-of-type {\n",
       "        vertical-align: middle;\n",
       "    }\n",
       "\n",
       "    .dataframe tbody tr th {\n",
       "        vertical-align: top;\n",
       "    }\n",
       "\n",
       "    .dataframe thead th {\n",
       "        text-align: right;\n",
       "    }\n",
       "</style>\n",
       "<table border=\"1\" class=\"dataframe\">\n",
       "  <thead>\n",
       "    <tr style=\"text-align: right;\">\n",
       "      <th></th>\n",
       "      <th>Days</th>\n",
       "      <th>Priority</th>\n",
       "    </tr>\n",
       "  </thead>\n",
       "  <tbody>\n",
       "    <tr>\n",
       "      <th>0</th>\n",
       "      <td>3.3</td>\n",
       "      <td>High</td>\n",
       "    </tr>\n",
       "    <tr>\n",
       "      <th>1</th>\n",
       "      <td>7.9</td>\n",
       "      <td>Medium</td>\n",
       "    </tr>\n",
       "    <tr>\n",
       "      <th>2</th>\n",
       "      <td>0.3</td>\n",
       "      <td>High</td>\n",
       "    </tr>\n",
       "    <tr>\n",
       "      <th>3</th>\n",
       "      <td>0.7</td>\n",
       "      <td>Medium</td>\n",
       "    </tr>\n",
       "    <tr>\n",
       "      <th>4</th>\n",
       "      <td>8.6</td>\n",
       "      <td>Medium</td>\n",
       "    </tr>\n",
       "    <tr>\n",
       "      <th>...</th>\n",
       "      <td>...</td>\n",
       "      <td>...</td>\n",
       "    </tr>\n",
       "    <tr>\n",
       "      <th>637</th>\n",
       "      <td>2.5</td>\n",
       "      <td>Low</td>\n",
       "    </tr>\n",
       "    <tr>\n",
       "      <th>638</th>\n",
       "      <td>0.3</td>\n",
       "      <td>High</td>\n",
       "    </tr>\n",
       "    <tr>\n",
       "      <th>639</th>\n",
       "      <td>0.3</td>\n",
       "      <td>Medium</td>\n",
       "    </tr>\n",
       "    <tr>\n",
       "      <th>640</th>\n",
       "      <td>1.3</td>\n",
       "      <td>Medium</td>\n",
       "    </tr>\n",
       "    <tr>\n",
       "      <th>641</th>\n",
       "      <td>0.5</td>\n",
       "      <td>High</td>\n",
       "    </tr>\n",
       "  </tbody>\n",
       "</table>\n",
       "<p>642 rows × 2 columns</p>\n",
       "</div>"
      ],
      "text/plain": [
       "     Days Priority\n",
       "0     3.3     High\n",
       "1     7.9   Medium\n",
       "2     0.3     High\n",
       "3     0.7   Medium\n",
       "4     8.6   Medium\n",
       "..    ...      ...\n",
       "637   2.5      Low\n",
       "638   0.3     High\n",
       "639   0.3   Medium\n",
       "640   1.3   Medium\n",
       "641   0.5     High\n",
       "\n",
       "[642 rows x 2 columns]"
      ]
     },
     "execution_count": 157,
     "metadata": {},
     "output_type": "execute_result"
    }
   ],
   "source": [
    "Priority_Assessment= pd.read_csv(\"C:\\Analytixlabs\\Learning\\Python for Data Science\\Case Study\\Basic Statistics  Case Study 5 - Hypothesis Testing\\Priority_Assessment.csv\")\n",
    "Priority_Assessment"
   ]
  },
  {
   "cell_type": "code",
   "execution_count": 145,
   "id": "0f22e2dc",
   "metadata": {},
   "outputs": [
    {
     "name": "stdout",
     "output_type": "stream",
     "text": [
      "<class 'pandas.core.frame.DataFrame'>\n",
      "RangeIndex: 642 entries, 0 to 641\n",
      "Data columns (total 2 columns):\n",
      " #   Column    Non-Null Count  Dtype  \n",
      "---  ------    --------------  -----  \n",
      " 0   Days      642 non-null    float64\n",
      " 1   Priority  642 non-null    object \n",
      "dtypes: float64(1), object(1)\n",
      "memory usage: 10.2+ KB\n"
     ]
    }
   ],
   "source": [
    "Priority_Assessment.info()"
   ]
  },
  {
   "cell_type": "code",
   "execution_count": 167,
   "id": "a968a18d",
   "metadata": {},
   "outputs": [],
   "source": [
    "High=Priority_Assessment.loc[Priority_Assessment.Priority=='High'].Days\n",
    "Medium=Priority_Assessment.loc[Priority_Assessment.Priority=='Medium'].Days\n",
    "Low=Priority_Assessment.loc[Priority_Assessment.Priority=='Low'].Days"
   ]
  },
  {
   "cell_type": "code",
   "execution_count": 168,
   "id": "2fa803fa",
   "metadata": {},
   "outputs": [
    {
     "data": {
      "text/plain": [
       "0      3.3\n",
       "2      0.3\n",
       "5      0.3\n",
       "6      0.3\n",
       "7      0.3\n",
       "      ... \n",
       "631    0.3\n",
       "632    1.0\n",
       "635    0.1\n",
       "638    0.3\n",
       "641    0.5\n",
       "Name: Days, Length: 326, dtype: float64"
      ]
     },
     "execution_count": 168,
     "metadata": {},
     "output_type": "execute_result"
    }
   ],
   "source": [
    "High"
   ]
  },
  {
   "cell_type": "code",
   "execution_count": 169,
   "id": "a4034f2d",
   "metadata": {},
   "outputs": [
    {
     "data": {
      "text/plain": [
       "1       7.9\n",
       "3       0.7\n",
       "4       8.6\n",
       "9      15.9\n",
       "11      0.3\n",
       "       ... \n",
       "633     2.0\n",
       "634     2.5\n",
       "636     0.1\n",
       "639     0.3\n",
       "640     1.3\n",
       "Name: Days, Length: 249, dtype: float64"
      ]
     },
     "execution_count": 169,
     "metadata": {},
     "output_type": "execute_result"
    }
   ],
   "source": [
    "Medium"
   ]
  },
  {
   "cell_type": "code",
   "execution_count": 170,
   "id": "9fb332f6",
   "metadata": {},
   "outputs": [
    {
     "data": {
      "text/plain": [
       "14     23.2\n",
       "15      5.3\n",
       "20      4.6\n",
       "23      1.8\n",
       "26     17.0\n",
       "       ... \n",
       "609     0.5\n",
       "613     7.9\n",
       "620     0.3\n",
       "622     0.1\n",
       "637     2.5\n",
       "Name: Days, Length: 67, dtype: float64"
      ]
     },
     "execution_count": 170,
     "metadata": {},
     "output_type": "execute_result"
    }
   ],
   "source": [
    "Low"
   ]
  },
  {
   "cell_type": "markdown",
   "id": "b5cc55a5",
   "metadata": {},
   "source": [
    "### Perform the test"
   ]
  },
  {
   "cell_type": "code",
   "execution_count": 180,
   "id": "ffab6d60",
   "metadata": {},
   "outputs": [
    {
     "data": {
      "text/plain": [
       "F_onewayResult(statistic=1.812311010076072, pvalue=0.16411459461716182)"
      ]
     },
     "execution_count": 180,
     "metadata": {},
     "output_type": "execute_result"
    }
   ],
   "source": [
    "stats.f_oneway(High,Medium,Low)"
   ]
  },
  {
   "cell_type": "markdown",
   "id": "4fb74e29",
   "metadata": {},
   "source": [
    "Since New PValue is higer than 0.05,we retain null hypothesis. Hence, the Prioritization system is not working"
   ]
  },
  {
   "cell_type": "markdown",
   "id": "7416c468",
   "metadata": {},
   "source": [
    "## BUSINESS PROBLEM-5"
   ]
  },
  {
   "cell_type": "code",
   "execution_count": 181,
   "id": "ffd2c629",
   "metadata": {},
   "outputs": [
    {
     "data": {
      "text/html": [
       "<div>\n",
       "<style scoped>\n",
       "    .dataframe tbody tr th:only-of-type {\n",
       "        vertical-align: middle;\n",
       "    }\n",
       "\n",
       "    .dataframe tbody tr th {\n",
       "        vertical-align: top;\n",
       "    }\n",
       "\n",
       "    .dataframe thead th {\n",
       "        text-align: right;\n",
       "    }\n",
       "</style>\n",
       "<table border=\"1\" class=\"dataframe\">\n",
       "  <thead>\n",
       "    <tr style=\"text-align: right;\">\n",
       "      <th></th>\n",
       "      <th>_rowstate_</th>\n",
       "      <th>Movie</th>\n",
       "      <th>Gender</th>\n",
       "      <th>Marital_Status</th>\n",
       "      <th>Sinage</th>\n",
       "      <th>Parking</th>\n",
       "      <th>Clean</th>\n",
       "      <th>Overall</th>\n",
       "      <th>Age</th>\n",
       "      <th>Income</th>\n",
       "      <th>Hear_About</th>\n",
       "    </tr>\n",
       "  </thead>\n",
       "  <tbody>\n",
       "    <tr>\n",
       "      <th>0</th>\n",
       "      <td>0</td>\n",
       "      <td>Ferris Buellers Day Off</td>\n",
       "      <td>Female</td>\n",
       "      <td>Married</td>\n",
       "      <td>2.0</td>\n",
       "      <td>2.0</td>\n",
       "      <td>2.0</td>\n",
       "      <td>2.0</td>\n",
       "      <td>3.0</td>\n",
       "      <td>1.0</td>\n",
       "      <td>5</td>\n",
       "    </tr>\n",
       "    <tr>\n",
       "      <th>1</th>\n",
       "      <td>0</td>\n",
       "      <td>Ferris Buellers Day Off</td>\n",
       "      <td>Female</td>\n",
       "      <td>Single</td>\n",
       "      <td>1.0</td>\n",
       "      <td>1.0</td>\n",
       "      <td>1.0</td>\n",
       "      <td>1.0</td>\n",
       "      <td>2.0</td>\n",
       "      <td>1.0</td>\n",
       "      <td>5</td>\n",
       "    </tr>\n",
       "    <tr>\n",
       "      <th>2</th>\n",
       "      <td>0</td>\n",
       "      <td>Ferris Buellers Day Off</td>\n",
       "      <td>Male</td>\n",
       "      <td>Married</td>\n",
       "      <td>2.0</td>\n",
       "      <td>4.0</td>\n",
       "      <td>3.0</td>\n",
       "      <td>2.0</td>\n",
       "      <td>4.0</td>\n",
       "      <td>1.0</td>\n",
       "      <td>5</td>\n",
       "    </tr>\n",
       "    <tr>\n",
       "      <th>3</th>\n",
       "      <td>0</td>\n",
       "      <td>Ferris Buellers Day Off</td>\n",
       "      <td>Female</td>\n",
       "      <td>Married</td>\n",
       "      <td>1.0</td>\n",
       "      <td>3.0</td>\n",
       "      <td>2.0</td>\n",
       "      <td>2.0</td>\n",
       "      <td>4.0</td>\n",
       "      <td>1.0</td>\n",
       "      <td>5</td>\n",
       "    </tr>\n",
       "    <tr>\n",
       "      <th>4</th>\n",
       "      <td>0</td>\n",
       "      <td>Ferris Buellers Day Off</td>\n",
       "      <td>Female</td>\n",
       "      <td>Married</td>\n",
       "      <td>1.0</td>\n",
       "      <td>1.0</td>\n",
       "      <td>1.0</td>\n",
       "      <td>1.0</td>\n",
       "      <td>3.0</td>\n",
       "      <td>3.0</td>\n",
       "      <td>1</td>\n",
       "    </tr>\n",
       "    <tr>\n",
       "      <th>...</th>\n",
       "      <td>...</td>\n",
       "      <td>...</td>\n",
       "      <td>...</td>\n",
       "      <td>...</td>\n",
       "      <td>...</td>\n",
       "      <td>...</td>\n",
       "      <td>...</td>\n",
       "      <td>...</td>\n",
       "      <td>...</td>\n",
       "      <td>...</td>\n",
       "      <td>...</td>\n",
       "    </tr>\n",
       "    <tr>\n",
       "      <th>325</th>\n",
       "      <td>0</td>\n",
       "      <td>Old School</td>\n",
       "      <td>2</td>\n",
       "      <td>2</td>\n",
       "      <td>1.0</td>\n",
       "      <td>2.0</td>\n",
       "      <td>1.0</td>\n",
       "      <td>1.0</td>\n",
       "      <td>2.0</td>\n",
       "      <td>1.0</td>\n",
       "      <td>1</td>\n",
       "    </tr>\n",
       "    <tr>\n",
       "      <th>326</th>\n",
       "      <td>0</td>\n",
       "      <td>Old School</td>\n",
       "      <td>1</td>\n",
       "      <td>1</td>\n",
       "      <td>2.0</td>\n",
       "      <td>2.0</td>\n",
       "      <td>2.0</td>\n",
       "      <td>2.0</td>\n",
       "      <td>3.0</td>\n",
       "      <td>3.0</td>\n",
       "      <td>5</td>\n",
       "    </tr>\n",
       "    <tr>\n",
       "      <th>327</th>\n",
       "      <td>0</td>\n",
       "      <td>Old School</td>\n",
       "      <td>2</td>\n",
       "      <td>1</td>\n",
       "      <td>2.0</td>\n",
       "      <td>1.0</td>\n",
       "      <td>1.0</td>\n",
       "      <td>2.0</td>\n",
       "      <td>2.0</td>\n",
       "      <td>2.0</td>\n",
       "      <td>5</td>\n",
       "    </tr>\n",
       "    <tr>\n",
       "      <th>328</th>\n",
       "      <td>0</td>\n",
       "      <td>Old School</td>\n",
       "      <td>1</td>\n",
       "      <td>1</td>\n",
       "      <td>1.0</td>\n",
       "      <td>1.0</td>\n",
       "      <td>1.0</td>\n",
       "      <td>1.0</td>\n",
       "      <td>2.0</td>\n",
       "      <td>1.0</td>\n",
       "      <td>3</td>\n",
       "    </tr>\n",
       "    <tr>\n",
       "      <th>329</th>\n",
       "      <td>0</td>\n",
       "      <td>Old School</td>\n",
       "      <td>2</td>\n",
       "      <td>2</td>\n",
       "      <td>2.0</td>\n",
       "      <td>2.0</td>\n",
       "      <td>3.0</td>\n",
       "      <td>1.0</td>\n",
       "      <td>2.0</td>\n",
       "      <td>1.0</td>\n",
       "      <td>5</td>\n",
       "    </tr>\n",
       "  </tbody>\n",
       "</table>\n",
       "<p>330 rows × 11 columns</p>\n",
       "</div>"
      ],
      "text/plain": [
       "     _rowstate_                    Movie  Gender Marital_Status  Sinage  \\\n",
       "0             0  Ferris Buellers Day Off  Female        Married     2.0   \n",
       "1             0  Ferris Buellers Day Off  Female         Single     1.0   \n",
       "2             0  Ferris Buellers Day Off    Male        Married     2.0   \n",
       "3             0  Ferris Buellers Day Off  Female        Married     1.0   \n",
       "4             0  Ferris Buellers Day Off  Female        Married     1.0   \n",
       "..          ...                      ...     ...            ...     ...   \n",
       "325           0               Old School       2              2     1.0   \n",
       "326           0               Old School       1              1     2.0   \n",
       "327           0               Old School       2              1     2.0   \n",
       "328           0               Old School       1              1     1.0   \n",
       "329           0               Old School       2              2     2.0   \n",
       "\n",
       "     Parking  Clean  Overall  Age  Income Hear_About  \n",
       "0        2.0    2.0      2.0  3.0     1.0          5  \n",
       "1        1.0    1.0      1.0  2.0     1.0          5  \n",
       "2        4.0    3.0      2.0  4.0     1.0          5  \n",
       "3        3.0    2.0      2.0  4.0     1.0          5  \n",
       "4        1.0    1.0      1.0  3.0     3.0          1  \n",
       "..       ...    ...      ...  ...     ...        ...  \n",
       "325      2.0    1.0      1.0  2.0     1.0          1  \n",
       "326      2.0    2.0      2.0  3.0     3.0          5  \n",
       "327      1.0    1.0      2.0  2.0     2.0          5  \n",
       "328      1.0    1.0      1.0  2.0     1.0          3  \n",
       "329      2.0    3.0      1.0  2.0     1.0          5  \n",
       "\n",
       "[330 rows x 11 columns]"
      ]
     },
     "execution_count": 181,
     "metadata": {},
     "output_type": "execute_result"
    }
   ],
   "source": [
    "Films= pd.read_csv(\"C:\\Analytixlabs\\Learning\\Python for Data Science\\Case Study\\Basic Statistics  Case Study 5 - Hypothesis Testing\\Films.csv\")\n",
    "Films"
   ]
  },
  {
   "cell_type": "code",
   "execution_count": 182,
   "id": "590f7205",
   "metadata": {},
   "outputs": [
    {
     "name": "stdout",
     "output_type": "stream",
     "text": [
      "<class 'pandas.core.frame.DataFrame'>\n",
      "RangeIndex: 330 entries, 0 to 329\n",
      "Data columns (total 11 columns):\n",
      " #   Column          Non-Null Count  Dtype  \n",
      "---  ------          --------------  -----  \n",
      " 0   _rowstate_      330 non-null    int64  \n",
      " 1   Movie           330 non-null    object \n",
      " 2   Gender          330 non-null    object \n",
      " 3   Marital_Status  328 non-null    object \n",
      " 4   Sinage          328 non-null    float64\n",
      " 5   Parking         328 non-null    float64\n",
      " 6   Clean           327 non-null    float64\n",
      " 7   Overall         328 non-null    float64\n",
      " 8   Age             328 non-null    float64\n",
      " 9   Income          314 non-null    float64\n",
      " 10  Hear_About      323 non-null    object \n",
      "dtypes: float64(6), int64(1), object(4)\n",
      "memory usage: 28.5+ KB\n"
     ]
    }
   ],
   "source": [
    "Films.info()"
   ]
  },
  {
   "cell_type": "code",
   "execution_count": 183,
   "id": "9f6fa275",
   "metadata": {},
   "outputs": [
    {
     "data": {
      "text/plain": [
       "_rowstate_         0\n",
       "Movie              0\n",
       "Gender             0\n",
       "Marital_Status     2\n",
       "Sinage             2\n",
       "Parking            2\n",
       "Clean              3\n",
       "Overall            2\n",
       "Age                2\n",
       "Income            16\n",
       "Hear_About         7\n",
       "dtype: int64"
      ]
     },
     "execution_count": 183,
     "metadata": {},
     "output_type": "execute_result"
    }
   ],
   "source": [
    "Films.isna().sum()"
   ]
  },
  {
   "cell_type": "code",
   "execution_count": 185,
   "id": "c5278368",
   "metadata": {},
   "outputs": [
    {
     "data": {
      "text/plain": [
       "2         194\n",
       "1         104\n",
       "Female     19\n",
       "Male       13\n",
       "Name: Gender, dtype: int64"
      ]
     },
     "execution_count": 185,
     "metadata": {},
     "output_type": "execute_result"
    }
   ],
   "source": [
    "Films.Gender.value_counts()"
   ]
  },
  {
   "cell_type": "code",
   "execution_count": 196,
   "id": "5f814508",
   "metadata": {},
   "outputs": [],
   "source": [
    "Films.Gender=np.where((Films.Gender=='Female')|(Films.Gender=='1'),'Female','Male')"
   ]
  },
  {
   "cell_type": "code",
   "execution_count": 198,
   "id": "1ca207f8",
   "metadata": {},
   "outputs": [
    {
     "data": {
      "text/plain": [
       "Female    213\n",
       "Male      117\n",
       "Name: Gender, dtype: int64"
      ]
     },
     "execution_count": 198,
     "metadata": {},
     "output_type": "execute_result"
    }
   ],
   "source": [
    "Films.Gender.value_counts()"
   ]
  },
  {
   "cell_type": "code",
   "execution_count": 199,
   "id": "ec075ff3",
   "metadata": {},
   "outputs": [
    {
     "data": {
      "text/plain": [
       "2          208\n",
       "1           88\n",
       "Single      18\n",
       "Married     12\n",
       "Slngle       2\n",
       "Name: Marital_Status, dtype: int64"
      ]
     },
     "execution_count": 199,
     "metadata": {},
     "output_type": "execute_result"
    }
   ],
   "source": [
    "Films.Marital_Status.value_counts()"
   ]
  },
  {
   "cell_type": "code",
   "execution_count": 200,
   "id": "a8b65db4",
   "metadata": {},
   "outputs": [],
   "source": [
    "Films.Marital_Status=np.where((Films.Marital_Status=='Married')|(Films.Marital_Status=='1'),'Married','Single')"
   ]
  },
  {
   "cell_type": "code",
   "execution_count": 201,
   "id": "93ce6249",
   "metadata": {},
   "outputs": [
    {
     "data": {
      "text/plain": [
       "Single     230\n",
       "Married    100\n",
       "Name: Marital_Status, dtype: int64"
      ]
     },
     "execution_count": 201,
     "metadata": {},
     "output_type": "execute_result"
    }
   ],
   "source": [
    "Films.Marital_Status.value_counts()"
   ]
  },
  {
   "cell_type": "markdown",
   "id": "21319659",
   "metadata": {},
   "source": [
    "#### Missing Value Imputation"
   ]
  },
  {
   "cell_type": "code",
   "execution_count": 224,
   "id": "5d1b3b12",
   "metadata": {},
   "outputs": [],
   "source": [
    "Films['Marital_Status'] =Films['Marital_Status'].fillna(Films['Marital_Status'].mode())\n",
    "Films['Sinage'] = Films['Sinage'].fillna(Films['Sinage'].mode())\n",
    "Films['Parking'] = Films['Parking'].fillna(Films['Parking'].mode())\n",
    "Films['Clean'] = Films['Clean'].fillna(Films['Clean'].mode())\n",
    "Films['Overall'] = Films['Overall'].fillna(Films['Overall'].mode())\n",
    "Films['Age'] = Films['Age'].fillna(Films['Age'].mode())\n",
    "Films['Income'] = Films['Income'].fillna(Films['Income'].mode())\n",
    "Films['Hear_About'] = Films['Hear_About'].fillna(Films['Hear_About'].mode())"
   ]
  },
  {
   "cell_type": "code",
   "execution_count": 225,
   "id": "0bce16c5",
   "metadata": {},
   "outputs": [
    {
     "data": {
      "text/plain": [
       "_rowstate_        0\n",
       "Movie             0\n",
       "Gender            0\n",
       "Marital_Status    0\n",
       "Sinage            0\n",
       "Parking           0\n",
       "Clean             0\n",
       "Overall           0\n",
       "Age               0\n",
       "Income            0\n",
       "Hear_About        0\n",
       "dtype: int64"
      ]
     },
     "execution_count": 225,
     "metadata": {},
     "output_type": "execute_result"
    }
   ],
   "source": [
    "Films.isna().sum()"
   ]
  },
  {
   "cell_type": "markdown",
   "id": "16e86aad",
   "metadata": {},
   "source": [
    "### BUSINESS PROBLEM: Use the survey resultsto addressthe following questions \n",
    "### 1 What is the overall level of customer satisfaction?\n"
   ]
  },
  {
   "cell_type": "code",
   "execution_count": 226,
   "id": "f365d6b1",
   "metadata": {},
   "outputs": [
    {
     "data": {
      "text/html": [
       "<div>\n",
       "<style scoped>\n",
       "    .dataframe tbody tr th:only-of-type {\n",
       "        vertical-align: middle;\n",
       "    }\n",
       "\n",
       "    .dataframe tbody tr th {\n",
       "        vertical-align: top;\n",
       "    }\n",
       "\n",
       "    .dataframe thead th {\n",
       "        text-align: right;\n",
       "    }\n",
       "</style>\n",
       "<table border=\"1\" class=\"dataframe\">\n",
       "  <thead>\n",
       "    <tr style=\"text-align: right;\">\n",
       "      <th></th>\n",
       "      <th>_rowstate_</th>\n",
       "      <th>Movie</th>\n",
       "      <th>Gender</th>\n",
       "      <th>Marital_Status</th>\n",
       "      <th>Sinage</th>\n",
       "      <th>Parking</th>\n",
       "      <th>Clean</th>\n",
       "      <th>Overall</th>\n",
       "      <th>Age</th>\n",
       "      <th>Income</th>\n",
       "      <th>Hear_About</th>\n",
       "    </tr>\n",
       "  </thead>\n",
       "  <tbody>\n",
       "    <tr>\n",
       "      <th>0</th>\n",
       "      <td>0</td>\n",
       "      <td>Ferris Buellers Day Off</td>\n",
       "      <td>Female</td>\n",
       "      <td>Married</td>\n",
       "      <td>2.0</td>\n",
       "      <td>2.0</td>\n",
       "      <td>2.0</td>\n",
       "      <td>2.0</td>\n",
       "      <td>3.0</td>\n",
       "      <td>1.0</td>\n",
       "      <td>5</td>\n",
       "    </tr>\n",
       "    <tr>\n",
       "      <th>1</th>\n",
       "      <td>0</td>\n",
       "      <td>Ferris Buellers Day Off</td>\n",
       "      <td>Female</td>\n",
       "      <td>Single</td>\n",
       "      <td>1.0</td>\n",
       "      <td>1.0</td>\n",
       "      <td>1.0</td>\n",
       "      <td>1.0</td>\n",
       "      <td>2.0</td>\n",
       "      <td>1.0</td>\n",
       "      <td>5</td>\n",
       "    </tr>\n",
       "    <tr>\n",
       "      <th>2</th>\n",
       "      <td>0</td>\n",
       "      <td>Ferris Buellers Day Off</td>\n",
       "      <td>Male</td>\n",
       "      <td>Married</td>\n",
       "      <td>2.0</td>\n",
       "      <td>4.0</td>\n",
       "      <td>3.0</td>\n",
       "      <td>2.0</td>\n",
       "      <td>4.0</td>\n",
       "      <td>1.0</td>\n",
       "      <td>5</td>\n",
       "    </tr>\n",
       "    <tr>\n",
       "      <th>3</th>\n",
       "      <td>0</td>\n",
       "      <td>Ferris Buellers Day Off</td>\n",
       "      <td>Female</td>\n",
       "      <td>Married</td>\n",
       "      <td>1.0</td>\n",
       "      <td>3.0</td>\n",
       "      <td>2.0</td>\n",
       "      <td>2.0</td>\n",
       "      <td>4.0</td>\n",
       "      <td>1.0</td>\n",
       "      <td>5</td>\n",
       "    </tr>\n",
       "    <tr>\n",
       "      <th>4</th>\n",
       "      <td>0</td>\n",
       "      <td>Ferris Buellers Day Off</td>\n",
       "      <td>Female</td>\n",
       "      <td>Married</td>\n",
       "      <td>1.0</td>\n",
       "      <td>1.0</td>\n",
       "      <td>1.0</td>\n",
       "      <td>1.0</td>\n",
       "      <td>3.0</td>\n",
       "      <td>3.0</td>\n",
       "      <td>1</td>\n",
       "    </tr>\n",
       "  </tbody>\n",
       "</table>\n",
       "</div>"
      ],
      "text/plain": [
       "   _rowstate_                    Movie  Gender Marital_Status  Sinage  \\\n",
       "0           0  Ferris Buellers Day Off  Female        Married     2.0   \n",
       "1           0  Ferris Buellers Day Off  Female         Single     1.0   \n",
       "2           0  Ferris Buellers Day Off    Male        Married     2.0   \n",
       "3           0  Ferris Buellers Day Off  Female        Married     1.0   \n",
       "4           0  Ferris Buellers Day Off  Female        Married     1.0   \n",
       "\n",
       "   Parking  Clean  Overall  Age  Income Hear_About  \n",
       "0      2.0    2.0      2.0  3.0     1.0          5  \n",
       "1      1.0    1.0      1.0  2.0     1.0          5  \n",
       "2      4.0    3.0      2.0  4.0     1.0          5  \n",
       "3      3.0    2.0      2.0  4.0     1.0          5  \n",
       "4      1.0    1.0      1.0  3.0     3.0          1  "
      ]
     },
     "execution_count": 226,
     "metadata": {},
     "output_type": "execute_result"
    }
   ],
   "source": [
    "Films.head()"
   ]
  },
  {
   "cell_type": "code",
   "execution_count": null,
   "id": "369e1dfb",
   "metadata": {},
   "outputs": [],
   "source": [
    "\n"
   ]
  },
  {
   "cell_type": "code",
   "execution_count": null,
   "id": "10c4a7c9",
   "metadata": {},
   "outputs": [],
   "source": []
  },
  {
   "cell_type": "code",
   "execution_count": null,
   "id": "1b1c2ab5",
   "metadata": {},
   "outputs": [],
   "source": []
  },
  {
   "cell_type": "code",
   "execution_count": null,
   "id": "2e838b12",
   "metadata": {},
   "outputs": [],
   "source": []
  },
  {
   "cell_type": "markdown",
   "id": "3f88ee65",
   "metadata": {},
   "source": [
    "### 2  What factors are linked to satisfaction?"
   ]
  },
  {
   "cell_type": "code",
   "execution_count": 234,
   "id": "7d2f44a7",
   "metadata": {},
   "outputs": [],
   "source": [
    "T1=pd.crosstab(Films.Sinage,Films.Overall)\n",
    "T2=pd.crosstab(Films.Clean,Films.Overall)\n",
    "T3=pd.crosstab(Films.Parking,Films.Overall)"
   ]
  },
  {
   "cell_type": "code",
   "execution_count": 230,
   "id": "75ed7114",
   "metadata": {},
   "outputs": [
    {
     "data": {
      "text/html": [
       "<div>\n",
       "<style scoped>\n",
       "    .dataframe tbody tr th:only-of-type {\n",
       "        vertical-align: middle;\n",
       "    }\n",
       "\n",
       "    .dataframe tbody tr th {\n",
       "        vertical-align: top;\n",
       "    }\n",
       "\n",
       "    .dataframe thead th {\n",
       "        text-align: right;\n",
       "    }\n",
       "</style>\n",
       "<table border=\"1\" class=\"dataframe\">\n",
       "  <thead>\n",
       "    <tr style=\"text-align: right;\">\n",
       "      <th>Overall</th>\n",
       "      <th>1.0</th>\n",
       "      <th>2.0</th>\n",
       "      <th>3.0</th>\n",
       "      <th>4.0</th>\n",
       "      <th>5.0</th>\n",
       "    </tr>\n",
       "    <tr>\n",
       "      <th>Sinage</th>\n",
       "      <th></th>\n",
       "      <th></th>\n",
       "      <th></th>\n",
       "      <th></th>\n",
       "      <th></th>\n",
       "    </tr>\n",
       "  </thead>\n",
       "  <tbody>\n",
       "    <tr>\n",
       "      <th>1.0</th>\n",
       "      <td>90</td>\n",
       "      <td>22</td>\n",
       "      <td>0</td>\n",
       "      <td>0</td>\n",
       "      <td>1</td>\n",
       "    </tr>\n",
       "    <tr>\n",
       "      <th>2.0</th>\n",
       "      <td>44</td>\n",
       "      <td>109</td>\n",
       "      <td>4</td>\n",
       "      <td>0</td>\n",
       "      <td>1</td>\n",
       "    </tr>\n",
       "    <tr>\n",
       "      <th>3.0</th>\n",
       "      <td>13</td>\n",
       "      <td>25</td>\n",
       "      <td>8</td>\n",
       "      <td>1</td>\n",
       "      <td>1</td>\n",
       "    </tr>\n",
       "    <tr>\n",
       "      <th>4.0</th>\n",
       "      <td>2</td>\n",
       "      <td>4</td>\n",
       "      <td>0</td>\n",
       "      <td>0</td>\n",
       "      <td>0</td>\n",
       "    </tr>\n",
       "    <tr>\n",
       "      <th>5.0</th>\n",
       "      <td>2</td>\n",
       "      <td>2</td>\n",
       "      <td>0</td>\n",
       "      <td>0</td>\n",
       "      <td>1</td>\n",
       "    </tr>\n",
       "  </tbody>\n",
       "</table>\n",
       "</div>"
      ],
      "text/plain": [
       "Overall  1.0  2.0  3.0  4.0  5.0\n",
       "Sinage                          \n",
       "1.0       90   22    0    0    1\n",
       "2.0       44  109    4    0    1\n",
       "3.0       13   25    8    1    1\n",
       "4.0        2    4    0    0    0\n",
       "5.0        2    2    0    0    1"
      ]
     },
     "execution_count": 230,
     "metadata": {},
     "output_type": "execute_result"
    }
   ],
   "source": [
    "T1"
   ]
  },
  {
   "cell_type": "code",
   "execution_count": 231,
   "id": "d7232ff6",
   "metadata": {},
   "outputs": [
    {
     "data": {
      "text/html": [
       "<div>\n",
       "<style scoped>\n",
       "    .dataframe tbody tr th:only-of-type {\n",
       "        vertical-align: middle;\n",
       "    }\n",
       "\n",
       "    .dataframe tbody tr th {\n",
       "        vertical-align: top;\n",
       "    }\n",
       "\n",
       "    .dataframe thead th {\n",
       "        text-align: right;\n",
       "    }\n",
       "</style>\n",
       "<table border=\"1\" class=\"dataframe\">\n",
       "  <thead>\n",
       "    <tr style=\"text-align: right;\">\n",
       "      <th>Overall</th>\n",
       "      <th>1.0</th>\n",
       "      <th>2.0</th>\n",
       "      <th>3.0</th>\n",
       "      <th>4.0</th>\n",
       "      <th>5.0</th>\n",
       "    </tr>\n",
       "    <tr>\n",
       "      <th>Clean</th>\n",
       "      <th></th>\n",
       "      <th></th>\n",
       "      <th></th>\n",
       "      <th></th>\n",
       "      <th></th>\n",
       "    </tr>\n",
       "  </thead>\n",
       "  <tbody>\n",
       "    <tr>\n",
       "      <th>1.0</th>\n",
       "      <td>104</td>\n",
       "      <td>35</td>\n",
       "      <td>3</td>\n",
       "      <td>0</td>\n",
       "      <td>2</td>\n",
       "    </tr>\n",
       "    <tr>\n",
       "      <th>2.0</th>\n",
       "      <td>39</td>\n",
       "      <td>109</td>\n",
       "      <td>5</td>\n",
       "      <td>1</td>\n",
       "      <td>1</td>\n",
       "    </tr>\n",
       "    <tr>\n",
       "      <th>3.0</th>\n",
       "      <td>6</td>\n",
       "      <td>14</td>\n",
       "      <td>4</td>\n",
       "      <td>0</td>\n",
       "      <td>0</td>\n",
       "    </tr>\n",
       "    <tr>\n",
       "      <th>4.0</th>\n",
       "      <td>1</td>\n",
       "      <td>4</td>\n",
       "      <td>0</td>\n",
       "      <td>0</td>\n",
       "      <td>0</td>\n",
       "    </tr>\n",
       "    <tr>\n",
       "      <th>5.0</th>\n",
       "      <td>1</td>\n",
       "      <td>0</td>\n",
       "      <td>0</td>\n",
       "      <td>0</td>\n",
       "      <td>1</td>\n",
       "    </tr>\n",
       "  </tbody>\n",
       "</table>\n",
       "</div>"
      ],
      "text/plain": [
       "Overall  1.0  2.0  3.0  4.0  5.0\n",
       "Clean                           \n",
       "1.0      104   35    3    0    2\n",
       "2.0       39  109    5    1    1\n",
       "3.0        6   14    4    0    0\n",
       "4.0        1    4    0    0    0\n",
       "5.0        1    0    0    0    1"
      ]
     },
     "execution_count": 231,
     "metadata": {},
     "output_type": "execute_result"
    }
   ],
   "source": [
    "T2"
   ]
  },
  {
   "cell_type": "code",
   "execution_count": 232,
   "id": "3d296df6",
   "metadata": {},
   "outputs": [
    {
     "data": {
      "text/html": [
       "<div>\n",
       "<style scoped>\n",
       "    .dataframe tbody tr th:only-of-type {\n",
       "        vertical-align: middle;\n",
       "    }\n",
       "\n",
       "    .dataframe tbody tr th {\n",
       "        vertical-align: top;\n",
       "    }\n",
       "\n",
       "    .dataframe thead th {\n",
       "        text-align: right;\n",
       "    }\n",
       "</style>\n",
       "<table border=\"1\" class=\"dataframe\">\n",
       "  <thead>\n",
       "    <tr style=\"text-align: right;\">\n",
       "      <th>Overall</th>\n",
       "      <th>1.0</th>\n",
       "      <th>2.0</th>\n",
       "      <th>3.0</th>\n",
       "      <th>4.0</th>\n",
       "      <th>5.0</th>\n",
       "    </tr>\n",
       "    <tr>\n",
       "      <th>Parking</th>\n",
       "      <th></th>\n",
       "      <th></th>\n",
       "      <th></th>\n",
       "      <th></th>\n",
       "      <th></th>\n",
       "    </tr>\n",
       "  </thead>\n",
       "  <tbody>\n",
       "    <tr>\n",
       "      <th>1.0</th>\n",
       "      <td>105</td>\n",
       "      <td>27</td>\n",
       "      <td>2</td>\n",
       "      <td>0</td>\n",
       "      <td>1</td>\n",
       "    </tr>\n",
       "    <tr>\n",
       "      <th>2.0</th>\n",
       "      <td>40</td>\n",
       "      <td>111</td>\n",
       "      <td>3</td>\n",
       "      <td>0</td>\n",
       "      <td>1</td>\n",
       "    </tr>\n",
       "    <tr>\n",
       "      <th>3.0</th>\n",
       "      <td>4</td>\n",
       "      <td>20</td>\n",
       "      <td>5</td>\n",
       "      <td>0</td>\n",
       "      <td>0</td>\n",
       "    </tr>\n",
       "    <tr>\n",
       "      <th>4.0</th>\n",
       "      <td>2</td>\n",
       "      <td>3</td>\n",
       "      <td>1</td>\n",
       "      <td>0</td>\n",
       "      <td>1</td>\n",
       "    </tr>\n",
       "    <tr>\n",
       "      <th>5.0</th>\n",
       "      <td>0</td>\n",
       "      <td>1</td>\n",
       "      <td>1</td>\n",
       "      <td>1</td>\n",
       "      <td>1</td>\n",
       "    </tr>\n",
       "  </tbody>\n",
       "</table>\n",
       "</div>"
      ],
      "text/plain": [
       "Overall  1.0  2.0  3.0  4.0  5.0\n",
       "Parking                         \n",
       "1.0      105   27    2    0    1\n",
       "2.0       40  111    3    0    1\n",
       "3.0        4   20    5    0    0\n",
       "4.0        2    3    1    0    1\n",
       "5.0        0    1    1    1    1"
      ]
     },
     "execution_count": 232,
     "metadata": {},
     "output_type": "execute_result"
    }
   ],
   "source": [
    "T3"
   ]
  },
  {
   "cell_type": "code",
   "execution_count": 240,
   "id": "a4a35c90",
   "metadata": {},
   "outputs": [
    {
     "data": {
      "text/plain": [
       "(125.61859671027881,\n",
       " 4.53298970003405e-19,\n",
       " 16,\n",
       " array([[5.17060606e+01, 5.54727273e+01, 4.10909091e+00, 3.42424242e-01,\n",
       "         1.36969697e+00],\n",
       "        [7.22969697e+01, 7.75636364e+01, 5.74545455e+00, 4.78787879e-01,\n",
       "         1.91515152e+00],\n",
       "        [2.19636364e+01, 2.35636364e+01, 1.74545455e+00, 1.45454545e-01,\n",
       "         5.81818182e-01],\n",
       "        [2.74545455e+00, 2.94545455e+00, 2.18181818e-01, 1.81818182e-02,\n",
       "         7.27272727e-02],\n",
       "        [2.28787879e+00, 2.45454545e+00, 1.81818182e-01, 1.51515152e-02,\n",
       "         6.06060606e-02]]))"
      ]
     },
     "execution_count": 240,
     "metadata": {},
     "output_type": "execute_result"
    }
   ],
   "source": [
    "Chi1=stats.chi2_contingency(T1)\n",
    "Chi1"
   ]
  },
  {
   "cell_type": "code",
   "execution_count": 242,
   "id": "3b5c044f",
   "metadata": {},
   "outputs": [
    {
     "data": {
      "text/plain": [
       "(127.71945555999517,\n",
       " 1.7772535915434025e-19,\n",
       " 16,\n",
       " array([[6.58909091e+01, 7.06909091e+01, 5.23636364e+00, 4.36363636e-01,\n",
       "         1.74545455e+00],\n",
       "        [7.09242424e+01, 7.60909091e+01, 5.63636364e+00, 4.69696970e-01,\n",
       "         1.87878788e+00],\n",
       "        [1.09818182e+01, 1.17818182e+01, 8.72727273e-01, 7.27272727e-02,\n",
       "         2.90909091e-01],\n",
       "        [2.28787879e+00, 2.45454545e+00, 1.81818182e-01, 1.51515152e-02,\n",
       "         6.06060606e-02],\n",
       "        [9.15151515e-01, 9.81818182e-01, 7.27272727e-02, 6.06060606e-03,\n",
       "         2.42424242e-02]]))"
      ]
     },
     "execution_count": 242,
     "metadata": {},
     "output_type": "execute_result"
    }
   ],
   "source": [
    "Chi2=stats.chi2_contingency(T2)\n",
    "Chi2"
   ]
  },
  {
   "cell_type": "code",
   "execution_count": 246,
   "id": "b72126eb",
   "metadata": {
    "scrolled": true
   },
   "outputs": [
    {
     "data": {
      "text/plain": [
       "(230.61691663391676,\n",
       " 4.783162283608494e-40,\n",
       " 16,\n",
       " array([[6.17727273e+01, 6.62727273e+01, 4.90909091e+00, 4.09090909e-01,\n",
       "         1.63636364e+00],\n",
       "        [7.09242424e+01, 7.60909091e+01, 5.63636364e+00, 4.69696970e-01,\n",
       "         1.87878788e+00],\n",
       "        [1.32696970e+01, 1.42363636e+01, 1.05454545e+00, 8.78787879e-02,\n",
       "         3.51515152e-01],\n",
       "        [3.20303030e+00, 3.43636364e+00, 2.54545455e-01, 2.12121212e-02,\n",
       "         8.48484848e-02],\n",
       "        [1.83030303e+00, 1.96363636e+00, 1.45454545e-01, 1.21212121e-02,\n",
       "         4.84848485e-02]]))"
      ]
     },
     "execution_count": 246,
     "metadata": {},
     "output_type": "execute_result"
    }
   ],
   "source": [
    "Chi3=stats.chi2_contingency(T3)\n",
    "Chi3"
   ]
  },
  {
   "cell_type": "markdown",
   "id": "350959ea",
   "metadata": {},
   "source": [
    "Since New PValues from last 3 X2 tests are less than 0.05, we reject null hypothesis. Hence, Signage, Cleanliness and Parking are linked to Overall Customer Satisfaction "
   ]
  },
  {
   "cell_type": "markdown",
   "id": "4b2c1374",
   "metadata": {},
   "source": [
    "### What is the demographic profile of Film on the Rocks patrons?"
   ]
  },
  {
   "cell_type": "code",
   "execution_count": 249,
   "id": "ee876620",
   "metadata": {},
   "outputs": [
    {
     "data": {
      "text/plain": [
       "Female    213\n",
       "Male      117\n",
       "Name: Gender, dtype: int64"
      ]
     },
     "execution_count": 249,
     "metadata": {},
     "output_type": "execute_result"
    }
   ],
   "source": [
    "Gender= Films.Gender.value_counts()\n",
    "Gender"
   ]
  },
  {
   "cell_type": "code",
   "execution_count": 268,
   "id": "ca8feca1",
   "metadata": {},
   "outputs": [
    {
     "data": {
      "image/png": "[encoded data removed]",
      "text/plain": [
       "<Figure size 432x288 with 1 Axes>"
      ]
     },
     "metadata": {},
     "output_type": "display_data"
    }
   ],
   "source": [
    "Gender.plot(kind='pie',autopct='%1.2f%%')\n",
    "plt.show()"
   ]
  },
  {
   "cell_type": "code",
   "execution_count": 259,
   "id": "57152eb0",
   "metadata": {},
   "outputs": [
    {
     "data": {
      "text/plain": [
       "Single     230\n",
       "Married    100\n",
       "Name: Marital_Status, dtype: int64"
      ]
     },
     "execution_count": 259,
     "metadata": {},
     "output_type": "execute_result"
    }
   ],
   "source": [
    "MaritalStatus= Films.Marital_Status.value_counts()\n",
    "MaritalStatus"
   ]
  },
  {
   "cell_type": "code",
   "execution_count": 269,
   "id": "b8c120a1",
   "metadata": {},
   "outputs": [
    {
     "data": {
      "image/png": "[encoded data removed]",
      "text/plain": [
       "<Figure size 432x288 with 1 Axes>"
      ]
     },
     "metadata": {},
     "output_type": "display_data"
    }
   ],
   "source": [
    "MaritalStatus.plot(kind='pie',autopct='%1.2f%%')\n",
    "plt.show()"
   ]
  },
  {
   "cell_type": "code",
   "execution_count": 263,
   "id": "6da49655",
   "metadata": {},
   "outputs": [
    {
     "data": {
      "text/plain": [
       "2.0    177\n",
       "3.0    117\n",
       "1.0     26\n",
       "4.0     10\n",
       "Name: Age, dtype: int64"
      ]
     },
     "execution_count": 263,
     "metadata": {},
     "output_type": "execute_result"
    }
   ],
   "source": [
    "Age= Films.Age.value_counts()\n",
    "Age"
   ]
  },
  {
   "cell_type": "code",
   "execution_count": 270,
   "id": "c3fcc742",
   "metadata": {},
   "outputs": [
    {
     "data": {
      "image/png": "[encoded data removed]",
      "text/plain": [
       "<Figure size 432x288 with 1 Axes>"
      ]
     },
     "metadata": {},
     "output_type": "display_data"
    }
   ],
   "source": [
    "Age.plot(kind='pie',labels=['13-30','31-60','1-12','60+'],autopct='%1.2f%%')\n",
    "plt.show()"
   ]
  },
  {
   "cell_type": "markdown",
   "id": "6851d84c",
   "metadata": {},
   "source": [
    "### 4 In what media outlet(s) should the film series be advertised?"
   ]
  },
  {
   "cell_type": "code",
   "execution_count": 272,
   "id": "73411845",
   "metadata": {},
   "outputs": [
    {
     "data": {
      "text/plain": [
       "5      233\n",
       "4       41\n",
       "1       22\n",
       "3       14\n",
       "2       12\n",
       "2,5      2\n",
       "3,4      2\n",
       "4,5      1\n",
       "1,5      1\n",
       "5,4      1\n",
       "3,5      1\n",
       "Name: Hear_About, dtype: int64"
      ]
     },
     "execution_count": 272,
     "metadata": {},
     "output_type": "execute_result"
    }
   ],
   "source": [
    "Channel=Films.Hear_About.value_counts()\n",
    "Channel"
   ]
  },
  {
   "cell_type": "code",
   "execution_count": 275,
   "id": "e071c94a",
   "metadata": {},
   "outputs": [
    {
     "data": {
      "text/plain": [
       "<function matplotlib.pyplot.show(close=None, block=None)>"
      ]
     },
     "execution_count": 275,
     "metadata": {},
     "output_type": "execute_result"
    },
    {
     "data": {
      "image/png": "[encoded data removed]",
      "text/plain": [
       "<Figure size 432x288 with 1 Axes>"
      ]
     },
     "metadata": {
      "needs_background": "light"
     },
     "output_type": "display_data"
    }
   ],
   "source": [
    "Channel.plot(kind='bar')\n",
    "plt.show"
   ]
  },
  {
   "cell_type": "markdown",
   "id": "824150df",
   "metadata": {},
   "source": [
    "Word of Mouth was the main channel through which people got to know about the film series, followed by website, television and radio."
   ]
  }
 ],
 "metadata": {
  "kernelspec": {
   "display_name": "Python 3 (ipykernel)",
   "language": "python",
   "name": "python3"
  },
  "language_info": {
   "codemirror_mode": {
    "name": "ipython",
    "version": 3
   },
   "file_extension": ".py",
   "mimetype": "text/x-python",
   "name": "python",
   "nbconvert_exporter": "python",
   "pygments_lexer": "ipython3",
   "version": "3.9.12"
  }
 },
 "nbformat": 4,
 "nbformat_minor": 5
}
